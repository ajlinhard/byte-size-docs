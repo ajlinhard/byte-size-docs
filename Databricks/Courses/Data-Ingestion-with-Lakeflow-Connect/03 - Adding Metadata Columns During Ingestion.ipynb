{
 "cells": [
  {
   "cell_type": "markdown",
   "metadata": {
    "application/vnd.databricks.v1+cell": {
     "cellMetadata": {},
     "inputWidgets": {},
     "nuid": "baddefcb-8875-471e-8c05-5529b833ce0b",
     "showTitle": false,
     "tableResultSettingsMap": {},
     "title": ""
    }
   },
   "source": [
    "\n",
    "<div style=\"text-align: center; line-height: 0; padding-top: 9px;\">\n",
    "  <img src=\"https://databricks.com/wp-content/uploads/2018/03/db-academy-rgb-1200px.png\" alt=\"Databricks Learning\">\n",
    "</div>\n"
   ]
  },
  {
   "cell_type": "markdown",
   "metadata": {
    "application/vnd.databricks.v1+cell": {
     "cellMetadata": {},
     "inputWidgets": {},
     "nuid": "1579aef7-472e-4992-b1f9-1ed1425b5a2f",
     "showTitle": false,
     "tableResultSettingsMap": {},
     "title": ""
    }
   },
   "source": [
    "# 3 - Adding Metadata Columns During Ingestion\n",
    "\n",
    "In this demonstration, we'll explore how to add metadata columns during data ingestion. \n",
    "\n",
    "This process will include adding metadata, converting Unix timestamps to standard `DATE` format, and row  ingestion times.\n",
    "\n",
    "### Learning Objectives\n",
    "\n",
    "By the end of this lesson, you should be able to:\n",
    "\n",
    "- Modify columns during data ingestion from cloud storage to your bronze table.\n",
    "- Add the current ingestion timestamp to the bronze.\n",
    "- Use the `_metadata` column to extract file-level metadata (e.g., file name, modification time) during ingestion."
   ]
  },
  {
   "cell_type": "markdown",
   "metadata": {
    "application/vnd.databricks.v1+cell": {
     "cellMetadata": {},
     "inputWidgets": {},
     "nuid": "d4520f94-4636-402b-bee7-831772da073e",
     "showTitle": false,
     "tableResultSettingsMap": {},
     "title": ""
    }
   },
   "source": [
    "## REQUIRED - SELECT CLASSIC COMPUTE\n",
    "\n",
    "Before executing cells in this notebook, please select your classic compute cluster in the lab. Be aware that **Serverless** is enabled by default and you have a Shared SQL warehouse.\n",
    "\n",
    "<!-- ![Select Cluster](./Includes/images/selecting_cluster_info.png) -->\n",
    "\n",
    "Follow these steps to select the classic compute cluster:\n",
    "\n",
    "\n",
    "1. Navigate to the top-right of this notebook and click the drop-down menu to select your cluster. By default, the notebook will use **Serverless**.\n",
    "\n",
    "2. If your cluster is available, select it and continue to the next cell. If the cluster is not shown:\n",
    "\n",
    "   - Click **More** in the drop-down.\n",
    "\n",
    "   - In the **Attach to an existing compute resource** window, use the first drop-down to select your unique cluster.\n",
    "\n",
    "**NOTE:** If your cluster has terminated, you might need to restart it in order to select it. To do this:\n",
    "\n",
    "1. Right-click on **Compute** in the left navigation pane and select *Open in new tab*.\n",
    "\n",
    "2. Find the triangle icon to the right of your compute cluster name and click it.\n",
    "\n",
    "3. Wait a few minutes for the cluster to start.\n",
    "\n",
    "4. Once the cluster is running, complete the steps above to select your cluster."
   ]
  },
  {
   "cell_type": "markdown",
   "metadata": {
    "application/vnd.databricks.v1+cell": {
     "cellMetadata": {},
     "inputWidgets": {},
     "nuid": "b6a09058-f723-48cd-8b84-d5b47c4de7df",
     "showTitle": false,
     "tableResultSettingsMap": {},
     "title": ""
    }
   },
   "source": [
    "\n",
    "## A. Classroom Setup\n",
    "\n",
    "Run the following cell to configure your working environment for this notebook.\n",
    "\n",
    "**NOTE:** The `DA` object is only used in Databricks Academy courses and is not available outside of these courses. It will dynamically reference the information needed to run the course in the lab environment."
   ]
  },
  {
   "cell_type": "code",
   "execution_count": 0,
   "metadata": {
    "application/vnd.databricks.v1+cell": {
     "cellMetadata": {
      "byteLimit": 2048000,
      "implicitDf": true,
      "rowLimit": 10000
     },
     "inputWidgets": {},
     "nuid": "9eea7660-9be1-41c4-8e83-4e083678c79d",
     "showTitle": false,
     "tableResultSettingsMap": {},
     "title": ""
    }
   },
   "outputs": [
    {
     "output_type": "stream",
     "name": "stdout",
     "output_type": "stream",
     "text": [
      "\u001B[43mNote: you may need to restart the kernel using %restart_python or dbutils.library.restartPython() to use updated packages.\u001B[0m\n"
     ]
    },
    {
     "output_type": "display_data",
     "data": {
      "text/html": [
       "<style scoped>\n",
       "  .table-result-container {\n",
       "    max-height: 300px;\n",
       "    overflow: auto;\n",
       "  }\n",
       "  table, th, td {\n",
       "    border: 1px solid black;\n",
       "    border-collapse: collapse;\n",
       "  }\n",
       "  th, td {\n",
       "    padding: 5px;\n",
       "  }\n",
       "  th {\n",
       "    text-align: left;\n",
       "  }\n",
       "</style><div class='table-result-container'><table class='table-result'><thead style='background-color: white'><tr></tr></thead><tbody></tbody></table></div>"
      ]
     },
     "metadata": {
      "application/vnd.databricks.v1+output": {
       "addedWidgets": {},
       "aggData": [],
       "aggError": "",
       "aggOverflow": false,
       "aggSchema": [],
       "aggSeriesLimitReached": false,
       "aggType": "",
       "arguments": {},
       "columnCustomDisplayInfos": {},
       "data": [],
       "datasetInfos": [],
       "dbfsResultPath": null,
       "isJsonSchema": true,
       "metadata": {},
       "overflow": false,
       "plotOptions": {
        "customPlotOptions": {},
        "displayType": "table",
        "pivotAggregation": null,
        "pivotColumns": null,
        "xColumns": null,
        "yColumns": null
       },
       "removedWidgets": [],
       "schema": [],
       "type": "table"
      }
     },
     "output_type": "display_data"
    },
    {
     "output_type": "stream",
     "name": "stdout",
     "output_type": "stream",
     "text": [
      "----------------------------------------------------------------------------------------\nDirectory /Volumes/dbacademy/ops/labuser10989365_1753203474@vocareum_com/csv_demo_files already exists. No action taken.\nDirectory /Volumes/dbacademy/ops/labuser10989365_1753203474@vocareum_com/json_demo_files already exists. No action taken.\nDirectory /Volumes/dbacademy/ops/labuser10989365_1753203474@vocareum_com/xml_demo_files already exists. No action taken.\n----------------------------------------------------------------------------------------\n\n"
     ]
    },
    {
     "output_type": "display_data",
     "data": {
      "text/html": [
       "<style scoped>\n",
       "  .table-result-container {\n",
       "    max-height: 300px;\n",
       "    overflow: auto;\n",
       "  }\n",
       "  table, th, td {\n",
       "    border: 1px solid black;\n",
       "    border-collapse: collapse;\n",
       "  }\n",
       "  th, td {\n",
       "    padding: 5px;\n",
       "  }\n",
       "  th {\n",
       "    text-align: left;\n",
       "  }\n",
       "</style><div class='table-result-container'><table class='table-result'><thead style='background-color: white'><tr></tr></thead><tbody></tbody></table></div>"
      ]
     },
     "metadata": {
      "application/vnd.databricks.v1+output": {
       "addedWidgets": {},
       "aggData": [],
       "aggError": "",
       "aggOverflow": false,
       "aggSchema": [],
       "aggSeriesLimitReached": false,
       "aggType": "",
       "arguments": {},
       "columnCustomDisplayInfos": {},
       "data": [],
       "datasetInfos": [],
       "dbfsResultPath": null,
       "isJsonSchema": true,
       "metadata": {},
       "overflow": false,
       "plotOptions": {
        "customPlotOptions": {},
        "displayType": "table",
        "pivotAggregation": null,
        "pivotColumns": null,
        "xColumns": null,
        "yColumns": null
       },
       "removedWidgets": [],
       "schema": [],
       "type": "table"
      }
     },
     "output_type": "display_data"
    }
   ],
   "source": [
    "%run ./Includes/Classroom-Setup-03"
   ]
  },
  {
   "cell_type": "markdown",
   "metadata": {
    "application/vnd.databricks.v1+cell": {
     "cellMetadata": {},
     "inputWidgets": {},
     "nuid": "31dcd78e-3443-4e26-8ca2-bf270e45a1a5",
     "showTitle": false,
     "tableResultSettingsMap": {},
     "title": ""
    }
   },
   "source": [
    "Run the cell below to view your default catalog and schema. Notice that your default catalog is **dbacademy** and your default schema is your unique **labuser** schema.\n",
    "\n",
    "**NOTE:** The default catalog and schema are pre-configured for you to avoid the need to specify the three-level name when writing your tables to your **labuser** schema (i.e., catalog.schema.table)."
   ]
  },
  {
   "cell_type": "code",
   "execution_count": 0,
   "metadata": {
    "application/vnd.databricks.v1+cell": {
     "cellMetadata": {
      "byteLimit": 2048000,
      "rowLimit": 10000
     },
     "inputWidgets": {},
     "nuid": "b5a49c4b-6058-42e1-befd-fdd34d0d3517",
     "showTitle": true,
     "tableResultSettingsMap": {},
     "title": "View current catalog and schema"
    }
   },
   "outputs": [
    {
     "output_type": "display_data",
     "data": {
      "text/html": [
       "<style scoped>\n",
       "  .table-result-container {\n",
       "    max-height: 300px;\n",
       "    overflow: auto;\n",
       "  }\n",
       "  table, th, td {\n",
       "    border: 1px solid black;\n",
       "    border-collapse: collapse;\n",
       "  }\n",
       "  th, td {\n",
       "    padding: 5px;\n",
       "  }\n",
       "  th {\n",
       "    text-align: left;\n",
       "  }\n",
       "</style><div class='table-result-container'><table class='table-result'><thead style='background-color: white'><tr><th>current_catalog()</th><th>current_schema()</th></tr></thead><tbody><tr><td>dbacademy</td><td>labuser10989365_1753203474</td></tr></tbody></table></div>"
      ]
     },
     "metadata": {
      "application/vnd.databricks.v1+output": {
       "addedWidgets": {},
       "aggData": [],
       "aggError": "",
       "aggOverflow": false,
       "aggSchema": [],
       "aggSeriesLimitReached": false,
       "aggType": "",
       "arguments": {},
       "columnCustomDisplayInfos": {},
       "data": [
        [
         "dbacademy",
         "labuser10989365_1753203474"
        ]
       ],
       "datasetInfos": [],
       "dbfsResultPath": null,
       "isJsonSchema": true,
       "metadata": {
        "isDbfsCommandResult": false
       },
       "overflow": false,
       "plotOptions": {
        "customPlotOptions": {},
        "displayType": "table",
        "pivotAggregation": null,
        "pivotColumns": null,
        "xColumns": null,
        "yColumns": null
       },
       "removedWidgets": [],
       "schema": [
        {
         "metadata": "{\"__autoGeneratedAlias\":\"true\"}",
         "name": "current_catalog()",
         "type": "\"string\""
        },
        {
         "metadata": "{\"__autoGeneratedAlias\":\"true\"}",
         "name": "current_schema()",
         "type": "\"string\""
        }
       ],
       "type": "table"
      }
     },
     "output_type": "display_data"
    }
   ],
   "source": [
    "SELECT current_catalog(), current_schema()"
   ]
  },
  {
   "cell_type": "markdown",
   "metadata": {
    "application/vnd.databricks.v1+cell": {
     "cellMetadata": {},
     "inputWidgets": {},
     "nuid": "e3cbc522-b3b0-42e6-bb76-65fbd2df4315",
     "showTitle": false,
     "tableResultSettingsMap": {},
     "title": ""
    }
   },
   "source": [
    "## B. Explore the Data Source Files\n"
   ]
  },
  {
   "cell_type": "markdown",
   "metadata": {
    "application/vnd.databricks.v1+cell": {
     "cellMetadata": {},
     "inputWidgets": {},
     "nuid": "17c55a02-a800-43fa-99d3-90653c7ca85b",
     "showTitle": false,
     "tableResultSettingsMap": {},
     "title": ""
    }
   },
   "source": [
    "1. We'll create a table containing historical user data from Parquet files stored in the volume  \n",
    "   `'/Volumes/dbacademy_ecommerce/v01/raw/users-historical'` within Unity Catalog.\n",
    "\n",
    "   Use the `LIST` statement to view the files in this volume. Run the cell and review the results.\n",
    "\n",
    "   View the values in the **name** column that begin with **part-**. This shows that this volume contains multiple **Parquet** files."
   ]
  },
  {
   "cell_type": "code",
   "execution_count": 0,
   "metadata": {
    "application/vnd.databricks.v1+cell": {
     "cellMetadata": {
      "byteLimit": 2048000,
      "rowLimit": 10000
     },
     "inputWidgets": {},
     "nuid": "a52b4423-5208-4ba5-b45d-83ee54a07e90",
     "showTitle": true,
     "tableResultSettingsMap": {
      "0": {
       "dataGridStateBlob": "{\"version\":1,\"tableState\":{\"columnPinning\":{\"left\":[\"#row_number#\"],\"right\":[]},\"columnSizing\":{\"path\":951},\"columnVisibility\":{}},\"settings\":{\"columns\":{}},\"syncTimestamp\":1753213952792}",
       "filterBlob": null,
       "queryPlanFiltersBlob": null,
       "tableResultIndex": 0
      }
     },
     "title": "List files in a raw/users-historical volume"
    }
   },
   "outputs": [
    {
     "output_type": "display_data",
     "data": {
      "text/html": [
       "<style scoped>\n",
       "  .table-result-container {\n",
       "    max-height: 300px;\n",
       "    overflow: auto;\n",
       "  }\n",
       "  table, th, td {\n",
       "    border: 1px solid black;\n",
       "    border-collapse: collapse;\n",
       "  }\n",
       "  th, td {\n",
       "    padding: 5px;\n",
       "  }\n",
       "  th {\n",
       "    text-align: left;\n",
       "  }\n",
       "</style><div class='table-result-container'><table class='table-result'><thead style='background-color: white'><tr><th>path</th><th>name</th><th>size</th><th>modification_time</th></tr></thead><tbody><tr><td>/Volumes/dbacademy_ecommerce/v01/raw/users-historical/_SUCCESS</td><td>_SUCCESS</td><td>0</td><td>1726173048000</td></tr><tr><td>/Volumes/dbacademy_ecommerce/v01/raw/users-historical/_committed_531959640415905750</td><td>_committed_531959640415905750</td><td>424</td><td>1726173048000</td></tr><tr><td>/Volumes/dbacademy_ecommerce/v01/raw/users-historical/_started_531959640415905750</td><td>_started_531959640415905750</td><td>0</td><td>1726173049000</td></tr><tr><td>/Volumes/dbacademy_ecommerce/v01/raw/users-historical/part-00000-tid-531959640415905750-948b4f2d-2d35-46e3-97eb-e6d85d2bf872-7571-1-c000.snappy.parquet</td><td>part-00000-tid-531959640415905750-948b4f2d-2d35-46e3-97eb-e6d85d2bf872-7571-1-c000.snappy.parquet</td><td>974753</td><td>1726173049000</td></tr><tr><td>/Volumes/dbacademy_ecommerce/v01/raw/users-historical/part-00001-tid-531959640415905750-948b4f2d-2d35-46e3-97eb-e6d85d2bf872-7572-1-c000.snappy.parquet</td><td>part-00001-tid-531959640415905750-948b4f2d-2d35-46e3-97eb-e6d85d2bf872-7572-1-c000.snappy.parquet</td><td>976470</td><td>1726173049000</td></tr><tr><td>/Volumes/dbacademy_ecommerce/v01/raw/users-historical/part-00002-tid-531959640415905750-948b4f2d-2d35-46e3-97eb-e6d85d2bf872-7573-1-c000.snappy.parquet</td><td>part-00002-tid-531959640415905750-948b4f2d-2d35-46e3-97eb-e6d85d2bf872-7573-1-c000.snappy.parquet</td><td>980390</td><td>1726173049000</td></tr><tr><td>/Volumes/dbacademy_ecommerce/v01/raw/users-historical/part-00003-tid-531959640415905750-948b4f2d-2d35-46e3-97eb-e6d85d2bf872-7574-1-c000.snappy.parquet</td><td>part-00003-tid-531959640415905750-948b4f2d-2d35-46e3-97eb-e6d85d2bf872-7574-1-c000.snappy.parquet</td><td>979632</td><td>1726173050000</td></tr></tbody></table></div>"
      ]
     },
     "metadata": {
      "application/vnd.databricks.v1+output": {
       "addedWidgets": {},
       "aggData": [],
       "aggError": "",
       "aggOverflow": false,
       "aggSchema": [],
       "aggSeriesLimitReached": false,
       "aggType": "",
       "arguments": {},
       "columnCustomDisplayInfos": {},
       "data": [
        [
         "/Volumes/dbacademy_ecommerce/v01/raw/users-historical/_SUCCESS",
         "_SUCCESS",
         0,
         1726173048000
        ],
        [
         "/Volumes/dbacademy_ecommerce/v01/raw/users-historical/_committed_531959640415905750",
         "_committed_531959640415905750",
         424,
         1726173048000
        ],
        [
         "/Volumes/dbacademy_ecommerce/v01/raw/users-historical/_started_531959640415905750",
         "_started_531959640415905750",
         0,
         1726173049000
        ],
        [
         "/Volumes/dbacademy_ecommerce/v01/raw/users-historical/part-00000-tid-531959640415905750-948b4f2d-2d35-46e3-97eb-e6d85d2bf872-7571-1-c000.snappy.parquet",
         "part-00000-tid-531959640415905750-948b4f2d-2d35-46e3-97eb-e6d85d2bf872-7571-1-c000.snappy.parquet",
         974753,
         1726173049000
        ],
        [
         "/Volumes/dbacademy_ecommerce/v01/raw/users-historical/part-00001-tid-531959640415905750-948b4f2d-2d35-46e3-97eb-e6d85d2bf872-7572-1-c000.snappy.parquet",
         "part-00001-tid-531959640415905750-948b4f2d-2d35-46e3-97eb-e6d85d2bf872-7572-1-c000.snappy.parquet",
         976470,
         1726173049000
        ],
        [
         "/Volumes/dbacademy_ecommerce/v01/raw/users-historical/part-00002-tid-531959640415905750-948b4f2d-2d35-46e3-97eb-e6d85d2bf872-7573-1-c000.snappy.parquet",
         "part-00002-tid-531959640415905750-948b4f2d-2d35-46e3-97eb-e6d85d2bf872-7573-1-c000.snappy.parquet",
         980390,
         1726173049000
        ],
        [
         "/Volumes/dbacademy_ecommerce/v01/raw/users-historical/part-00003-tid-531959640415905750-948b4f2d-2d35-46e3-97eb-e6d85d2bf872-7574-1-c000.snappy.parquet",
         "part-00003-tid-531959640415905750-948b4f2d-2d35-46e3-97eb-e6d85d2bf872-7574-1-c000.snappy.parquet",
         979632,
         1726173050000
        ]
       ],
       "datasetInfos": [],
       "dbfsResultPath": null,
       "isJsonSchema": true,
       "metadata": {
        "isDbfsCommandResult": false
       },
       "overflow": false,
       "plotOptions": {
        "customPlotOptions": {},
        "displayType": "table",
        "pivotAggregation": null,
        "pivotColumns": null,
        "xColumns": null,
        "yColumns": null
       },
       "removedWidgets": [],
       "schema": [
        {
         "metadata": "{}",
         "name": "path",
         "type": "\"string\""
        },
        {
         "metadata": "{}",
         "name": "name",
         "type": "\"string\""
        },
        {
         "metadata": "{}",
         "name": "size",
         "type": "\"long\""
        },
        {
         "metadata": "{}",
         "name": "modification_time",
         "type": "\"long\""
        }
       ],
       "type": "table"
      }
     },
     "output_type": "display_data"
    }
   ],
   "source": [
    "LIST '/Volumes/dbacademy_ecommerce/v01/raw/users-historical'"
   ]
  },
  {
   "cell_type": "markdown",
   "metadata": {
    "application/vnd.databricks.v1+cell": {
     "cellMetadata": {},
     "inputWidgets": {},
     "nuid": "a4a02187-5247-49f2-9443-1954ef0dd137",
     "showTitle": false,
     "tableResultSettingsMap": {},
     "title": ""
    }
   },
   "source": [
    "## C. Adding Metadata Columns to the Bronze Table During Ingestion\n",
    "\n",
    "When ingesting data into the Bronze layer, you can apply transformations during ingestion and also retrieve metadata about the input files using the **_metadata** column.\n",
    "\n",
    "The **_metadata** column is a hidden column available for all supported file formats. To include it in the returned data, you must explicitly select it in the read query that specifies the source.\n",
    "\n",
    "\n",
    "### Ingestion Requirements\n",
    "\n",
    "During data ingestion, we'll perform the following actions:\n",
    "\n",
    "1. Convert the parquet Unix timestamp to a `DATE` column.\n",
    "\n",
    "2. Include the **input file name** to indicate the data raw source.\n",
    "\n",
    "3. Include the **last modification** timestamp of the input file.\n",
    "\n",
    "4. Add the **file ingestion time** to the Bronze table.\n",
    "\n",
    "**Note:** The `_metadata` column is available across all supported input file formats.\n"
   ]
  },
  {
   "cell_type": "markdown",
   "metadata": {
    "application/vnd.databricks.v1+cell": {
     "cellMetadata": {},
     "inputWidgets": {},
     "nuid": "c3abd819-34e5-421a-8df0-3d4b23392044",
     "showTitle": false,
     "tableResultSettingsMap": {},
     "title": ""
    }
   },
   "source": [
    "1. Run the cell below to display the parquet data in the `\"/Volumes/dbacademy_ecommerce/v01/raw/users-historical\"` volume and view the results.\n",
    "\n",
    "    Notice that the **user_first_touch_timestamp** column has a Unix timestamp."
   ]
  },
  {
   "cell_type": "code",
   "execution_count": 0,
   "metadata": {
    "application/vnd.databricks.v1+cell": {
     "cellMetadata": {
      "byteLimit": 2048000,
      "rowLimit": 10000
     },
     "inputWidgets": {},
     "nuid": "84d28e5e-1a02-47e1-a155-ae660a8ca6c0",
     "showTitle": false,
     "tableResultSettingsMap": {},
     "title": ""
    }
   },
   "outputs": [
    {
     "output_type": "display_data",
     "data": {
      "text/html": [
       "<style scoped>\n",
       "  .table-result-container {\n",
       "    max-height: 300px;\n",
       "    overflow: auto;\n",
       "  }\n",
       "  table, th, td {\n",
       "    border: 1px solid black;\n",
       "    border-collapse: collapse;\n",
       "  }\n",
       "  th, td {\n",
       "    padding: 5px;\n",
       "  }\n",
       "  th {\n",
       "    text-align: left;\n",
       "  }\n",
       "</style><div class='table-result-container'><table class='table-result'><thead style='background-color: white'><tr><th>user_id</th><th>user_first_touch_timestamp</th><th>email</th><th>_rescued_data</th></tr></thead><tbody><tr><td>UA000000102357351</td><td>1592187804331222</td><td>null</td><td>null</td></tr><tr><td>UA000000102357772</td><td>1592196585484760</td><td>null</td><td>null</td></tr><tr><td>UA000000102358075</td><td>1592198929755893</td><td>null</td><td>null</td></tr><tr><td>UA000000102358422</td><td>1592200681180797</td><td>null</td><td>null</td></tr><tr><td>UA000000102358489</td><td>1592200952155132</td><td>null</td><td>null</td></tr><tr><td>UA000000102358495</td><td>1592200983001857</td><td>null</td><td>null</td></tr><tr><td>UA000000102358794</td><td>1592202111344629</td><td>null</td><td>null</td></tr><tr><td>UA000000102358914</td><td>1592202501646714</td><td>null</td><td>null</td></tr><tr><td>UA000000102359033</td><td>1592202891556793</td><td>null</td><td>null</td></tr><tr><td>UA000000102359145</td><td>1592203235808647</td><td>null</td><td>null</td></tr></tbody></table></div>"
      ]
     },
     "metadata": {
      "application/vnd.databricks.v1+output": {
       "addedWidgets": {},
       "aggData": [],
       "aggError": "",
       "aggOverflow": false,
       "aggSchema": [],
       "aggSeriesLimitReached": false,
       "aggType": "",
       "arguments": {},
       "columnCustomDisplayInfos": {},
       "data": [
        [
         "UA000000102357351",
         1592187804331222,
         null,
         null
        ],
        [
         "UA000000102357772",
         1592196585484760,
         null,
         null
        ],
        [
         "UA000000102358075",
         1592198929755893,
         null,
         null
        ],
        [
         "UA000000102358422",
         1592200681180797,
         null,
         null
        ],
        [
         "UA000000102358489",
         1592200952155132,
         null,
         null
        ],
        [
         "UA000000102358495",
         1592200983001857,
         null,
         null
        ],
        [
         "UA000000102358794",
         1592202111344629,
         null,
         null
        ],
        [
         "UA000000102358914",
         1592202501646714,
         null,
         null
        ],
        [
         "UA000000102359033",
         1592202891556793,
         null,
         null
        ],
        [
         "UA000000102359145",
         1592203235808647,
         null,
         null
        ]
       ],
       "datasetInfos": [],
       "dbfsResultPath": null,
       "isJsonSchema": true,
       "metadata": {
        "isDbfsCommandResult": false
       },
       "overflow": false,
       "plotOptions": {
        "customPlotOptions": {},
        "displayType": "table",
        "pivotAggregation": null,
        "pivotColumns": null,
        "xColumns": null,
        "yColumns": null
       },
       "removedWidgets": [],
       "schema": [
        {
         "metadata": "{}",
         "name": "user_id",
         "type": "\"string\""
        },
        {
         "metadata": "{}",
         "name": "user_first_touch_timestamp",
         "type": "\"long\""
        },
        {
         "metadata": "{}",
         "name": "email",
         "type": "\"string\""
        },
        {
         "metadata": "{}",
         "name": "_rescued_data",
         "type": "\"string\""
        }
       ],
       "type": "table"
      }
     },
     "output_type": "display_data"
    }
   ],
   "source": [
    "SELECT *\n",
    "FROM read_files(\n",
    "  \"/Volumes/dbacademy_ecommerce/v01/raw/users-historical\",\n",
    "  format => 'parquet')\n",
    "LIMIT 10;"
   ]
  },
  {
   "cell_type": "markdown",
   "metadata": {
    "application/vnd.databricks.v1+cell": {
     "cellMetadata": {},
     "inputWidgets": {},
     "nuid": "850138ee-7567-45a6-891f-7259f648c6bb",
     "showTitle": false,
     "tableResultSettingsMap": {},
     "title": ""
    }
   },
   "source": [
    "\n",
    "### C1. Convert the Unix Time on Ingestion to Bronze\n",
    "\n",
    "The Unix timestamp column **user_first_touch_timestamp** values represent the time in microseconds since the Unix epoch (January 1, 1970).\n",
    "\n",
    "To create a readable date column, use the [`from_unixtime()`](https://docs.databricks.com/en/sql/language-manual/functions/from_unixtime.html) function, converting the **user_first_touch_timestamp** from microseconds to seconds by dividing by 1,000,000."
   ]
  },
  {
   "cell_type": "markdown",
   "metadata": {
    "application/vnd.databricks.v1+cell": {
     "cellMetadata": {},
     "inputWidgets": {},
     "nuid": "f0fead93-8a8b-4d2f-a342-c6b5ff3bfc70",
     "showTitle": false,
     "tableResultSettingsMap": {},
     "title": ""
    }
   },
   "source": [
    "1. Run the query and review the results. The query generates a new column, **first_touch_date**, by converting the Unix timestamp into a human-readable date column.\n",
    "\n",
    "   Run the cell and view the **first_touch_date** column. Notice the **first_touch_date** column is cast to a data type of **DATE**."
   ]
  },
  {
   "cell_type": "code",
   "execution_count": 0,
   "metadata": {
    "application/vnd.databricks.v1+cell": {
     "cellMetadata": {
      "byteLimit": 2048000,
      "rowLimit": 10000
     },
     "inputWidgets": {},
     "nuid": "60c9944c-a1e3-4b84-9e12-59c4659e4ee6",
     "showTitle": true,
     "tableResultSettingsMap": {
      "0": {
       "dataGridStateBlob": "{\"version\":1,\"tableState\":{\"columnPinning\":{\"left\":[\"#row_number#\"],\"right\":[]},\"columnSizing\":{\"first_touch_date\":106},\"columnVisibility\":{}},\"settings\":{\"columns\":{}},\"syncTimestamp\":1753214086499}",
       "filterBlob": null,
       "queryPlanFiltersBlob": null,
       "tableResultIndex": 0
      }
     },
     "title": "Convert UNIX timestamp"
    }
   },
   "outputs": [
    {
     "output_type": "display_data",
     "data": {
      "text/html": [
       "<style scoped>\n",
       "  .table-result-container {\n",
       "    max-height: 300px;\n",
       "    overflow: auto;\n",
       "  }\n",
       "  table, th, td {\n",
       "    border: 1px solid black;\n",
       "    border-collapse: collapse;\n",
       "  }\n",
       "  th, td {\n",
       "    padding: 5px;\n",
       "  }\n",
       "  th {\n",
       "    text-align: left;\n",
       "  }\n",
       "</style><div class='table-result-container'><table class='table-result'><thead style='background-color: white'><tr><th>user_id</th><th>user_first_touch_timestamp</th><th>email</th><th>_rescued_data</th><th>first_touch_date</th><th>first_touch_datetime</th></tr></thead><tbody><tr><td>UA000000102357351</td><td>1592187804331222</td><td>null</td><td>null</td><td>2020-06-15</td><td>2020-06-15 02:23:24</td></tr><tr><td>UA000000102357772</td><td>1592196585484760</td><td>null</td><td>null</td><td>2020-06-15</td><td>2020-06-15 04:49:45</td></tr><tr><td>UA000000102358075</td><td>1592198929755893</td><td>null</td><td>null</td><td>2020-06-15</td><td>2020-06-15 05:28:49</td></tr><tr><td>UA000000102358422</td><td>1592200681180797</td><td>null</td><td>null</td><td>2020-06-15</td><td>2020-06-15 05:58:01</td></tr><tr><td>UA000000102358489</td><td>1592200952155132</td><td>null</td><td>null</td><td>2020-06-15</td><td>2020-06-15 06:02:32</td></tr><tr><td>UA000000102358495</td><td>1592200983001857</td><td>null</td><td>null</td><td>2020-06-15</td><td>2020-06-15 06:03:03</td></tr><tr><td>UA000000102358794</td><td>1592202111344629</td><td>null</td><td>null</td><td>2020-06-15</td><td>2020-06-15 06:21:51</td></tr><tr><td>UA000000102358914</td><td>1592202501646714</td><td>null</td><td>null</td><td>2020-06-15</td><td>2020-06-15 06:28:21</td></tr><tr><td>UA000000102359033</td><td>1592202891556793</td><td>null</td><td>null</td><td>2020-06-15</td><td>2020-06-15 06:34:51</td></tr><tr><td>UA000000102359145</td><td>1592203235808647</td><td>null</td><td>null</td><td>2020-06-15</td><td>2020-06-15 06:40:35</td></tr></tbody></table></div>"
      ]
     },
     "metadata": {
      "application/vnd.databricks.v1+output": {
       "addedWidgets": {},
       "aggData": [],
       "aggError": "",
       "aggOverflow": false,
       "aggSchema": [],
       "aggSeriesLimitReached": false,
       "aggType": "",
       "arguments": {},
       "columnCustomDisplayInfos": {},
       "data": [
        [
         "UA000000102357351",
         1592187804331222,
         null,
         null,
         "2020-06-15",
         "2020-06-15 02:23:24"
        ],
        [
         "UA000000102357772",
         1592196585484760,
         null,
         null,
         "2020-06-15",
         "2020-06-15 04:49:45"
        ],
        [
         "UA000000102358075",
         1592198929755893,
         null,
         null,
         "2020-06-15",
         "2020-06-15 05:28:49"
        ],
        [
         "UA000000102358422",
         1592200681180797,
         null,
         null,
         "2020-06-15",
         "2020-06-15 05:58:01"
        ],
        [
         "UA000000102358489",
         1592200952155132,
         null,
         null,
         "2020-06-15",
         "2020-06-15 06:02:32"
        ],
        [
         "UA000000102358495",
         1592200983001857,
         null,
         null,
         "2020-06-15",
         "2020-06-15 06:03:03"
        ],
        [
         "UA000000102358794",
         1592202111344629,
         null,
         null,
         "2020-06-15",
         "2020-06-15 06:21:51"
        ],
        [
         "UA000000102358914",
         1592202501646714,
         null,
         null,
         "2020-06-15",
         "2020-06-15 06:28:21"
        ],
        [
         "UA000000102359033",
         1592202891556793,
         null,
         null,
         "2020-06-15",
         "2020-06-15 06:34:51"
        ],
        [
         "UA000000102359145",
         1592203235808647,
         null,
         null,
         "2020-06-15",
         "2020-06-15 06:40:35"
        ]
       ],
       "datasetInfos": [],
       "dbfsResultPath": null,
       "isJsonSchema": true,
       "metadata": {
        "isDbfsCommandResult": false
       },
       "overflow": false,
       "plotOptions": {
        "customPlotOptions": {},
        "displayType": "table",
        "pivotAggregation": null,
        "pivotColumns": null,
        "xColumns": null,
        "yColumns": null
       },
       "removedWidgets": [],
       "schema": [
        {
         "metadata": "{}",
         "name": "user_id",
         "type": "\"string\""
        },
        {
         "metadata": "{}",
         "name": "user_first_touch_timestamp",
         "type": "\"long\""
        },
        {
         "metadata": "{}",
         "name": "email",
         "type": "\"string\""
        },
        {
         "metadata": "{}",
         "name": "_rescued_data",
         "type": "\"string\""
        },
        {
         "metadata": "{}",
         "name": "first_touch_date",
         "type": "\"date\""
        },
        {
         "metadata": "{}",
         "name": "first_touch_datetime",
         "type": "\"string\""
        }
       ],
       "type": "table"
      }
     },
     "output_type": "display_data"
    }
   ],
   "source": [
    "SELECT\n",
    "  *,\n",
    "  cast(from_unixtime(user_first_touch_timestamp/1000000) AS DATE) AS first_touch_date,\n",
    "  from_unixtime(user_first_touch_timestamp/1000000) AS first_touch_datetime\n",
    "\n",
    "FROM read_files(\n",
    "  \"/Volumes/dbacademy_ecommerce/v01/raw/users-historical\",\n",
    "  format => 'parquet')\n",
    "LIMIT 10;"
   ]
  },
  {
   "cell_type": "markdown",
   "metadata": {
    "application/vnd.databricks.v1+cell": {
     "cellMetadata": {},
     "inputWidgets": {},
     "nuid": "5d8e509f-8cdb-4ad1-8e56-01fa95a1d944",
     "showTitle": false,
     "tableResultSettingsMap": {},
     "title": ""
    }
   },
   "source": [
    "\n",
    "### C2. Adding Column Metadata on Ingestion\n",
    "\n",
    "\n",
    "\n",
    "\n",
    "The following metadata can be added to the bronze table:\n",
    "\n",
    "- `_metadata.file_modification_time`: Adds the last modification time of the input file.\n",
    "\n",
    "- `_metadata.file_name`: Adds the input file name.\n",
    "\n",
    "- [`current_timestamp()`](https://docs.databricks.com/aws/en/sql/language-manual/functions/current_timestamp): Returns the current timestamp (`TIMESTAMP` data type) when the query starts, useful for tracking ingestion time.\n",
    "\n",
    "You can read more about the `_metadata` column in the [Databricks documentation](https://docs.databricks.com/en/ingestion/file-metadata-column.html)."
   ]
  },
  {
   "cell_type": "markdown",
   "metadata": {
    "application/vnd.databricks.v1+cell": {
     "cellMetadata": {},
     "inputWidgets": {},
     "nuid": "026bc608-0863-49f5-9fe8-15d52eb97630",
     "showTitle": false,
     "tableResultSettingsMap": {},
     "title": ""
    }
   },
   "source": [
    "1. Run the query below to add the following columns:\n",
    "\n",
    "   - **file_modification_time** and **file_name**, using the **_metadata** column to capture input file details.  \n",
    "   \n",
    "   - **ingestion_time**, which records the exact time the data was ingested.\n",
    "\n",
    "   Review the results. You should see the new columns **file_modification_time**, **source_file**, and **ingestion_time** added to the output."
   ]
  },
  {
   "cell_type": "code",
   "execution_count": 0,
   "metadata": {
    "application/vnd.databricks.v1+cell": {
     "cellMetadata": {
      "byteLimit": 2048000,
      "rowLimit": 10000
     },
     "inputWidgets": {},
     "nuid": "8af5e7d7-9368-47ce-af3b-c65c4599dde3",
     "showTitle": true,
     "tableResultSettingsMap": {},
     "title": "Add metadata columns"
    }
   },
   "outputs": [
    {
     "output_type": "display_data",
     "data": {
      "text/html": [
       "<style scoped>\n",
       "  .table-result-container {\n",
       "    max-height: 300px;\n",
       "    overflow: auto;\n",
       "  }\n",
       "  table, th, td {\n",
       "    border: 1px solid black;\n",
       "    border-collapse: collapse;\n",
       "  }\n",
       "  th, td {\n",
       "    padding: 5px;\n",
       "  }\n",
       "  th {\n",
       "    text-align: left;\n",
       "  }\n",
       "</style><div class='table-result-container'><table class='table-result'><thead style='background-color: white'><tr><th>user_id</th><th>user_first_touch_timestamp</th><th>email</th><th>_rescued_data</th><th>first_touch_date</th><th>file_modification_time</th><th>source_file</th><th>ingestion_time</th></tr></thead><tbody><tr><td>UA000000102357351</td><td>1592187804331222</td><td>null</td><td>null</td><td>2020-06-15</td><td>2024-09-12T20:30:49Z</td><td>part-00002-tid-531959640415905750-948b4f2d-2d35-46e3-97eb-e6d85d2bf872-7573-1-c000.snappy.parquet</td><td>2025-07-22T20:02:56.989006Z</td></tr><tr><td>UA000000102357772</td><td>1592196585484760</td><td>null</td><td>null</td><td>2020-06-15</td><td>2024-09-12T20:30:49Z</td><td>part-00002-tid-531959640415905750-948b4f2d-2d35-46e3-97eb-e6d85d2bf872-7573-1-c000.snappy.parquet</td><td>2025-07-22T20:02:56.989006Z</td></tr><tr><td>UA000000102358075</td><td>1592198929755893</td><td>null</td><td>null</td><td>2020-06-15</td><td>2024-09-12T20:30:49Z</td><td>part-00002-tid-531959640415905750-948b4f2d-2d35-46e3-97eb-e6d85d2bf872-7573-1-c000.snappy.parquet</td><td>2025-07-22T20:02:56.989006Z</td></tr><tr><td>UA000000102358422</td><td>1592200681180797</td><td>null</td><td>null</td><td>2020-06-15</td><td>2024-09-12T20:30:49Z</td><td>part-00002-tid-531959640415905750-948b4f2d-2d35-46e3-97eb-e6d85d2bf872-7573-1-c000.snappy.parquet</td><td>2025-07-22T20:02:56.989006Z</td></tr><tr><td>UA000000102358489</td><td>1592200952155132</td><td>null</td><td>null</td><td>2020-06-15</td><td>2024-09-12T20:30:49Z</td><td>part-00002-tid-531959640415905750-948b4f2d-2d35-46e3-97eb-e6d85d2bf872-7573-1-c000.snappy.parquet</td><td>2025-07-22T20:02:56.989006Z</td></tr><tr><td>UA000000102358495</td><td>1592200983001857</td><td>null</td><td>null</td><td>2020-06-15</td><td>2024-09-12T20:30:49Z</td><td>part-00002-tid-531959640415905750-948b4f2d-2d35-46e3-97eb-e6d85d2bf872-7573-1-c000.snappy.parquet</td><td>2025-07-22T20:02:56.989006Z</td></tr><tr><td>UA000000102358794</td><td>1592202111344629</td><td>null</td><td>null</td><td>2020-06-15</td><td>2024-09-12T20:30:49Z</td><td>part-00002-tid-531959640415905750-948b4f2d-2d35-46e3-97eb-e6d85d2bf872-7573-1-c000.snappy.parquet</td><td>2025-07-22T20:02:56.989006Z</td></tr><tr><td>UA000000102358914</td><td>1592202501646714</td><td>null</td><td>null</td><td>2020-06-15</td><td>2024-09-12T20:30:49Z</td><td>part-00002-tid-531959640415905750-948b4f2d-2d35-46e3-97eb-e6d85d2bf872-7573-1-c000.snappy.parquet</td><td>2025-07-22T20:02:56.989006Z</td></tr><tr><td>UA000000102359033</td><td>1592202891556793</td><td>null</td><td>null</td><td>2020-06-15</td><td>2024-09-12T20:30:49Z</td><td>part-00002-tid-531959640415905750-948b4f2d-2d35-46e3-97eb-e6d85d2bf872-7573-1-c000.snappy.parquet</td><td>2025-07-22T20:02:56.989006Z</td></tr><tr><td>UA000000102359145</td><td>1592203235808647</td><td>null</td><td>null</td><td>2020-06-15</td><td>2024-09-12T20:30:49Z</td><td>part-00002-tid-531959640415905750-948b4f2d-2d35-46e3-97eb-e6d85d2bf872-7573-1-c000.snappy.parquet</td><td>2025-07-22T20:02:56.989006Z</td></tr></tbody></table></div>"
      ]
     },
     "metadata": {
      "application/vnd.databricks.v1+output": {
       "addedWidgets": {},
       "aggData": [],
       "aggError": "",
       "aggOverflow": false,
       "aggSchema": [],
       "aggSeriesLimitReached": false,
       "aggType": "",
       "arguments": {},
       "columnCustomDisplayInfos": {},
       "data": [
        [
         "UA000000102357351",
         1592187804331222,
         null,
         null,
         "2020-06-15",
         "2024-09-12T20:30:49Z",
         "part-00002-tid-531959640415905750-948b4f2d-2d35-46e3-97eb-e6d85d2bf872-7573-1-c000.snappy.parquet",
         "2025-07-22T20:02:56.989006Z"
        ],
        [
         "UA000000102357772",
         1592196585484760,
         null,
         null,
         "2020-06-15",
         "2024-09-12T20:30:49Z",
         "part-00002-tid-531959640415905750-948b4f2d-2d35-46e3-97eb-e6d85d2bf872-7573-1-c000.snappy.parquet",
         "2025-07-22T20:02:56.989006Z"
        ],
        [
         "UA000000102358075",
         1592198929755893,
         null,
         null,
         "2020-06-15",
         "2024-09-12T20:30:49Z",
         "part-00002-tid-531959640415905750-948b4f2d-2d35-46e3-97eb-e6d85d2bf872-7573-1-c000.snappy.parquet",
         "2025-07-22T20:02:56.989006Z"
        ],
        [
         "UA000000102358422",
         1592200681180797,
         null,
         null,
         "2020-06-15",
         "2024-09-12T20:30:49Z",
         "part-00002-tid-531959640415905750-948b4f2d-2d35-46e3-97eb-e6d85d2bf872-7573-1-c000.snappy.parquet",
         "2025-07-22T20:02:56.989006Z"
        ],
        [
         "UA000000102358489",
         1592200952155132,
         null,
         null,
         "2020-06-15",
         "2024-09-12T20:30:49Z",
         "part-00002-tid-531959640415905750-948b4f2d-2d35-46e3-97eb-e6d85d2bf872-7573-1-c000.snappy.parquet",
         "2025-07-22T20:02:56.989006Z"
        ],
        [
         "UA000000102358495",
         1592200983001857,
         null,
         null,
         "2020-06-15",
         "2024-09-12T20:30:49Z",
         "part-00002-tid-531959640415905750-948b4f2d-2d35-46e3-97eb-e6d85d2bf872-7573-1-c000.snappy.parquet",
         "2025-07-22T20:02:56.989006Z"
        ],
        [
         "UA000000102358794",
         1592202111344629,
         null,
         null,
         "2020-06-15",
         "2024-09-12T20:30:49Z",
         "part-00002-tid-531959640415905750-948b4f2d-2d35-46e3-97eb-e6d85d2bf872-7573-1-c000.snappy.parquet",
         "2025-07-22T20:02:56.989006Z"
        ],
        [
         "UA000000102358914",
         1592202501646714,
         null,
         null,
         "2020-06-15",
         "2024-09-12T20:30:49Z",
         "part-00002-tid-531959640415905750-948b4f2d-2d35-46e3-97eb-e6d85d2bf872-7573-1-c000.snappy.parquet",
         "2025-07-22T20:02:56.989006Z"
        ],
        [
         "UA000000102359033",
         1592202891556793,
         null,
         null,
         "2020-06-15",
         "2024-09-12T20:30:49Z",
         "part-00002-tid-531959640415905750-948b4f2d-2d35-46e3-97eb-e6d85d2bf872-7573-1-c000.snappy.parquet",
         "2025-07-22T20:02:56.989006Z"
        ],
        [
         "UA000000102359145",
         1592203235808647,
         null,
         null,
         "2020-06-15",
         "2024-09-12T20:30:49Z",
         "part-00002-tid-531959640415905750-948b4f2d-2d35-46e3-97eb-e6d85d2bf872-7573-1-c000.snappy.parquet",
         "2025-07-22T20:02:56.989006Z"
        ]
       ],
       "datasetInfos": [],
       "dbfsResultPath": null,
       "isJsonSchema": true,
       "metadata": {
        "isDbfsCommandResult": false
       },
       "overflow": false,
       "plotOptions": {
        "customPlotOptions": {},
        "displayType": "table",
        "pivotAggregation": null,
        "pivotColumns": null,
        "xColumns": null,
        "yColumns": null
       },
       "removedWidgets": [],
       "schema": [
        {
         "metadata": "{}",
         "name": "user_id",
         "type": "\"string\""
        },
        {
         "metadata": "{}",
         "name": "user_first_touch_timestamp",
         "type": "\"long\""
        },
        {
         "metadata": "{}",
         "name": "email",
         "type": "\"string\""
        },
        {
         "metadata": "{}",
         "name": "_rescued_data",
         "type": "\"string\""
        },
        {
         "metadata": "{}",
         "name": "first_touch_date",
         "type": "\"date\""
        },
        {
         "metadata": "{}",
         "name": "file_modification_time",
         "type": "\"timestamp\""
        },
        {
         "metadata": "{}",
         "name": "source_file",
         "type": "\"string\""
        },
        {
         "metadata": "{}",
         "name": "ingestion_time",
         "type": "\"timestamp\""
        }
       ],
       "type": "table"
      }
     },
     "output_type": "display_data"
    }
   ],
   "source": [
    "SELECT\n",
    "  *,\n",
    "  cast(from_unixtime(user_first_touch_timestamp / 1000000) AS DATE) AS first_touch_date,\n",
    "  _metadata.file_modification_time AS file_modification_time,      -- Last data source file modification time\n",
    "  _metadata.file_name AS source_file,                              -- Ingest data source file name\n",
    "  current_timestamp() as ingestion_time                            -- Ingestion timestamp\n",
    "FROM read_files(\n",
    "  \"/Volumes/dbacademy_ecommerce/v01/raw/users-historical\",\n",
    "  format => 'parquet')\n",
    "LIMIT 10;"
   ]
  },
  {
   "cell_type": "markdown",
   "metadata": {
    "application/vnd.databricks.v1+cell": {
     "cellMetadata": {},
     "inputWidgets": {},
     "nuid": "d6bdd2a4-73b4-4ed9-8cc7-8008dca21c45",
     "showTitle": false,
     "tableResultSettingsMap": {},
     "title": ""
    }
   },
   "source": [
    "### C3. Creating the Final Bronze Table\n",
    "1. Put it all together with the `CTAS` statement to create the Delta table.\n",
    "\n",
    "    Run the cell to create and view the new table **historical_users_bronze**.\n",
    "    \n",
    "    Confirm that the new columns **first_touch_date**, **file_modification_time**, **source_file** and **ingestion_time** were created successfully in the bronze table."
   ]
  },
  {
   "cell_type": "code",
   "execution_count": 0,
   "metadata": {
    "application/vnd.databricks.v1+cell": {
     "cellMetadata": {},
     "inputWidgets": {},
     "nuid": "93e8900a-eab7-44b4-9674-e9aae07f9944",
     "showTitle": true,
     "tableResultSettingsMap": {},
     "title": "Create the final bronze table"
    }
   },
   "outputs": [],
   "source": [
    "-- Drop the table if it exists for demonstration purposes\n",
    "DROP TABLE IF EXISTS historical_users_bronze;\n",
    "\n",
    "\n",
    "-- Create an empty table\n",
    "CREATE TABLE historical_users_bronze AS\n",
    "SELECT\n",
    "  *,\n",
    "  cast(from_unixtime(user_first_touch_timestamp / 1000000) AS DATE) AS first_touch_date,\n",
    "  _metadata.file_modification_time AS file_modification_time,      -- Last data source file modification time\n",
    "  _metadata.file_name AS source_file,                              -- Ingest data source file name\n",
    "  current_timestamp() as ingestion_time                            -- Ingestion timestamp\n",
    "FROM read_files(\n",
    "  \"/Volumes/dbacademy_ecommerce/v01/raw/users-historical\",\n",
    "  format => 'parquet');\n",
    "\n",
    "\n",
    "-- View the final bronze table\n",
    "SELECT * \n",
    "FROM historical_users_bronze\n",
    "LIMIT 10;"
   ]
  },
  {
   "cell_type": "markdown",
   "metadata": {
    "application/vnd.databricks.v1+cell": {
     "cellMetadata": {},
     "inputWidgets": {},
     "nuid": "9156289a-3372-4597-bab8-e75a4023f617",
     "showTitle": false,
     "tableResultSettingsMap": {},
     "title": ""
    }
   },
   "source": [
    "### C4. Exploring the Final Bronze Table"
   ]
  },
  {
   "cell_type": "markdown",
   "metadata": {
    "application/vnd.databricks.v1+cell": {
     "cellMetadata": {},
     "inputWidgets": {},
     "nuid": "a5843637-c8df-46c2-9631-eaeff492ea07",
     "showTitle": false,
     "tableResultSettingsMap": {},
     "title": ""
    }
   },
   "source": [
    "1. With the additional metadata columns added to the bronze table, you can explore metadata information from the input files. For example, you can execute a query to see how many rows came from each Parquet file by querying the **source_file** column."
   ]
  },
  {
   "cell_type": "code",
   "execution_count": 0,
   "metadata": {
    "application/vnd.databricks.v1+cell": {
     "cellMetadata": {},
     "inputWidgets": {},
     "nuid": "aeeac66c-39d1-47da-b760-aa5c32d13d4a",
     "showTitle": true,
     "tableResultSettingsMap": {},
     "title": "Count rows by parquet file"
    }
   },
   "outputs": [],
   "source": [
    "SELECT \n",
    "  source_file, \n",
    "  count(*) as total\n",
    "FROM historical_users_bronze\n",
    "GROUP BY source_file\n",
    "ORDER BY source_file;"
   ]
  },
  {
   "cell_type": "markdown",
   "metadata": {
    "application/vnd.databricks.v1+cell": {
     "cellMetadata": {},
     "inputWidgets": {},
     "nuid": "309c5bc0-39de-4ea7-90fa-f30916e764f2",
     "showTitle": false,
     "tableResultSettingsMap": {},
     "title": ""
    }
   },
   "source": [
    "## D. (BONUS) Python Equivalent"
   ]
  },
  {
   "cell_type": "code",
   "execution_count": 0,
   "metadata": {
    "application/vnd.databricks.v1+cell": {
     "cellMetadata": {},
     "inputWidgets": {},
     "nuid": "6d92d701-fa28-4c76-b764-b29faac8d034",
     "showTitle": false,
     "tableResultSettingsMap": {},
     "title": ""
    }
   },
   "outputs": [],
   "source": [
    "%python\n",
    "\n",
    "from pyspark.sql.functions import col, from_unixtime, current_timestamp\n",
    "from pyspark.sql.types import DateType\n",
    "\n",
    "# 1. Read parquet files in cloud storage into a Spark DataFrame\n",
    "df = (spark\n",
    "      .read\n",
    "      .format(\"parquet\")\n",
    "      .load(\"/Volumes/dbacademy_ecommerce/v01/raw/users-historical\")\n",
    "    )\n",
    "\n",
    "\n",
    "# 2. Add metadata columns\n",
    "df_with_metadata = (\n",
    "    df.withColumn(\"first_touch_date\", from_unixtime(col(\"user_first_touch_timestamp\") / 1_000_000).cast(DateType()))\n",
    "      .withColumn(\"file_modification_time\", col(\"_metadata.file_modification_time\"))\n",
    "      .withColumn(\"source_file\", col(\"_metadata.file_name\"))\n",
    "      .withColumn(\"ingestion_time\", current_timestamp())\n",
    ")\n",
    "\n",
    "\n",
    "# 3. Save as a Delta table\n",
    "(df_with_metadata\n",
    " .write\n",
    " .format(\"delta\")\n",
    " .mode(\"overwrite\")\n",
    " .saveAsTable(f\"dbacademy.{DA.schema_name}.historical_users_bronze_python_metadata\")\n",
    ")\n",
    "\n",
    "\n",
    "# 4. Read and display the table\n",
    "historical_users_bronze_python_metadata = spark.table(f\"dbacademy.{DA.schema_name}.historical_users_bronze_python_metadata\")\n",
    "\n",
    "display(historical_users_bronze_python_metadata)"
   ]
  },
  {
   "cell_type": "markdown",
   "metadata": {
    "application/vnd.databricks.v1+cell": {
     "cellMetadata": {},
     "inputWidgets": {},
     "nuid": "2d404df8-7bdf-431e-a540-72f7b722c1c4",
     "showTitle": false,
     "tableResultSettingsMap": {},
     "title": ""
    }
   },
   "source": [
    "\n",
    "&copy; 2025 Databricks, Inc. All rights reserved. Apache, Apache Spark, Spark, the Spark Logo, Apache Iceberg, Iceberg, and the Apache Iceberg logo are trademarks of the <a href=\"https://www.apache.org/\" target=\"blank\">Apache Software Foundation</a>.<br/>\n",
    "<br/><a href=\"https://databricks.com/privacy-policy\" target=\"blank\">Privacy Policy</a> | \n",
    "<a href=\"https://databricks.com/terms-of-use\" target=\"blank\">Terms of Use</a> | \n",
    "<a href=\"https://help.databricks.com/\" target=\"blank\">Support</a>"
   ]
  }
 ],
 "metadata": {
  "application/vnd.databricks.v1+notebook": {
   "computePreferences": null,
   "dashboards": [],
   "environmentMetadata": null,
   "inputWidgetPreferences": null,
   "language": "sql",
   "notebookMetadata": {
    "mostRecentlyExecutedCommandWithImplicitDF": {
     "commandId": 3182771303273136,
     "dataframes": [
      "_sqldf"
     ]
    },
    "pythonIndentUnit": 4
   },
   "notebookName": "03 - Adding Metadata Columns During Ingestion",
   "widgets": {}
  },
  "language_info": {
   "name": "sql"
  }
 },
 "nbformat": 4,
 "nbformat_minor": 0
}