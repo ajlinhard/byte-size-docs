{
 "cells": [
  {
   "cell_type": "markdown",
   "metadata": {
    "application/vnd.databricks.v1+cell": {
     "cellMetadata": {},
     "inputWidgets": {},
     "nuid": "32c1b18f-2633-4f3f-9317-ace082554264",
     "showTitle": false,
     "tableResultSettingsMap": {},
     "title": ""
    }
   },
   "source": [
    "\n",
    "<div style=\"text-align: center; line-height: 0; padding-top: 9px;\">\n",
    "  <img src=\"https://databricks.com/wp-content/uploads/2018/03/db-academy-rgb-1200px.png\" alt=\"Databricks Learning\">\n",
    "</div>\n"
   ]
  },
  {
   "cell_type": "markdown",
   "metadata": {
    "application/vnd.databricks.v1+cell": {
     "cellMetadata": {},
     "inputWidgets": {},
     "nuid": "74aa5847-066c-4151-b394-e15669297d38",
     "showTitle": false,
     "tableResultSettingsMap": {},
     "title": ""
    }
   },
   "source": [
    "# 4 - Handling CSV Ingestion with the Rescued Data Column\n",
    "\n",
    "In this demonstration, we will focus on ingesting CSV files into Delta Lake using the `CTAS` (`CREATE TABLE AS SELECT`) pattern with the `read_files()` method and exploring the rescued data column. \n",
    "\n",
    "### Learning Objectives\n",
    "\n",
    "By the end of this lesson, you will be able to:\n",
    "\n",
    "- Ingest CSV files as Delta tables using the `CREATE TABLE AS SELECT` (CTAS) statement with the `read_files()` function.\n",
    "- Define and apply an explicit schema with `read_files()` to ensure consistent and reliable data ingestion.\n",
    "- Handle and inspect rescued data that does not conform to the defined schema."
   ]
  },
  {
   "cell_type": "markdown",
   "metadata": {
    "application/vnd.databricks.v1+cell": {
     "cellMetadata": {},
     "inputWidgets": {},
     "nuid": "e233c530-4daa-4493-ab40-494895291363",
     "showTitle": false,
     "tableResultSettingsMap": {},
     "title": ""
    }
   },
   "source": [
    "## REQUIRED - SELECT CLASSIC COMPUTE\n",
    "\n",
    "Before executing cells in this notebook, please select your classic compute cluster in the lab. Be aware that **Serverless** is enabled by default and you have a Shared SQL warehouse.\n",
    "\n",
    "<!-- ![Select Cluster](./Includes/images/selecting_cluster_info.png) -->\n",
    "\n",
    "Follow these steps to select the classic compute cluster:\n",
    "\n",
    "\n",
    "1. Navigate to the top-right of this notebook and click the drop-down menu to select your cluster. By default, the notebook will use **Serverless**.\n",
    "\n",
    "2. If your cluster is available, select it and continue to the next cell. If the cluster is not shown:\n",
    "\n",
    "   - Click **More** in the drop-down.\n",
    "\n",
    "   - In the **Attach to an existing compute resource** window, use the first drop-down to select your unique cluster.\n",
    "\n",
    "**NOTE:** If your cluster has terminated, you might need to restart it in order to select it. To do this:\n",
    "\n",
    "1. Right-click on **Compute** in the left navigation pane and select *Open in new tab*.\n",
    "\n",
    "2. Find the triangle icon to the right of your compute cluster name and click it.\n",
    "\n",
    "3. Wait a few minutes for the cluster to start.\n",
    "\n",
    "4. Once the cluster is running, complete the steps above to select your cluster."
   ]
  },
  {
   "cell_type": "markdown",
   "metadata": {
    "application/vnd.databricks.v1+cell": {
     "cellMetadata": {},
     "inputWidgets": {},
     "nuid": "3891b50f-22d1-45a9-80b9-7009138e02a8",
     "showTitle": false,
     "tableResultSettingsMap": {},
     "title": ""
    }
   },
   "source": [
    "\n",
    "## A. Classroom Setup\n",
    "\n",
    "Run the following cell to configure your working environment for this notebook.\n",
    "\n",
    "**NOTE:** The `DA` object is only used in Databricks Academy courses and is not available outside of these courses. It will dynamically reference the information needed to run the course in the lab environment."
   ]
  },
  {
   "cell_type": "code",
   "execution_count": 0,
   "metadata": {
    "application/vnd.databricks.v1+cell": {
     "cellMetadata": {
      "byteLimit": 2048000,
      "implicitDf": true,
      "rowLimit": 10000
     },
     "inputWidgets": {},
     "nuid": "852b4572-b734-449d-beb9-ce130e157f77",
     "showTitle": false,
     "tableResultSettingsMap": {},
     "title": ""
    }
   },
   "outputs": [
    {
     "output_type": "stream",
     "name": "stdout",
     "output_type": "stream",
     "text": [
      "\u001B[43mNote: you may need to restart the kernel using %restart_python or dbutils.library.restartPython() to use updated packages.\u001B[0m\n"
     ]
    },
    {
     "output_type": "display_data",
     "data": {
      "text/html": [
       "<style scoped>\n",
       "  .table-result-container {\n",
       "    max-height: 300px;\n",
       "    overflow: auto;\n",
       "  }\n",
       "  table, th, td {\n",
       "    border: 1px solid black;\n",
       "    border-collapse: collapse;\n",
       "  }\n",
       "  th, td {\n",
       "    padding: 5px;\n",
       "  }\n",
       "  th {\n",
       "    text-align: left;\n",
       "  }\n",
       "</style><div class='table-result-container'><table class='table-result'><thead style='background-color: white'><tr></tr></thead><tbody></tbody></table></div>"
      ]
     },
     "metadata": {
      "application/vnd.databricks.v1+output": {
       "addedWidgets": {},
       "aggData": [],
       "aggError": "",
       "aggOverflow": false,
       "aggSchema": [],
       "aggSeriesLimitReached": false,
       "aggType": "",
       "arguments": {},
       "columnCustomDisplayInfos": {},
       "data": [],
       "datasetInfos": [],
       "dbfsResultPath": null,
       "isJsonSchema": true,
       "metadata": {},
       "overflow": false,
       "plotOptions": {
        "customPlotOptions": {},
        "displayType": "table",
        "pivotAggregation": null,
        "pivotColumns": null,
        "xColumns": null,
        "yColumns": null
       },
       "removedWidgets": [],
       "schema": [],
       "type": "table"
      }
     },
     "output_type": "display_data"
    },
    {
     "output_type": "stream",
     "name": "stdout",
     "output_type": "stream",
     "text": [
      "----------------------------------------------------------------------------------------\nCreating folder: /Volumes/dbacademy/ops/labuser10989365_1753218039@vocareum_com/csv_demo_files\nCreating folder: /Volumes/dbacademy/ops/labuser10989365_1753218039@vocareum_com/json_demo_files\nCreating folder: /Volumes/dbacademy/ops/labuser10989365_1753218039@vocareum_com/xml_demo_files\n----------------------------------------------------------------------------------------\n\n"
     ]
    },
    {
     "output_type": "display_data",
     "data": {
      "text/html": [
       "<style scoped>\n",
       "  .table-result-container {\n",
       "    max-height: 300px;\n",
       "    overflow: auto;\n",
       "  }\n",
       "  table, th, td {\n",
       "    border: 1px solid black;\n",
       "    border-collapse: collapse;\n",
       "  }\n",
       "  th, td {\n",
       "    padding: 5px;\n",
       "  }\n",
       "  th {\n",
       "    text-align: left;\n",
       "  }\n",
       "</style><div class='table-result-container'><table class='table-result'><thead style='background-color: white'><tr></tr></thead><tbody></tbody></table></div>"
      ]
     },
     "metadata": {
      "application/vnd.databricks.v1+output": {
       "addedWidgets": {},
       "aggData": [],
       "aggError": "",
       "aggOverflow": false,
       "aggSchema": [],
       "aggSeriesLimitReached": false,
       "aggType": "",
       "arguments": {},
       "columnCustomDisplayInfos": {},
       "data": [],
       "datasetInfos": [],
       "dbfsResultPath": null,
       "isJsonSchema": true,
       "metadata": {},
       "overflow": false,
       "plotOptions": {
        "customPlotOptions": {},
        "displayType": "table",
        "pivotAggregation": null,
        "pivotColumns": null,
        "xColumns": null,
        "yColumns": null
       },
       "removedWidgets": [],
       "schema": [],
       "type": "table"
      }
     },
     "output_type": "display_data"
    }
   ],
   "source": [
    "%run ./Includes/Classroom-Setup-04"
   ]
  },
  {
   "cell_type": "markdown",
   "metadata": {
    "application/vnd.databricks.v1+cell": {
     "cellMetadata": {},
     "inputWidgets": {},
     "nuid": "d11e7020-f40b-45ee-a291-d4d4da4c053e",
     "showTitle": false,
     "tableResultSettingsMap": {},
     "title": ""
    }
   },
   "source": [
    "Run the cell below to view your default catalog and schema. Notice that your default catalog is **dbacademy** and your default schema is your unique **labuser** schema.\n",
    "\n",
    "**NOTE:** The default catalog and schema are pre-configured for you to avoid the need to specify the three-level name for when writing your tables (i.e., catalog.schema.table)."
   ]
  },
  {
   "cell_type": "code",
   "execution_count": 0,
   "metadata": {
    "application/vnd.databricks.v1+cell": {
     "cellMetadata": {},
     "inputWidgets": {},
     "nuid": "3b05105d-2875-43d6-b37a-06a1c5c94313",
     "showTitle": false,
     "tableResultSettingsMap": {},
     "title": ""
    }
   },
   "outputs": [],
   "source": [
    "SELECT current_catalog(), current_schema()"
   ]
  },
  {
   "cell_type": "markdown",
   "metadata": {
    "application/vnd.databricks.v1+cell": {
     "cellMetadata": {},
     "inputWidgets": {},
     "nuid": "6912ded9-0307-4bb2-9b95-ba954b090eba",
     "showTitle": false,
     "tableResultSettingsMap": {},
     "title": ""
    }
   },
   "source": [
    "## B. Overview of CTAS with `read_files()` for Ingestion of CSV Files\n",
    "\n",
    "CSV (Comma-Separated Values) files are a simple text-based format for storing data, where each line represents a row and values are separated by commas.\n",
    "\n",
    "In this demonstration, we will use CSV files imported from cloud storage. Let’s explore how to ingest these raw CSV files to Delta Lake."
   ]
  },
  {
   "cell_type": "markdown",
   "metadata": {
    "application/vnd.databricks.v1+cell": {
     "cellMetadata": {},
     "inputWidgets": {},
     "nuid": "465567db-01b2-49ce-9bf0-3a01e65809bd",
     "showTitle": false,
     "tableResultSettingsMap": {},
     "title": ""
    }
   },
   "source": [
    "### B1. Inspecting CSV files\n",
    "\n",
    "1. List available CSV files from `dbacademy_ecommerce/v01/raw/sales-csv` directory. Confirm that 4 CSV files exist in the volume."
   ]
  },
  {
   "cell_type": "code",
   "execution_count": 0,
   "metadata": {
    "application/vnd.databricks.v1+cell": {
     "cellMetadata": {},
     "inputWidgets": {},
     "nuid": "b4d9f6d7-e377-4dfb-962b-0b3395d1e7b7",
     "showTitle": false,
     "tableResultSettingsMap": {},
     "title": ""
    }
   },
   "outputs": [],
   "source": [
    "LIST '/Volumes/dbacademy_ecommerce/v01/raw/sales-csv'"
   ]
  },
  {
   "cell_type": "markdown",
   "metadata": {
    "application/vnd.databricks.v1+cell": {
     "cellMetadata": {},
     "inputWidgets": {},
     "nuid": "726dbf98-e536-4866-83f2-77a267f03144",
     "showTitle": false,
     "tableResultSettingsMap": {},
     "title": ""
    }
   },
   "source": [
    "2. Query the CSV files by path in the `/Volumes/dbacademy_ecommerce/v01/raw/sales-csv`volume directly and view the results. Notice the following:\n",
    "\n",
    "   - The data files include a header row containing the column names.\n",
    "\n",
    "   - The columns are delimited by the pipe character (`|`). \n",
    "\n",
    "     For example, the first row reads:  \n",
    "     ```order_id|email|transactions_timestamp|total_item_quantity|purchase_revenue_in_usd|unique_items|items```\n",
    "\n",
    "     The pipe (`|`) indicates column separation, meaning there are seven columns:  \n",
    "     **order_id**, **email**, **transactions_timestamp**, **total_item_quantity**, **purchase_revenue_in_usd**, **unique_items**, and **items**."
   ]
  },
  {
   "cell_type": "code",
   "execution_count": 0,
   "metadata": {
    "application/vnd.databricks.v1+cell": {
     "cellMetadata": {},
     "inputWidgets": {},
     "nuid": "9ac50858-8339-45ab-b83c-c0c6fd1d37d5",
     "showTitle": true,
     "tableResultSettingsMap": {},
     "title": "Query raw CSV files"
    }
   },
   "outputs": [],
   "source": [
    "SELECT * \n",
    "FROM csv.`/Volumes/dbacademy_ecommerce/v01/raw/sales-csv`\n",
    "LIMIT 5;"
   ]
  },
  {
   "cell_type": "markdown",
   "metadata": {
    "application/vnd.databricks.v1+cell": {
     "cellMetadata": {},
     "inputWidgets": {},
     "nuid": "94e3adf2-3285-4698-9da9-883b3d46dbc8",
     "showTitle": false,
     "tableResultSettingsMap": {},
     "title": ""
    }
   },
   "source": [
    "3. Run the cell below to query the CSV files using the default options in the `read_files` function.\n",
    "\n",
    "   Review the results. Notice that the CSV files were **not** queried correctly in the table output.\n",
    "\n",
    "   To fix this, we’ll need to provide additional options to the `read_files()` function for proper ingestion of CSV files."
   ]
  },
  {
   "cell_type": "code",
   "execution_count": 0,
   "metadata": {
    "application/vnd.databricks.v1+cell": {
     "cellMetadata": {},
     "inputWidgets": {},
     "nuid": "7ba9c95b-03e0-443a-b151-6770350cec78",
     "showTitle": true,
     "tableResultSettingsMap": {},
     "title": "Read CSV files with default options in read_files"
    }
   },
   "outputs": [],
   "source": [
    "SELECT * \n",
    "FROM read_files(\n",
    "        \"/Volumes/dbacademy_ecommerce/v01/raw/sales-csv\",\n",
    "        format => \"csv\"\n",
    "      )\n",
    "LIMIT 5;"
   ]
  },
  {
   "cell_type": "markdown",
   "metadata": {
    "application/vnd.databricks.v1+cell": {
     "cellMetadata": {},
     "inputWidgets": {},
     "nuid": "52cfadd1-e8a7-4690-aa44-cc191eb0bb14",
     "showTitle": false,
     "tableResultSettingsMap": {},
     "title": ""
    }
   },
   "source": [
    "### B2. Using CSV Options with `read_files()`\n",
    "\n",
    "1. The code in the next cell ingests the CSV files using the `read_files()` function with some additional options.\n",
    "\n",
    "   In this example, we are using the following options with the `read_files()` function:    [CSV options](https://docs.databricks.com/aws/en/sql/language-manual/functions/read_files#csv-options)\n",
    "\n",
    "   - The first argument specifies the path to the CSV files.\n",
    "\n",
    "   - `format => \"csv\"` — Indicates that the files are in CSV format.\n",
    "\n",
    "   - `sep => \"|\"` — Specifies that columns are delimited by the pipe (`|`) character.\n",
    "\n",
    "   - `header => true` — Tells the reader to use the first row as column headers.\n",
    "   \n",
    "   - Although we're using CSV files in this demonstration, other file types (like JSON or Parquet) can also be used by specifying different options.\n",
    "\n",
    "   Run the cell and view the results. Notice the CSV files were read correctly, and a new column named **_rescued_data** appeared at the end of the result table.\n",
    "\n",
    "**NOTE:** A **_rescued_data** column is automatically included to capture any data that doesn't match the inferred or provided schema."
   ]
  },
  {
   "cell_type": "code",
   "execution_count": 0,
   "metadata": {
    "application/vnd.databricks.v1+cell": {
     "cellMetadata": {},
     "inputWidgets": {},
     "nuid": "3ca5b9bc-f315-4fde-a3ab-6bb44e7db5fd",
     "showTitle": true,
     "tableResultSettingsMap": {},
     "title": "Specify CSV options in read_files"
    }
   },
   "outputs": [],
   "source": [
    "SELECT * \n",
    "FROM read_files(\n",
    "        \"/Volumes/dbacademy_ecommerce/v01/raw/sales-csv\",\n",
    "        format => \"csv\",\n",
    "        sep => \"|\",\n",
    "        header => true\n",
    "      )\n",
    "LIMIT 5;"
   ]
  },
  {
   "cell_type": "markdown",
   "metadata": {
    "application/vnd.databricks.v1+cell": {
     "cellMetadata": {},
     "inputWidgets": {},
     "nuid": "67d1e6b6-5971-4276-b5b6-ea56a93e4a2f",
     "showTitle": false,
     "tableResultSettingsMap": {},
     "title": ""
    }
   },
   "source": [
    "2. Now that we’ve successfully queried the CSV files using `read_files()`, let’s use a CTAS (`CREATE TABLE AS SELECT`) statement with the same query to complete the following:\n",
    "    - Create a Delta table named **sales_bronze**. \n",
    "    - Add an ingestion timestamp and ingestion metadata columns to our **sales_bronze** table.\n",
    "\n",
    "        - **Ingestion Timestamp:** To record when the data was ingested, use the [`current_timestamp()`](https://docs.databricks.com/aws/en/sql/language-manual/functions/current_timestamp) function. It returns the current timestamp at the start of query execution and is useful for tracking ingestion time.\n",
    "\n",
    "        - **Metadata Columns:** To include file metadata, use the [`_metadata`](https://docs.databricks.com/en/ingestion/file-metadata-column.html) column, which is available for all input file formats. This hidden column allows access to various metadata attributes from the input files.\n",
    "            - Use `_metadata.file_modification_time` to capture the last modification time of the input file.\n",
    "            - Use `_metadata.file_name` to capture the name of the input file.\n",
    "            - [File metadata column](https://docs.databricks.com/gcp/en/ingestion/file-metadata-column)\n",
    "\n",
    "\n",
    "\n",
    "\n",
    "    Run the cell and review the results. You should see that the **sales_bronze** table was created successfully with the CSV data and additional metadata columns."
   ]
  },
  {
   "cell_type": "code",
   "execution_count": 0,
   "metadata": {
    "application/vnd.databricks.v1+cell": {
     "cellMetadata": {},
     "inputWidgets": {},
     "nuid": "d61cec0b-35c7-4e2d-8529-5ecf5890da09",
     "showTitle": true,
     "tableResultSettingsMap": {},
     "title": "Create a table with read_files from CSV files"
    }
   },
   "outputs": [],
   "source": [
    "-- Drop the table if it exists for demonstration purposes\n",
    "DROP TABLE IF EXISTS sales_bronze;\n",
    "\n",
    "\n",
    "-- Create the Delta table\n",
    "CREATE TABLE sales_bronze AS\n",
    "SELECT \n",
    "  *,\n",
    "  _metadata.file_modification_time AS file_modification_time,\n",
    "  _metadata.file_name AS source_file, \n",
    "  current_timestamp() as ingestion_time \n",
    "FROM read_files(\n",
    "        \"/Volumes/dbacademy_ecommerce/v01/raw/sales-csv\",\n",
    "        format => \"csv\",\n",
    "        sep => \"|\",\n",
    "        header => true\n",
    "      );\n",
    "\n",
    "\n",
    "-- Display the table\n",
    "SELECT *\n",
    "FROM sales_bronze"
   ]
  },
  {
   "cell_type": "markdown",
   "metadata": {
    "application/vnd.databricks.v1+cell": {
     "cellMetadata": {},
     "inputWidgets": {},
     "nuid": "89343a38-d3ee-4c36-8a01-9da8434b751a",
     "showTitle": false,
     "tableResultSettingsMap": {},
     "title": ""
    }
   },
   "source": [
    "3. View the column data types of the **sales_bronze** table. Notice that the `read_files()` function automatically infers the schema if one is not explicitly provided.\n",
    "\n",
    "      **NOTE:** When the schema is not provided, `read_files()` attempts to infer a unified schema across the discovered files, which requires reading all the files unless a LIMIT statement is used. Even when using a LIMIT query, a larger set of files than required might be read to return a more representative schema of the data.\n",
    "\n",
    "     - [Schema inference](https://docs.databricks.com/aws/en/sql/language-manual/functions/read_files#csv-options)"
   ]
  },
  {
   "cell_type": "code",
   "execution_count": 0,
   "metadata": {
    "application/vnd.databricks.v1+cell": {
     "cellMetadata": {},
     "inputWidgets": {},
     "nuid": "995a6294-b5c8-4665-9ee6-f8956f7cefb5",
     "showTitle": true,
     "tableResultSettingsMap": {},
     "title": "View the inferred schema"
    }
   },
   "outputs": [],
   "source": [
    "DESCRIBE TABLE EXTENDED sales_bronze;"
   ]
  },
  {
   "cell_type": "markdown",
   "metadata": {
    "application/vnd.databricks.v1+cell": {
     "cellMetadata": {},
     "inputWidgets": {},
     "nuid": "32c85c49-f6be-4bf0-9606-9d2d54b52186",
     "showTitle": false,
     "tableResultSettingsMap": {},
     "title": ""
    }
   },
   "source": [
    "### B3. (BONUS) Python Equivalent"
   ]
  },
  {
   "cell_type": "code",
   "execution_count": 0,
   "metadata": {
    "application/vnd.databricks.v1+cell": {
     "cellMetadata": {},
     "inputWidgets": {},
     "nuid": "0c3fb7cb-b55e-459b-acf5-7e1ad7b515e2",
     "showTitle": false,
     "tableResultSettingsMap": {},
     "title": ""
    }
   },
   "outputs": [],
   "source": [
    "%python\n",
    "\n",
    "df = (spark\n",
    "      .read \n",
    "      .option(\"header\", True) \n",
    "      .option(\"sep\",\"|\") \n",
    "      .option(\"rescuedDataColumn\", \"_rescued_data\")       # <--------- Add the rescued data column\n",
    "      .csv(\"/Volumes/dbacademy_ecommerce/v01/raw/sales-csv\")\n",
    "    )\n",
    "\n",
    "df.display()"
   ]
  },
  {
   "cell_type": "markdown",
   "metadata": {
    "application/vnd.databricks.v1+cell": {
     "cellMetadata": {},
     "inputWidgets": {},
     "nuid": "95776bff-fe09-487e-a115-6daf89cba63e",
     "showTitle": false,
     "tableResultSettingsMap": {},
     "title": ""
    }
   },
   "source": [
    "## C. Troubleshooting Common CSV Issues\n",
    "\n",
    "\n",
    "1. To begin, let’s quickly explore your data source raw files volume. Complete the following steps to view your course volume in **dbacademy.ops.labuser**:\n",
    "\n",
    "   a. In the left navigation bar, select the catalog icon ![Catalog Icon](./Includes/images/catalog_icon.png).\n",
    "\n",
    "   b. Expand the **dbacademy** catalog.\n",
    "\n",
    "   c. Expand the **ops** schema.\n",
    "\n",
    "   d. Expand **Volumes**. You should see a volume with your **labuser** name, which contains the source data to ingest.\n",
    "\n",
    "   e. Expand your **labuser** volume. Notice that this volume contains a series of subdirectories. We will be using the **csv_demo_files** directory in your volume.\n",
    "\n",
    "   f. Expand the **csv_demo_files** subdirectory. Notice that it contains the files:\n",
    "      - **malformed_example_1_data.csv**\n",
    "      - **malformed_example_2_data.csv**"
   ]
  },
  {
   "cell_type": "markdown",
   "metadata": {
    "application/vnd.databricks.v1+cell": {
     "cellMetadata": {},
     "inputWidgets": {},
     "nuid": "713d6718-8b80-463e-80fb-05450616eef1",
     "showTitle": false,
     "tableResultSettingsMap": {},
     "title": ""
    }
   },
   "source": [
    "2. In the cell below, view the value of the SQL variable `DA.paths_working_dir`. This variable will reference the path to your **labuser** volume from above, as each user has a different source volume. This variable is created within the classroom setup script to dynamically reference your unique volume.\n",
    "\n",
    "   Run the cell and review the results. You’ll notice that the `DA.paths_working_dir` variable points to your `/Volumes/dbacademy/ops/labuser` volume.\n",
    "\n",
    "**NOTE:** Instead of using the `DA.paths_working_dir` variable, you could also specify the path name directly by right clicking on your volume and selecting **Copy volume path**."
   ]
  },
  {
   "cell_type": "code",
   "execution_count": 0,
   "metadata": {
    "application/vnd.databricks.v1+cell": {
     "cellMetadata": {},
     "inputWidgets": {},
     "nuid": "0142e323-6ac7-4db9-8941-47736974aaae",
     "showTitle": false,
     "tableResultSettingsMap": {},
     "title": ""
    }
   },
   "outputs": [],
   "source": [
    "values(DA.paths_working_dir)"
   ]
  },
  {
   "cell_type": "markdown",
   "metadata": {
    "application/vnd.databricks.v1+cell": {
     "cellMetadata": {},
     "inputWidgets": {},
     "nuid": "aa838139-cd49-4aa8-afd3-739353c14066",
     "showTitle": false,
     "tableResultSettingsMap": {},
     "title": ""
    }
   },
   "source": [
    "3. You can concatenate the `DA.paths_working_dir` SQL variable with a string to specify a specific subdirectory in your specific volume.\n",
    "\n",
    "   Run the cell below and review the results. You’ll notice that it returns the path to your **malformed_example_1_data.csv** file. This method will be used when referencing your volume within the `read_files` function."
   ]
  },
  {
   "cell_type": "code",
   "execution_count": 0,
   "metadata": {
    "application/vnd.databricks.v1+cell": {
     "cellMetadata": {},
     "inputWidgets": {},
     "nuid": "d7c85400-e454-4656-a4d5-9ec9fce39a38",
     "showTitle": false,
     "tableResultSettingsMap": {},
     "title": ""
    }
   },
   "outputs": [],
   "source": [
    "values(DA.paths_working_dir || '/csv_demo_files/malformed_example_1_data.csv')"
   ]
  },
  {
   "cell_type": "markdown",
   "metadata": {
    "application/vnd.databricks.v1+cell": {
     "cellMetadata": {},
     "inputWidgets": {},
     "nuid": "4e437dfc-99a2-4334-9047-fe2bef7fb812",
     "showTitle": false,
     "tableResultSettingsMap": {},
     "title": ""
    }
   },
   "source": [
    "### C1. Defining a Schema During Ingestion\n",
    "\n",
    "We want to read the CSV file into the bronze table using a defined schema.\n",
    "\n",
    "**Explicit schemas benefits:**\n",
    "- Reduce the risk of inferred schema inconsistencies, especially with semi-structured data like JSON or CSV.\n",
    "- Enable faster parsing and loading of data, as Spark can immediately apply the correct types and structure without inferring the schema.\n",
    "- Improve performance with large datasets by significantly reducing compute overhead.\n"
   ]
  },
  {
   "cell_type": "markdown",
   "metadata": {
    "application/vnd.databricks.v1+cell": {
     "cellMetadata": {},
     "inputWidgets": {},
     "nuid": "b442189e-1186-463d-98ca-2039ca063aab",
     "showTitle": false,
     "tableResultSettingsMap": {},
     "title": ""
    }
   },
   "source": [
    "1. The query below will reference the **malformed_example_1_data.csv** file. This will allow you to view the CSV file as text for inspection.\n",
    "\n",
    "   Run the query and review the results. Notice the following:\n",
    "\n",
    "   - The CSV file is **|** delimited.\n",
    "\n",
    "   - The CSV file contains headers.\n",
    "   \n",
    "**NOTE:** The **transactions_timestamp** column contains the string *aaa* in the first row, which will cause issues during ingestion when attempting read the **transactions_timestamp** column as a BIGINT."
   ]
  },
  {
   "cell_type": "code",
   "execution_count": 0,
   "metadata": {
    "application/vnd.databricks.v1+cell": {
     "cellMetadata": {
      "byteLimit": 2048000,
      "rowLimit": 10000
     },
     "inputWidgets": {},
     "nuid": "461cbd4f-0b07-4b7f-a386-28f163105373",
     "showTitle": true,
     "tableResultSettingsMap": {},
     "title": "View the CSV file as text"
    }
   },
   "outputs": [
    {
     "output_type": "display_data",
     "data": {
      "text/html": [
       "<style scoped>\n",
       "  .table-result-container {\n",
       "    max-height: 300px;\n",
       "    overflow: auto;\n",
       "  }\n",
       "  table, th, td {\n",
       "    border: 1px solid black;\n",
       "    border-collapse: collapse;\n",
       "  }\n",
       "  th, td {\n",
       "    padding: 5px;\n",
       "  }\n",
       "  th {\n",
       "    text-align: left;\n",
       "  }\n",
       "</style><div class='table-result-container'><table class='table-result'><thead style='background-color: white'><tr><th>value</th></tr></thead><tbody><tr><td>order_id|email|transactions_timestamp</td></tr><tr><td>298592|sandovalaustin@holder.com|aaa</td></tr><tr><td>299024|msmith@monroe.com|1592636869915092</td></tr><tr><td>300048|robertstimothy@hotmail.com|1592649862529478</td></tr><tr><td>298711|lovejamie@yahoo.com|1592631406799948</td></tr></tbody></table></div>"
      ]
     },
     "metadata": {
      "application/vnd.databricks.v1+output": {
       "addedWidgets": {},
       "aggData": [],
       "aggError": "",
       "aggOverflow": false,
       "aggSchema": [],
       "aggSeriesLimitReached": false,
       "aggType": "",
       "arguments": {},
       "columnCustomDisplayInfos": {},
       "data": [
        [
         "order_id|email|transactions_timestamp"
        ],
        [
         "298592|sandovalaustin@holder.com|aaa"
        ],
        [
         "299024|msmith@monroe.com|1592636869915092"
        ],
        [
         "300048|robertstimothy@hotmail.com|1592649862529478"
        ],
        [
         "298711|lovejamie@yahoo.com|1592631406799948"
        ]
       ],
       "datasetInfos": [],
       "dbfsResultPath": null,
       "isJsonSchema": true,
       "metadata": {},
       "overflow": false,
       "plotOptions": {
        "customPlotOptions": {},
        "displayType": "table",
        "pivotAggregation": null,
        "pivotColumns": null,
        "xColumns": null,
        "yColumns": null
       },
       "removedWidgets": [],
       "schema": [
        {
         "metadata": "{}",
         "name": "value",
         "type": "\"string\""
        }
       ],
       "type": "table"
      }
     },
     "output_type": "display_data"
    }
   ],
   "source": [
    "%python\n",
    "spark.sql(f'''\n",
    "    SELECT *\n",
    "    FROM text.`{DA.paths.working_dir}/csv_demo_files/malformed_example_1_data.csv`\n",
    "''').display()"
   ]
  },
  {
   "cell_type": "markdown",
   "metadata": {
    "application/vnd.databricks.v1+cell": {
     "cellMetadata": {},
     "inputWidgets": {},
     "nuid": "416f0b3d-50b9-424b-956f-7bdaf158006c",
     "showTitle": false,
     "tableResultSettingsMap": {},
     "title": ""
    }
   },
   "source": [
    "2. Use the `read_files` function to see how this CSV file is read into the table. Run the cell and view the results. \n",
    "\n",
    "    **IMPORTANT** Notice that the malformed value *aaa* in the **transactions_timestamp** column causes the column to be read as a STRING. However, we want the **transactions_timestamp** column to be read into the bronze table as a BIGINT.\n"
   ]
  },
  {
   "cell_type": "code",
   "execution_count": 0,
   "metadata": {
    "application/vnd.databricks.v1+cell": {
     "cellMetadata": {},
     "inputWidgets": {},
     "nuid": "c528a9ac-e2b3-4b22-9584-6d0cca7e7169",
     "showTitle": true,
     "tableResultSettingsMap": {},
     "title": "Use read_files without a schema"
    }
   },
   "outputs": [],
   "source": [
    "SELECT *\n",
    "FROM read_files(\n",
    "        DA.paths_working_dir || '/csv_demo_files/malformed_example_1_data.csv',\n",
    "        format => \"csv\",\n",
    "        sep => \"|\",\n",
    "        header => true\n",
    "      );"
   ]
  },
  {
   "cell_type": "markdown",
   "metadata": {
    "application/vnd.databricks.v1+cell": {
     "cellMetadata": {},
     "inputWidgets": {},
     "nuid": "35952960-ff86-4b1b-bbe5-884a9aa4e379",
     "showTitle": false,
     "tableResultSettingsMap": {},
     "title": ""
    }
   },
   "source": [
    "3. You can define a schema for the `read_files()` function to read in the data with a specific structure.\n",
    "\n",
    "   a. Use the `schema` option to define the schema. In this case, we'll read in the following:\n",
    "   - **order_id** as INT  \n",
    "   - **email** as STRING  \n",
    "   - **transactions_timestamp** as BIGINT\n",
    "\n",
    "   b. Use the `rescuedDataColumn` option to collect all data that can’t be parsed due to data type mismatches or schema mismatches into a separate column for review.\n",
    "\n",
    "   Run the cell and review the results. Notice that row 1 (*aaa*) could not be read using the defined schema, so it was placed in the **_rescued_data** column. Keeping rows that don’t conform to the schema allows you to inspect and process them as needed.\n",
    "\n",
    "**NOTE:** Defining a schema when using `read_files` in Databricks improves performance by skipping the expensive schema inference step and ensures consistent, reliable data parsing. It's especially beneficial for large or semi-structured datasets."
   ]
  },
  {
   "cell_type": "code",
   "execution_count": 0,
   "metadata": {
    "application/vnd.databricks.v1+cell": {
     "cellMetadata": {},
     "inputWidgets": {},
     "nuid": "e7ae05d2-fd2b-458a-a42e-13e378b23db6",
     "showTitle": true,
     "tableResultSettingsMap": {},
     "title": "Define a schema with read_files"
    }
   },
   "outputs": [],
   "source": [
    "SELECT *\n",
    "FROM read_files(\n",
    "        DA.paths_working_dir || '/csv_demo_files/malformed_example_1_data.csv',\n",
    "        format => \"csv\",\n",
    "        sep => \"|\",\n",
    "        header => true,\n",
    "        schema => '''\n",
    "            order_id INT, \n",
    "            email STRING, \n",
    "            transactions_timestamp BIGINT''', \n",
    "        rescueddatacolumn => '_rescued_data'    -- Create the _rescued_data column\n",
    "      );"
   ]
  },
  {
   "cell_type": "markdown",
   "metadata": {
    "application/vnd.databricks.v1+cell": {
     "cellMetadata": {},
     "inputWidgets": {},
     "nuid": "984f87d4-d091-4355-be11-253c70f402a4",
     "showTitle": false,
     "tableResultSettingsMap": {},
     "title": ""
    }
   },
   "source": [
    "#### Summary: Rescued Data Column\n",
    "\n",
    "The rescued data column ensures that rows that don’t match with the schema are rescued instead of being dropped. The rescued data column contains any data that isn’t parsed for the following reasons:\n",
    "- The column is missing from the schema.\n",
    "- Type mismatches\n",
    "- Case mismatches"
   ]
  },
  {
   "cell_type": "markdown",
   "metadata": {
    "application/vnd.databricks.v1+cell": {
     "cellMetadata": {},
     "inputWidgets": {},
     "nuid": "1c469dbe-cd46-4540-9800-470103d7fbc4",
     "showTitle": false,
     "tableResultSettingsMap": {},
     "title": ""
    }
   },
   "source": [
    "### C2. Handling Missing Headers During Ingestion \n",
    "In this example, the CSV file contains a missing header by mistake."
   ]
  },
  {
   "cell_type": "markdown",
   "metadata": {
    "application/vnd.databricks.v1+cell": {
     "cellMetadata": {},
     "inputWidgets": {},
     "nuid": "01b9eac8-5531-4108-b354-1edc9d9b2e4c",
     "showTitle": false,
     "tableResultSettingsMap": {},
     "title": ""
    }
   },
   "source": [
    "1. Run the cell below to view the **malformed_example_2_data.csv** file. Notice that the first row contains headers, but the first column name is missing."
   ]
  },
  {
   "cell_type": "code",
   "execution_count": 0,
   "metadata": {
    "application/vnd.databricks.v1+cell": {
     "cellMetadata": {
      "byteLimit": 2048000,
      "rowLimit": 10000
     },
     "inputWidgets": {},
     "nuid": "6088675e-e4ea-466a-b094-ede2aabe24d3",
     "showTitle": true,
     "tableResultSettingsMap": {},
     "title": "View the CSV file as text"
    }
   },
   "outputs": [
    {
     "output_type": "display_data",
     "data": {
      "text/html": [
       "<style scoped>\n",
       "  .table-result-container {\n",
       "    max-height: 300px;\n",
       "    overflow: auto;\n",
       "  }\n",
       "  table, th, td {\n",
       "    border: 1px solid black;\n",
       "    border-collapse: collapse;\n",
       "  }\n",
       "  th, td {\n",
       "    padding: 5px;\n",
       "  }\n",
       "  th {\n",
       "    text-align: left;\n",
       "  }\n",
       "</style><div class='table-result-container'><table class='table-result'><thead style='background-color: white'><tr><th>value</th></tr></thead><tbody><tr><td>|email|transactions_timestamp</td></tr><tr><td>298592|sandovalaustin@holder.com|1592629288475307</td></tr><tr><td>299024|msmith@monroe.com|1592636869915092</td></tr><tr><td>300048|robertstimothy@hotmail.com|1592649862529478</td></tr><tr><td>298711|lovejamie@yahoo.com|1592631406799948</td></tr></tbody></table></div>"
      ]
     },
     "metadata": {
      "application/vnd.databricks.v1+output": {
       "addedWidgets": {},
       "aggData": [],
       "aggError": "",
       "aggOverflow": false,
       "aggSchema": [],
       "aggSeriesLimitReached": false,
       "aggType": "",
       "arguments": {},
       "columnCustomDisplayInfos": {},
       "data": [
        [
         "|email|transactions_timestamp"
        ],
        [
         "298592|sandovalaustin@holder.com|1592629288475307"
        ],
        [
         "299024|msmith@monroe.com|1592636869915092"
        ],
        [
         "300048|robertstimothy@hotmail.com|1592649862529478"
        ],
        [
         "298711|lovejamie@yahoo.com|1592631406799948"
        ]
       ],
       "datasetInfos": [],
       "dbfsResultPath": null,
       "isJsonSchema": true,
       "metadata": {},
       "overflow": false,
       "plotOptions": {
        "customPlotOptions": {},
        "displayType": "table",
        "pivotAggregation": null,
        "pivotColumns": null,
        "xColumns": null,
        "yColumns": null
       },
       "removedWidgets": [],
       "schema": [
        {
         "metadata": "{}",
         "name": "value",
         "type": "\"string\""
        }
       ],
       "type": "table"
      }
     },
     "output_type": "display_data"
    }
   ],
   "source": [
    "%python\n",
    "spark.sql(f'''\n",
    "  SELECT *\n",
    "  FROM text.`{DA.paths.working_dir}/csv_demo_files/malformed_example_2_data.csv`\n",
    "''').display()"
   ]
  },
  {
   "cell_type": "markdown",
   "metadata": {
    "application/vnd.databricks.v1+cell": {
     "cellMetadata": {},
     "inputWidgets": {},
     "nuid": "1f270b71-f315-4e8e-84c3-d2a34b57ee56",
     "showTitle": false,
     "tableResultSettingsMap": {},
     "title": ""
    }
   },
   "source": [
    "2. Let's try to create a table using the **malformed_example_2_data.csv** file with the `read_files()` function. Run the cell and review the results.\n",
    "\n",
    "    Notice the following:\n",
    "    - The first column of the CSV file was not read into the table as a standard column and was instead placed in the **_rescued_data** column.\n",
    "\n",
    "    - The **_rescued_data** column stores the rescued data as a JSON-formatted string.\n",
    "    \n",
    "    - When inspecting the **_rescued_data** JSON-formatted string, you'll see that the unnamed column from the CSV file is represented with a key of **_c0**, which contains the column value as a string, along with a **_file_path** key."
   ]
  },
  {
   "cell_type": "code",
   "execution_count": 0,
   "metadata": {
    "application/vnd.databricks.v1+cell": {
     "cellMetadata": {
      "byteLimit": 2048000,
      "rowLimit": 10000
     },
     "inputWidgets": {},
     "nuid": "70c2e644-a97a-402e-9246-a0feddcef56c",
     "showTitle": true,
     "tableResultSettingsMap": {},
     "title": "Use read_files to read a malformed CSV file"
    }
   },
   "outputs": [
    {
     "output_type": "display_data",
     "data": {
      "text/html": [
       "<style scoped>\n",
       "  .table-result-container {\n",
       "    max-height: 300px;\n",
       "    overflow: auto;\n",
       "  }\n",
       "  table, th, td {\n",
       "    border: 1px solid black;\n",
       "    border-collapse: collapse;\n",
       "  }\n",
       "  th, td {\n",
       "    padding: 5px;\n",
       "  }\n",
       "  th {\n",
       "    text-align: left;\n",
       "  }\n",
       "</style><div class='table-result-container'><table class='table-result'><thead style='background-color: white'><tr><th>email</th><th>transactions_timestamp</th><th>_rescued_data</th></tr></thead><tbody><tr><td>sandovalaustin@holder.com</td><td>1592629288475307</td><td>{\"_c0\":\"298592\",\"_file_path\":\"dbfs:/Volumes/dbacademy/ops/labuser10989365_1753218039@vocareum_com/csv_demo_files/malformed_example_2_data.csv\"}</td></tr><tr><td>msmith@monroe.com</td><td>1592636869915092</td><td>{\"_c0\":\"299024\",\"_file_path\":\"dbfs:/Volumes/dbacademy/ops/labuser10989365_1753218039@vocareum_com/csv_demo_files/malformed_example_2_data.csv\"}</td></tr><tr><td>robertstimothy@hotmail.com</td><td>1592649862529478</td><td>{\"_c0\":\"300048\",\"_file_path\":\"dbfs:/Volumes/dbacademy/ops/labuser10989365_1753218039@vocareum_com/csv_demo_files/malformed_example_2_data.csv\"}</td></tr><tr><td>lovejamie@yahoo.com</td><td>1592631406799948</td><td>{\"_c0\":\"298711\",\"_file_path\":\"dbfs:/Volumes/dbacademy/ops/labuser10989365_1753218039@vocareum_com/csv_demo_files/malformed_example_2_data.csv\"}</td></tr></tbody></table></div>"
      ]
     },
     "metadata": {
      "application/vnd.databricks.v1+output": {
       "addedWidgets": {},
       "aggData": [],
       "aggError": "",
       "aggOverflow": false,
       "aggSchema": [],
       "aggSeriesLimitReached": false,
       "aggType": "",
       "arguments": {},
       "columnCustomDisplayInfos": {},
       "data": [
        [
         "sandovalaustin@holder.com",
         1592629288475307,
         "{\"_c0\":\"298592\",\"_file_path\":\"dbfs:/Volumes/dbacademy/ops/labuser10989365_1753218039@vocareum_com/csv_demo_files/malformed_example_2_data.csv\"}"
        ],
        [
         "msmith@monroe.com",
         1592636869915092,
         "{\"_c0\":\"299024\",\"_file_path\":\"dbfs:/Volumes/dbacademy/ops/labuser10989365_1753218039@vocareum_com/csv_demo_files/malformed_example_2_data.csv\"}"
        ],
        [
         "robertstimothy@hotmail.com",
         1592649862529478,
         "{\"_c0\":\"300048\",\"_file_path\":\"dbfs:/Volumes/dbacademy/ops/labuser10989365_1753218039@vocareum_com/csv_demo_files/malformed_example_2_data.csv\"}"
        ],
        [
         "lovejamie@yahoo.com",
         1592631406799948,
         "{\"_c0\":\"298711\",\"_file_path\":\"dbfs:/Volumes/dbacademy/ops/labuser10989365_1753218039@vocareum_com/csv_demo_files/malformed_example_2_data.csv\"}"
        ]
       ],
       "datasetInfos": [],
       "dbfsResultPath": null,
       "isJsonSchema": true,
       "metadata": {
        "isDbfsCommandResult": false
       },
       "overflow": false,
       "plotOptions": {
        "customPlotOptions": {},
        "displayType": "table",
        "pivotAggregation": null,
        "pivotColumns": null,
        "xColumns": null,
        "yColumns": null
       },
       "removedWidgets": [],
       "schema": [
        {
         "metadata": "{}",
         "name": "email",
         "type": "\"string\""
        },
        {
         "metadata": "{}",
         "name": "transactions_timestamp",
         "type": "\"long\""
        },
        {
         "metadata": "{}",
         "name": "_rescued_data",
         "type": "\"string\""
        }
       ],
       "type": "table"
      }
     },
     "output_type": "display_data"
    }
   ],
   "source": [
    "-- Drop the table if it exists for demonstration purposes\n",
    "DROP TABLE IF EXISTS demo_4_example_2_bronze;\n",
    "\n",
    "-- Create Delta table by ingesting CSV file\n",
    "CREATE OR REPLACE TABLE demo_4_example_2_bronze AS\n",
    "SELECT *\n",
    "FROM read_files(\n",
    "        DA.paths_working_dir || '/csv_demo_files/malformed_example_2_data.csv',\n",
    "        format => \"csv\",\n",
    "        sep => \"|\",\n",
    "        header => true\n",
    "      );\n",
    "\n",
    "\n",
    "-- Display the table\n",
    "SELECT *\n",
    "FROM demo_4_example_2_bronze;"
   ]
  },
  {
   "cell_type": "markdown",
   "metadata": {
    "application/vnd.databricks.v1+cell": {
     "cellMetadata": {},
     "inputWidgets": {},
     "nuid": "d7046548-f540-4e8f-99d9-29983d09fd59",
     "showTitle": false,
     "tableResultSettingsMap": {},
     "title": ""
    }
   },
   "source": [
    "3. The **_rescued_data** column is a JSON-formatted string. We won’t go into detail on how to handle this type of data here, as it will be covered in a later demo and lab.\n",
    "\n",
    "    However, it's important to note that you can extract values from the **_rescued_data** column and add them to your bronze table. To obtain the value from the **_c0** field, you can use the `_rescued_data:_c0` syntax, as shown in the next cell.\n",
    "\n",
    "    **NOTE:** The output from running the next cell returns **order_id** as the rescued column."
   ]
  },
  {
   "cell_type": "code",
   "execution_count": 0,
   "metadata": {
    "application/vnd.databricks.v1+cell": {
     "cellMetadata": {
      "byteLimit": 2048000,
      "rowLimit": 10000
     },
     "inputWidgets": {},
     "nuid": "048579dd-358a-4f09-bd68-ab9aad115a8c",
     "showTitle": true,
     "tableResultSettingsMap": {
      "0": {
       "dataGridStateBlob": "{\"version\":1,\"tableState\":{\"columnPinning\":{\"left\":[\"#row_number#\"],\"right\":[]},\"columnSizing\":{},\"columnVisibility\":{}},\"settings\":{\"columns\":{}},\"syncTimestamp\":1753218356983}",
       "filterBlob": null,
       "queryPlanFiltersBlob": null,
       "tableResultIndex": 0
      }
     },
     "title": "Fix the rescued data column"
    }
   },
   "outputs": [
    {
     "output_type": "display_data",
     "data": {
      "text/html": [
       "<style scoped>\n",
       "  .table-result-container {\n",
       "    max-height: 300px;\n",
       "    overflow: auto;\n",
       "  }\n",
       "  table, th, td {\n",
       "    border: 1px solid black;\n",
       "    border-collapse: collapse;\n",
       "  }\n",
       "  th, td {\n",
       "    padding: 5px;\n",
       "  }\n",
       "  th {\n",
       "    text-align: left;\n",
       "  }\n",
       "</style><div class='table-result-container'><table class='table-result'><thead style='background-color: white'><tr><th>order_id</th><th>id_opt2</th><th>id_opt3</th><th>id_opt4</th><th>email</th><th>transactions_timestamp</th><th>_rescued_data</th></tr></thead><tbody><tr><td>298592</td><td>298592</td><td>298592</td><td>298592</td><td>sandovalaustin@holder.com</td><td>1592629288475307</td><td>{\"_c0\":\"298592\",\"_file_path\":\"dbfs:/Volumes/dbacademy/ops/labuser10989365_1753218039@vocareum_com/csv_demo_files/malformed_example_2_data.csv\"}</td></tr><tr><td>299024</td><td>299024</td><td>299024</td><td>299024</td><td>msmith@monroe.com</td><td>1592636869915092</td><td>{\"_c0\":\"299024\",\"_file_path\":\"dbfs:/Volumes/dbacademy/ops/labuser10989365_1753218039@vocareum_com/csv_demo_files/malformed_example_2_data.csv\"}</td></tr><tr><td>300048</td><td>300048</td><td>300048</td><td>300048</td><td>robertstimothy@hotmail.com</td><td>1592649862529478</td><td>{\"_c0\":\"300048\",\"_file_path\":\"dbfs:/Volumes/dbacademy/ops/labuser10989365_1753218039@vocareum_com/csv_demo_files/malformed_example_2_data.csv\"}</td></tr><tr><td>298711</td><td>298711</td><td>298711</td><td>298711</td><td>lovejamie@yahoo.com</td><td>1592631406799948</td><td>{\"_c0\":\"298711\",\"_file_path\":\"dbfs:/Volumes/dbacademy/ops/labuser10989365_1753218039@vocareum_com/csv_demo_files/malformed_example_2_data.csv\"}</td></tr></tbody></table></div>"
      ]
     },
     "metadata": {
      "application/vnd.databricks.v1+output": {
       "addedWidgets": {},
       "aggData": [],
       "aggError": "",
       "aggOverflow": false,
       "aggSchema": [],
       "aggSeriesLimitReached": false,
       "aggType": "",
       "arguments": {},
       "columnCustomDisplayInfos": {},
       "data": [
        [
         298592,
         "298592",
         "298592",
         298592,
         "sandovalaustin@holder.com",
         1592629288475307,
         "{\"_c0\":\"298592\",\"_file_path\":\"dbfs:/Volumes/dbacademy/ops/labuser10989365_1753218039@vocareum_com/csv_demo_files/malformed_example_2_data.csv\"}"
        ],
        [
         299024,
         "299024",
         "299024",
         299024,
         "msmith@monroe.com",
         1592636869915092,
         "{\"_c0\":\"299024\",\"_file_path\":\"dbfs:/Volumes/dbacademy/ops/labuser10989365_1753218039@vocareum_com/csv_demo_files/malformed_example_2_data.csv\"}"
        ],
        [
         300048,
         "300048",
         "300048",
         300048,
         "robertstimothy@hotmail.com",
         1592649862529478,
         "{\"_c0\":\"300048\",\"_file_path\":\"dbfs:/Volumes/dbacademy/ops/labuser10989365_1753218039@vocareum_com/csv_demo_files/malformed_example_2_data.csv\"}"
        ],
        [
         298711,
         "298711",
         "298711",
         298711,
         "lovejamie@yahoo.com",
         1592631406799948,
         "{\"_c0\":\"298711\",\"_file_path\":\"dbfs:/Volumes/dbacademy/ops/labuser10989365_1753218039@vocareum_com/csv_demo_files/malformed_example_2_data.csv\"}"
        ]
       ],
       "datasetInfos": [],
       "dbfsResultPath": null,
       "isJsonSchema": true,
       "metadata": {
        "isDbfsCommandResult": false
       },
       "overflow": false,
       "plotOptions": {
        "customPlotOptions": {},
        "displayType": "table",
        "pivotAggregation": null,
        "pivotColumns": null,
        "xColumns": null,
        "yColumns": null
       },
       "removedWidgets": [],
       "schema": [
        {
         "metadata": "{}",
         "name": "order_id",
         "type": "\"long\""
        },
        {
         "metadata": "{}",
         "name": "id_opt2",
         "type": "\"string\""
        },
        {
         "metadata": "{}",
         "name": "id_opt3",
         "type": "\"string\""
        },
        {
         "metadata": "{}",
         "name": "id_opt4",
         "type": "\"integer\""
        },
        {
         "metadata": "{}",
         "name": "email",
         "type": "\"string\""
        },
        {
         "metadata": "{}",
         "name": "transactions_timestamp",
         "type": "\"long\""
        },
        {
         "metadata": "{}",
         "name": "_rescued_data",
         "type": "\"string\""
        }
       ],
       "type": "table"
      }
     },
     "output_type": "display_data"
    }
   ],
   "source": [
    "SELECT\n",
    "  cast(_rescued_data:_c0 AS BIGINT) AS order_id,\n",
    "  get_json_object(_rescued_data, '$._c0') AS id_opt2,\n",
    "  _rescued_data:_c0 AS id_opt3,\n",
    "  _rescued_data:_c0::int AS id_opt4,\n",
    "  *\n",
    "FROM read_files(\n",
    "        DA.paths_working_dir || '/csv_demo_files/malformed_example_2_data.csv',\n",
    "        format => \"csv\",\n",
    "        sep => \"|\",\n",
    "        header => true\n",
    "      )"
   ]
  },
  {
   "cell_type": "markdown",
   "metadata": {
    "application/vnd.databricks.v1+cell": {
     "cellMetadata": {},
     "inputWidgets": {},
     "nuid": "5a1d4860-45ae-4304-8996-fa087766d448",
     "showTitle": false,
     "tableResultSettingsMap": {},
     "title": ""
    }
   },
   "source": [
    "\n",
    "&copy; 2025 Databricks, Inc. All rights reserved. Apache, Apache Spark, Spark, the Spark Logo, Apache Iceberg, Iceberg, and the Apache Iceberg logo are trademarks of the <a href=\"https://www.apache.org/\" target=\"blank\">Apache Software Foundation</a>.<br/>\n",
    "<br/><a href=\"https://databricks.com/privacy-policy\" target=\"blank\">Privacy Policy</a> | \n",
    "<a href=\"https://databricks.com/terms-of-use\" target=\"blank\">Terms of Use</a> | \n",
    "<a href=\"https://help.databricks.com/\" target=\"blank\">Support</a>"
   ]
  }
 ],
 "metadata": {
  "application/vnd.databricks.v1+notebook": {
   "computePreferences": null,
   "dashboards": [],
   "environmentMetadata": null,
   "inputWidgetPreferences": null,
   "language": "sql",
   "notebookMetadata": {
    "mostRecentlyExecutedCommandWithImplicitDF": {
     "commandId": 2666662153082901,
     "dataframes": [
      "_sqldf"
     ]
    },
    "pythonIndentUnit": 4
   },
   "notebookName": "04 - Handling CSV Ingestion with the Rescued Data Column",
   "widgets": {}
  },
  "language_info": {
   "name": "sql"
  }
 },
 "nbformat": 4,
 "nbformat_minor": 0
}