{
 "cells": [
  {
   "cell_type": "markdown",
   "metadata": {
    "application/vnd.databricks.v1+cell": {
     "cellMetadata": {},
     "inputWidgets": {},
     "nuid": "fc978b88-fdd8-45c0-b72d-02004dd5b7e7",
     "showTitle": false,
     "tableResultSettingsMap": {},
     "title": ""
    }
   },
   "source": [
    "\n",
    "<div style=\"text-align: center; line-height: 0; padding-top: 9px;\">\n",
    "  <img src=\"https://databricks.com/wp-content/uploads/2018/03/db-academy-rgb-1200px.png\" alt=\"Databricks Learning\">\n",
    "</div>\n"
   ]
  },
  {
   "cell_type": "markdown",
   "metadata": {
    "application/vnd.databricks.v1+cell": {
     "cellMetadata": {},
     "inputWidgets": {},
     "nuid": "8c897a9f-3a29-4ac6-b6ca-a4ac17f8d972",
     "showTitle": false,
     "tableResultSettingsMap": {},
     "title": ""
    }
   },
   "source": [
    "# Lab - Creating Bronze Tables from JSON Files\n",
    "### Duration: ~ 15 minutes\n",
    "\n",
    "In this lab you will ingest a JSON file as Delta table and then flatten the JSON formatted string column.\n",
    "\n",
    "### Learning Objectives\n",
    "  - Inspect a raw JSON file.\n",
    "  - Read in JSON files to a Delta table and flatten the JSON formatted string column."
   ]
  },
  {
   "cell_type": "markdown",
   "metadata": {
    "application/vnd.databricks.v1+cell": {
     "cellMetadata": {},
     "inputWidgets": {},
     "nuid": "d4202b28-9fb4-4e64-850f-36af14aeaec1",
     "showTitle": false,
     "tableResultSettingsMap": {},
     "title": ""
    }
   },
   "source": [
    "## REQUIRED - SELECT CLASSIC COMPUTE\n",
    "\n",
    "Before executing cells in this notebook, please select your classic compute cluster in the lab. Be aware that **Serverless** is enabled by default and you have a Shared SQL warehouse.\n",
    "\n",
    "<!-- ![Select Cluster](./Includes/images/selecting_cluster_info.png) -->\n",
    "\n",
    "Follow these steps to select the classic compute cluster:\n",
    "\n",
    "\n",
    "1. Navigate to the top-right of this notebook and click the drop-down menu to select your cluster. By default, the notebook will use **Serverless**.\n",
    "\n",
    "2. If your cluster is available, select it and continue to the next cell. If the cluster is not shown:\n",
    "\n",
    "   - Click **More** in the drop-down.\n",
    "\n",
    "   - In the **Attach to an existing compute resource** window, use the first drop-down to select your unique cluster.\n",
    "\n",
    "**NOTE:** If your cluster has terminated, you might need to restart it in order to select it. To do this:\n",
    "\n",
    "1. Right-click on **Compute** in the left navigation pane and select *Open in new tab*.\n",
    "\n",
    "2. Find the triangle icon to the right of your compute cluster name and click it.\n",
    "\n",
    "3. Wait a few minutes for the cluster to start.\n",
    "\n",
    "4. Once the cluster is running, complete the steps above to select your cluster."
   ]
  },
  {
   "cell_type": "markdown",
   "metadata": {
    "application/vnd.databricks.v1+cell": {
     "cellMetadata": {},
     "inputWidgets": {},
     "nuid": "ad3b1f33-8118-4af2-bcac-cd6bc35215c6",
     "showTitle": false,
     "tableResultSettingsMap": {},
     "title": ""
    }
   },
   "source": [
    "\n",
    "## A. Classroom Setup\n",
    "\n",
    "Run the following cell to configure your working environment for this notebook.\n",
    "\n",
    "**NOTE:** The `DA` object is only used in Databricks Academy courses and is not available outside of these courses. It will dynamically reference the information needed to run the course in the lab environment."
   ]
  },
  {
   "cell_type": "code",
   "execution_count": 0,
   "metadata": {
    "application/vnd.databricks.v1+cell": {
     "cellMetadata": {},
     "inputWidgets": {},
     "nuid": "bf3a4eef-b10e-436d-87f6-275955a9f79c",
     "showTitle": false,
     "tableResultSettingsMap": {},
     "title": ""
    }
   },
   "outputs": [],
   "source": [
    "%run ./Includes/Classroom-Setup-07L"
   ]
  },
  {
   "cell_type": "markdown",
   "metadata": {
    "application/vnd.databricks.v1+cell": {
     "cellMetadata": {},
     "inputWidgets": {},
     "nuid": "086d28eb-68ca-452e-9f4f-bd158d46989c",
     "showTitle": false,
     "tableResultSettingsMap": {},
     "title": ""
    }
   },
   "source": [
    "Run the cell below to view your default catalog and schema. Notice that your default catalog is **dbacademy** and your default schema is your unique **labuser** schema.\n",
    "\n",
    "**NOTE:** The default catalog and schema are pre-configured for you to avoid the need to specify the three-level name for when writing your tables (i.e., catalog.schema.table)."
   ]
  },
  {
   "cell_type": "code",
   "execution_count": 0,
   "metadata": {
    "application/vnd.databricks.v1+cell": {
     "cellMetadata": {},
     "inputWidgets": {},
     "nuid": "60690e60-2286-474c-9630-a280a0a42d93",
     "showTitle": false,
     "tableResultSettingsMap": {},
     "title": ""
    }
   },
   "outputs": [],
   "source": [
    "SELECT current_catalog(), current_schema()"
   ]
  },
  {
   "cell_type": "markdown",
   "metadata": {
    "application/vnd.databricks.v1+cell": {
     "cellMetadata": {},
     "inputWidgets": {},
     "nuid": "ff6bafa3-b856-49f9-bfab-39325aa92a0a",
     "showTitle": false,
     "tableResultSettingsMap": {},
     "title": ""
    }
   },
   "source": [
    "## B. Lab - JSON Ingestion\n",
    "**Scenario:** You are working with your data team on ingesting a JSON file into Databricks. Your job is to ingest the JSON file as is into a bronze table, then create a second bronze table that flattens the JSON formatted string column in the raw bronze table for downstream processing."
   ]
  },
  {
   "cell_type": "markdown",
   "metadata": {
    "application/vnd.databricks.v1+cell": {
     "cellMetadata": {},
     "inputWidgets": {},
     "nuid": "e429ec75-4eb9-43ff-abce-c489c9e2a3f9",
     "showTitle": false,
     "tableResultSettingsMap": {},
     "title": ""
    }
   },
   "source": [
    "### B1. Inspect the Dataset"
   ]
  },
  {
   "cell_type": "markdown",
   "metadata": {
    "application/vnd.databricks.v1+cell": {
     "cellMetadata": {},
     "inputWidgets": {},
     "nuid": "5d5ceed2-096b-49fd-abb5-036f9888baa1",
     "showTitle": false,
     "tableResultSettingsMap": {},
     "title": ""
    }
   },
   "source": [
    "1. In the cell below, view the value of the Python variable `DA.paths.working_dir`. This variable will reference your **dbacademy.ops.labuser** volume, as each user has a different source volume. This variable is created within the classroom setup script to dynamically reference your unique volume.\n",
    "\n",
    "   Run the cell and review the results. You’ll notice that the `DA.paths.working_dir` variable points to your `/Volumes/dbacademy/ops/labuser` volume.\n",
    "\n",
    "**Note:** Instead of using the `DA.paths.working_dir` variable, you could also specify the path name directly by right clicking on your volume and selecting **Copy volume path**."
   ]
  },
  {
   "cell_type": "code",
   "execution_count": 0,
   "metadata": {
    "application/vnd.databricks.v1+cell": {
     "cellMetadata": {},
     "inputWidgets": {},
     "nuid": "20222ec6-16e3-450e-a683-a42cd84ed89e",
     "showTitle": false,
     "tableResultSettingsMap": {},
     "title": ""
    }
   },
   "outputs": [],
   "source": [
    "%python\n",
    "print(DA.paths.working_dir)"
   ]
  },
  {
   "cell_type": "markdown",
   "metadata": {
    "application/vnd.databricks.v1+cell": {
     "cellMetadata": {},
     "inputWidgets": {},
     "nuid": "5dc4a6d3-c388-4db0-bf6b-0b8b6e8936d0",
     "showTitle": false,
     "tableResultSettingsMap": {},
     "title": ""
    }
   },
   "source": [
    "Run the cell to view the data in the `/Volumes/dbacademy/ops/your-labuser-name/json_demo_files/lab_kafka_events.json` file in the location from above."
   ]
  },
  {
   "cell_type": "code",
   "execution_count": 0,
   "metadata": {
    "application/vnd.databricks.v1+cell": {
     "cellMetadata": {},
     "inputWidgets": {},
     "nuid": "24384d07-3cdc-4f74-9445-5d1f64575032",
     "showTitle": false,
     "tableResultSettingsMap": {},
     "title": ""
    }
   },
   "outputs": [],
   "source": [
    "%python\n",
    "spark.sql(f'''\n",
    "          SELECT * \n",
    "          FROM json.`{DA.paths.working_dir}/json_demo_files/lab_kafka_events.json`\n",
    "          ''').display()"
   ]
  },
  {
   "cell_type": "markdown",
   "metadata": {
    "application/vnd.databricks.v1+cell": {
     "cellMetadata": {},
     "inputWidgets": {},
     "nuid": "102b9ea3-645c-4165-b353-c699a7b0be40",
     "showTitle": false,
     "tableResultSettingsMap": {},
     "title": ""
    }
   },
   "source": [
    "### B2. Create the Raw Bronze Table\n",
    "\n",
    "Inspect and run the code below to ingest the raw JSON file `/Volumes/dbacademy/ops/your-labuser-name/json_demo_files/lab_kafka_events.json` and create the **lab7_lab_kafka_events_raw** table.\n",
    "\n",
    "Notice the following:\n",
    "- The **value** column is decoded.\n",
    "- The **decoded_value** column was created and returns the decoded column as a JSON-formatted string.\n"
   ]
  },
  {
   "cell_type": "code",
   "execution_count": 0,
   "metadata": {
    "application/vnd.databricks.v1+cell": {
     "cellMetadata": {},
     "inputWidgets": {},
     "nuid": "33499167-5d0f-46ea-a056-527f4d777aa7",
     "showTitle": false,
     "tableResultSettingsMap": {},
     "title": ""
    }
   },
   "outputs": [],
   "source": [
    "CREATE OR REPLACE TABLE lab7_lab_kafka_events_raw\n",
    "AS\n",
    "SELECT \n",
    "  *,\n",
    "  cast(unbase64(value) as STRING) as decoded_value\n",
    "FROM read_files(\n",
    "        DA.paths_working_dir || '/json_demo_files/lab_kafka_events.json',\n",
    "        format => \"json\", \n",
    "        schema => '''\n",
    "          key STRING, \n",
    "          timestamp DOUBLE, \n",
    "          value STRING\n",
    "        ''',\n",
    "        rescueddatacolumn => '_rescued_data'\n",
    "      );\n",
    "\n",
    "-- View the table\n",
    "SELECT *\n",
    "FROM lab7_lab_kafka_events_raw;"
   ]
  },
  {
   "cell_type": "markdown",
   "metadata": {
    "application/vnd.databricks.v1+cell": {
     "cellMetadata": {},
     "inputWidgets": {},
     "nuid": "9b8ed438-3e69-4bc0-971d-f779bad5e846",
     "showTitle": false,
     "tableResultSettingsMap": {},
     "title": ""
    }
   },
   "source": [
    "### B3. Create the Flattened Bronze Table"
   ]
  },
  {
   "cell_type": "markdown",
   "metadata": {
    "application/vnd.databricks.v1+cell": {
     "cellMetadata": {},
     "inputWidgets": {},
     "nuid": "f7f2ab73-5e0c-4de7-b306-38f0ad2d68bc",
     "showTitle": false,
     "tableResultSettingsMap": {},
     "title": ""
    }
   },
   "source": [
    "1. Your goal is to flatten the JSON formatted string column **decoded_value** from the table **lab7_lab_kafka_events_raw** to create a new table named **lab7_lab_kafka_events_flattened** for downstream processing. The table should contain the following columns:\n",
    "    - **key**\n",
    "    - **timestamp**\n",
    "    - **user_id**\n",
    "    - **event_type**\n",
    "    - **event_timestamp**\n",
    "    - **items**\n",
    "\n",
    "    You can use whichever technique you prefer:\n",
    "\n",
    "    - Parse the JSON formatted string (easiest) to flatten\n",
    "      - [Query JSON strings](https://docs.databricks.com/aws/en/semi-structured/json):\n",
    "\n",
    "    - Convert the JSON formatted string as a VARIANT and flatten\n",
    "      - [parse_json function](https://docs.databricks.com/gcp/en/sql/language-manual/functions/parse_json)\n",
    "\n",
    "    - Convert the JSON formatted string to a STRUCT and flatten\n",
    "      - [schema_of_json function](https://docs.databricks.com/aws/en/sql/language-manual/functions/schema_of_json)\n",
    "      - [from_json function](https://docs.databricks.com/gcp/en/sql/language-manual/functions/from_json)\n",
    "\n",
    "**NOTE:** View the lab solution notebook to view the solutions for each."
   ]
  },
  {
   "cell_type": "markdown",
   "metadata": {
    "application/vnd.databricks.v1+cell": {
     "cellMetadata": {},
     "inputWidgets": {},
     "nuid": "ddf31b8f-8d04-46b0-9714-20989ec721e6",
     "showTitle": false,
     "tableResultSettingsMap": {},
     "title": ""
    }
   },
   "source": [
    "1. To begin, run the code below to view the final solution table **lab7_lab_kafka_events_flattened_solution**. This will give you an idea of what your final table should look like.\n",
    "\n",
    "  **NOTE**: Depending on your solution, the data types of the columns may vary slightly.  \n",
    "\n",
    "\n",
    "##### Optional Challenge\n",
    "\n",
    "  As a challenge, after flattening the table, try converting the data types accordingly. Depending on your skill set, you may not convert all columns to the correct data types within the allotted time.\n",
    "\n",
    "  - **key** STRING\n",
    "  - **timestamp** DOUBLE\n",
    "  - **user_id** STRING\n",
    "  - **event_type** STRING\n",
    "  - **event_timestamp** TIMESTAMP\n",
    "  - **items** (STRUCT or VARIANT) depending on the method you used."
   ]
  },
  {
   "cell_type": "code",
   "execution_count": 0,
   "metadata": {
    "application/vnd.databricks.v1+cell": {
     "cellMetadata": {},
     "inputWidgets": {},
     "nuid": "02bb206e-76d1-477a-b3eb-99374be8e7a2",
     "showTitle": false,
     "tableResultSettingsMap": {},
     "title": ""
    }
   },
   "outputs": [],
   "source": [
    "SELECT *\n",
    "FROM lab7_lab_kafka_events_flattened_solution"
   ]
  },
  {
   "cell_type": "markdown",
   "metadata": {
    "application/vnd.databricks.v1+cell": {
     "cellMetadata": {},
     "inputWidgets": {},
     "nuid": "670be81f-cd13-48ca-ab23-7ee3a62e1deb",
     "showTitle": false,
     "tableResultSettingsMap": {},
     "title": ""
    }
   },
   "source": [
    "2. Write the query in the cell below to read the **lab_kafka_events_raw** table and create the flattened table **lab7_lab_kafka_events_flattened** following the requirements from above."
   ]
  },
  {
   "cell_type": "code",
   "execution_count": 0,
   "metadata": {
    "application/vnd.databricks.v1+cell": {
     "cellMetadata": {},
     "inputWidgets": {},
     "nuid": "c7c97b9d-84f8-4758-a297-71ff3f33999a",
     "showTitle": false,
     "tableResultSettingsMap": {},
     "title": ""
    }
   },
   "outputs": [],
   "source": [
    "---- Parse the JSON formatted STRING\n",
    "CREATE OR REPLACE TABLE lab7_lab_kafka_events_flattened_str\n",
    "AS\n",
    "SELECT \n",
    "  key,\n",
    "  timestamp,\n",
    "  decoded_value:user_id,\n",
    "  decoded_value:event_type,\n",
    "  cast(decoded_value:event_timestamp AS TIMESTAMP),\n",
    "  from_json(decoded_value:items,'ARRAY<STRUCT<item_id: STRING, price_usd: DOUBLE, quantity: BIGINT>>') AS items\n",
    "FROM lab7_lab_kafka_events_raw;\n",
    "\n",
    "\n",
    "---- Display the table\n",
    "SELECT *\n",
    "FROM lab7_lab_kafka_events_flattened_str;"
   ]
  },
  {
   "cell_type": "code",
   "execution_count": 0,
   "metadata": {
    "application/vnd.databricks.v1+cell": {
     "cellMetadata": {},
     "inputWidgets": {},
     "nuid": "5a413029-6a09-4611-8fb6-81c69e203f2f",
     "showTitle": false,
     "tableResultSettingsMap": {},
     "title": ""
    }
   },
   "outputs": [],
   "source": [
    "---- Convert the JSON formatted string as a VARIANT\n",
    "---- NOTE: The VARIANT decoded_value_variant column is included in this solution to display the column\n",
    "---- NOTE: Variant data type will not work on Serverless Version 1.\n",
    "CREATE OR REPLACE TABLE lab7_lab_kafka_events_flattened_variant\n",
    "AS\n",
    "SELECT\n",
    "  key,\n",
    "  timestamp,\n",
    "  parse_json(decoded_value) AS decoded_value_variant,\n",
    "  cast(decoded_value_variant:user_id AS STRING),\n",
    "  decoded_value_variant:event_type :: STRING,\n",
    "  decoded_value_variant:event_timestamp :: TIMESTAMP,\n",
    "  decoded_value_variant:items\n",
    "FROM lab7_lab_kafka_events_raw;\n",
    "\n",
    "\n",
    "---- Display the table\n",
    "SELECT *\n",
    "FROM lab7_lab_kafka_events_flattened_variant;"
   ]
  },
  {
   "cell_type": "code",
   "execution_count": 0,
   "metadata": {
    "application/vnd.databricks.v1+cell": {
     "cellMetadata": {},
     "inputWidgets": {},
     "nuid": "77a78bb7-eb52-48ff-a5bf-0444fecfdb2c",
     "showTitle": false,
     "tableResultSettingsMap": {},
     "title": ""
    }
   },
   "outputs": [],
   "source": [
    "---- Convert the JSON formatted string as a STRUCT\n",
    "\n",
    "---- Return the structure of the JSON formatted string\n",
    "SELECT schema_of_json(decoded_value)\n",
    "FROM lab7_lab_kafka_events_raw\n",
    "LIMIT 1;\n",
    "\n",
    "\n",
    "---- Use the JSON structure from above within the from_json function to convert the JSON formatted string to a STRUCT\n",
    "---- NOTE: The STRUCT decoded_value_struct column is included in this solution to display the column\n",
    "CREATE OR REPLACE TABLE lab7_lab_kafka_events_flattened_struct\n",
    "AS\n",
    "SELECT\n",
    "  key,\n",
    "  timestamp,\n",
    "  from_json(decoded_value, 'STRUCT<event_timestamp: STRING, event_type: STRING, items: ARRAY<STRUCT<item_id: STRING, price_usd: DOUBLE, quantity: BIGINT>>, user_id: STRING>') AS decoded_value_struct,\n",
    "  decoded_value_struct.user_id,\n",
    "  decoded_value_struct.event_type,\n",
    "  cast(decoded_value_struct.event_timestamp AS TIMESTAMP),\n",
    "  decoded_value_struct.items\n",
    "FROM lab7_lab_kafka_events_raw;\n",
    "\n",
    "\n",
    "---- Display the table\n",
    "SELECT *\n",
    "FROM lab7_lab_kafka_events_flattened_struct;"
   ]
  },
  {
   "cell_type": "markdown",
   "metadata": {
    "application/vnd.databricks.v1+cell": {
     "cellMetadata": {},
     "inputWidgets": {},
     "nuid": "12d60304-3d21-4745-922f-3590c6938da3",
     "showTitle": false,
     "tableResultSettingsMap": {},
     "title": ""
    }
   },
   "source": [
    "\n",
    "&copy; 2025 Databricks, Inc. All rights reserved. Apache, Apache Spark, Spark, the Spark Logo, Apache Iceberg, Iceberg, and the Apache Iceberg logo are trademarks of the <a href=\"https://www.apache.org/\" target=\"blank\">Apache Software Foundation</a>.<br/>\n",
    "<br/><a href=\"https://databricks.com/privacy-policy\" target=\"blank\">Privacy Policy</a> | \n",
    "<a href=\"https://databricks.com/terms-of-use\" target=\"blank\">Terms of Use</a> | \n",
    "<a href=\"https://help.databricks.com/\" target=\"blank\">Support</a>"
   ]
  }
 ],
 "metadata": {
  "application/vnd.databricks.v1+notebook": {
   "computePreferences": null,
   "dashboards": [],
   "environmentMetadata": null,
   "inputWidgetPreferences": null,
   "language": "sql",
   "notebookMetadata": {
    "pythonIndentUnit": 4
   },
   "notebookName": "07L Solution - Creating Bronze Tables from JSON Files",
   "widgets": {}
  },
  "language_info": {
   "name": "sql"
  }
 },
 "nbformat": 4,
 "nbformat_minor": 0
}