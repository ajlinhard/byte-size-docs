{
 "cells": [
  {
   "cell_type": "markdown",
   "metadata": {
    "application/vnd.databricks.v1+cell": {
     "cellMetadata": {},
     "inputWidgets": {},
     "nuid": "2f8b5c1b-df24-4145-9cda-8dbd09afce9e",
     "showTitle": false,
     "tableResultSettingsMap": {},
     "title": ""
    }
   },
   "source": [
    "\n",
    "<div style=\"text-align: center; line-height: 0; padding-top: 9px;\">\n",
    "  <img src=\"https://databricks.com/wp-content/uploads/2018/03/db-academy-rgb-1200px.png\" alt=\"Databricks Learning\">\n",
    "</div>\n"
   ]
  },
  {
   "cell_type": "markdown",
   "metadata": {
    "application/vnd.databricks.v1+cell": {
     "cellMetadata": {},
     "inputWidgets": {},
     "nuid": "b7c32d49-289b-4d48-a073-10433fb2b631",
     "showTitle": false,
     "tableResultSettingsMap": {},
     "title": ""
    }
   },
   "source": [
    "# Appendix - Ingesting XML Files with Databricks\n",
    "### Extra material, not part of a live teach.\n",
    "In this demonstration we will go over how to ingest XML files and store them as Bronze Delta tables.\n",
    "\n",
    "### Learning Objectives\n",
    "\n",
    "By the end of this lesson, you should be able to:\n",
    "\n",
    "- Use the `CREATE TABLE AS SELECT` (CTAS) statement with the `read_files()` function to ingest XML files into a Delta table, including any rescued data.\n"
   ]
  },
  {
   "cell_type": "markdown",
   "metadata": {
    "application/vnd.databricks.v1+cell": {
     "cellMetadata": {},
     "inputWidgets": {},
     "nuid": "3695e8c5-6a3a-4296-a06c-168a5b8cec9c",
     "showTitle": false,
     "tableResultSettingsMap": {},
     "title": ""
    }
   },
   "source": [
    "## REQUIRED - SELECT CLASSIC COMPUTE\n",
    "\n",
    "Before executing cells in this notebook, please select your classic compute cluster in the lab. Be aware that **Serverless** is enabled by default.\n",
    "\n",
    "Follow these steps to select the classic compute cluster:\n",
    "\n",
    "1. Navigate to the top-right of this notebook and click the drop-down menu to select your cluster. By default, the notebook will use **Serverless**.\n",
    "\n",
    "1. If your cluster is available, select it and continue to the next cell. If the cluster is not shown:\n",
    "\n",
    "  - In the drop-down, select **More**.\n",
    "\n",
    "  - In the **Attach to an existing compute resource** pop-up, select the first drop-down. You will see a unique cluster name in that drop-down. Please select that cluster.\n",
    "\n",
    "**NOTE:** If your cluster has terminated, you might need to restart it in order to select it. To do this:\n",
    "\n",
    "1. Right-click on **Compute** in the left navigation pane and select *Open in new tab*.\n",
    "\n",
    "1. Find the triangle icon to the right of your compute cluster name and click it.\n",
    "\n",
    "1. Wait a few minutes for the cluster to start.\n",
    "\n",
    "1. Once the cluster is running, complete the steps above to select your cluster."
   ]
  },
  {
   "cell_type": "markdown",
   "metadata": {
    "application/vnd.databricks.v1+cell": {
     "cellMetadata": {},
     "inputWidgets": {},
     "nuid": "18c52d07-fb7c-4183-980f-96976e16b446",
     "showTitle": false,
     "tableResultSettingsMap": {},
     "title": ""
    }
   },
   "source": [
    "\n",
    "## A. Classroom Setup\n",
    "\n",
    "Run the following cell to configure your working environment for this notebook.\n",
    "\n",
    "**NOTE:** The `DA` object is only used in Databricks Academy courses and is not available outside of these courses. It will dynamically reference the information needed to run the course in the lab environment."
   ]
  },
  {
   "cell_type": "code",
   "execution_count": 0,
   "metadata": {
    "application/vnd.databricks.v1+cell": {
     "cellMetadata": {},
     "inputWidgets": {},
     "nuid": "2f808c9f-1ab5-4176-ad17-cdf649e52505",
     "showTitle": false,
     "tableResultSettingsMap": {},
     "title": ""
    }
   },
   "outputs": [],
   "source": [
    "%run ../Includes/Classroom-Setup-XML"
   ]
  },
  {
   "cell_type": "markdown",
   "metadata": {
    "application/vnd.databricks.v1+cell": {
     "cellMetadata": {},
     "inputWidgets": {},
     "nuid": "0a1b0aae-fc52-4b69-8940-50a58ca50ac3",
     "showTitle": false,
     "tableResultSettingsMap": {},
     "title": ""
    }
   },
   "source": [
    "Run the cell below to view your default catalog and schema. Notice that your default catalog is **dbacademy** and your default schema is your unique **labuser** schema.\n",
    "\n",
    "**NOTE:** The default catalog and schema are pre-configured for you to avoid the need to specify the three-level name for when writing your tables (i.e., catalog.schema.table)."
   ]
  },
  {
   "cell_type": "code",
   "execution_count": 0,
   "metadata": {
    "application/vnd.databricks.v1+cell": {
     "cellMetadata": {},
     "inputWidgets": {},
     "nuid": "2315ec2e-76ad-467b-84bb-152e53c1a3f2",
     "showTitle": false,
     "tableResultSettingsMap": {},
     "title": ""
    }
   },
   "outputs": [],
   "source": [
    "SELECT current_catalog(), current_schema()"
   ]
  },
  {
   "cell_type": "markdown",
   "metadata": {
    "application/vnd.databricks.v1+cell": {
     "cellMetadata": {},
     "inputWidgets": {},
     "nuid": "79fb96f8-6b5a-4d6e-b926-53b6d96303c9",
     "showTitle": false,
     "tableResultSettingsMap": {},
     "title": ""
    }
   },
   "source": [
    "## B. CTAS with `read_files()` for Ingesting XML Files\n",
    "\n",
    "In this section, we'll explore how to ingest raw XML (Extensible Markup Language) files from cloud storage into a Delta table. XML files are structured text files that use custom tags to organize data."
   ]
  },
  {
   "cell_type": "markdown",
   "metadata": {
    "application/vnd.databricks.v1+cell": {
     "cellMetadata": {},
     "inputWidgets": {},
     "nuid": "4c22cfd4-083f-4dc9-98f6-c47785fd22a3",
     "showTitle": false,
     "tableResultSettingsMap": {},
     "title": ""
    }
   },
   "source": [
    "In the code below, we dynamically pass variables to `read_files()` since each user has a unique username within the Vocareum environment. This is done using the `DA` object created during classroom setup. \n",
    "\n",
    "For example, the expression:\n",
    "\n",
    "`DA.paths_working_dir || '/xml_demo_files/example_1_data.xml'`\n",
    "\n",
    "evaluates to the string:\n",
    "\n",
    "`/Volumes/dbacademy/ops/<username>/xml_demo_files/example_1_data.xml`\n"
   ]
  },
  {
   "cell_type": "markdown",
   "metadata": {
    "application/vnd.databricks.v1+cell": {
     "cellMetadata": {},
     "inputWidgets": {},
     "nuid": "a044d94a-5f8b-4090-bf8e-69bb61d476a2",
     "showTitle": false,
     "tableResultSettingsMap": {},
     "title": ""
    }
   },
   "source": [
    "### B1. View the XML File\n",
    "\n",
    "1. Follow the steps below to view your XML file in your course volume: **dbacademy.ops.labuser**\n",
    "\n",
    "   a. In the left navigation bar, select the catalog icon:  ![Catalog Icon](../Includes/images/catalog_icon.png)\n",
    "\n",
    "   b. Expand the **dbacademy** catalog.\n",
    "\n",
    "   c. Expand the **ops** schema.\n",
    "\n",
    "   d. Expand **Volumes**. You should see a volume with your **labuser** name, which contains the source data to ingest.\n",
    "\n",
    "   e. Expand your **labuser** volume. This volume contains several subdirectories. We will use the **xml_demo_files** directory.\n",
    "\n",
    "   f. Expand the **xml_demo_files** subdirectory. It should contain the file: **example_1_data.xml**."
   ]
  },
  {
   "cell_type": "markdown",
   "metadata": {
    "application/vnd.databricks.v1+cell": {
     "cellMetadata": {},
     "inputWidgets": {},
     "nuid": "cbd44a4d-be2f-49cf-9785-31487fb24f46",
     "showTitle": false,
     "tableResultSettingsMap": {},
     "title": ""
    }
   },
   "source": [
    "Since XML files can be difficult to work with, let's start this demonstration by looking at the **example_1_data.xml** XML file:\n",
    "\n",
    "```\n",
    "  <books>\n",
    "    <book id=\"222\">\n",
    "      <author>Corets, Eva</author>\n",
    "      <title>Maeve Ascendant</title>\n",
    "    </book>\n",
    "    <book id=\"333\">\n",
    "      <author>Corets, Eva</author>\n",
    "      <title>Oberon's Legacy</title>\n",
    "    </book>\n",
    "  </books>\n",
    "```\n",
    "\n",
    "This XML contains:\n",
    "- The Top level element `<books>`. This is the root element. It acts as a container for all the `<book>` elements.\n",
    "- Each `<book>` element represents a single book and includes:\n",
    "  - The `id` attribute which uniquely identifies the book.\n",
    "  - The `<author>` child element containing the name of the author. \n",
    "  - The `<title>` child element containing the title of the book. \n",
    "\n",
    "\n",
    "Our goal in ingesting this XML file is to flatten it into a tabular form so we can store it as a Delta table. We'll define the following columns:\n",
    "\n",
    "- **book_id** (extracted from the `id` attribute)\n",
    "- **author** (extracted from the `<author>` element text)\n",
    "- **title** (extracted from the `<title>` element text)\n",
    "\n",
    "Each `<book>` element will be treated as a row. To achieve this, we set `rowTag => 'book'` when using `read_files()`."
   ]
  },
  {
   "cell_type": "markdown",
   "metadata": {
    "application/vnd.databricks.v1+cell": {
     "cellMetadata": {},
     "inputWidgets": {},
     "nuid": "9fbe51ce-dd19-4b1f-8ee6-9c3ce7caeac8",
     "showTitle": false,
     "tableResultSettingsMap": {},
     "title": ""
    }
   },
   "source": [
    "### B2. Using the `read_files()` Function to Ingest XML\n",
    "\n",
    "The code in the next cell creates a structured table using a `CREATE TABLE AS SELECT` (CTAS) statement along with the `read_files()` function.\n",
    "\n",
    "We are using the following options with the `read_files()` function:\n",
    "\n",
    "1. `format => \"xml\"` – Specifies that the input data is in XML format.  \n",
    "2. `rowTag => \"book\"` – Identifies the repeating XML element (`<book>`) that defines individual rows.  \n",
    "3. `schema => '_id INT, author STRING, title STRING'` – Enforces a schema for known fields in the XML.  \n",
    "4. `rescuedDataColumn => '_rescued_data'` – Captures any malformed or unexpected fields that do not match the schema into a separate column for later inspection.\n",
    "\n",
    "This example demonstrates how to parse structured XML using schema enforcement while preserving problematic or unknown data for troubleshooting. For brevity, we skip the actual troubleshooting process."
   ]
  },
  {
   "cell_type": "markdown",
   "metadata": {
    "application/vnd.databricks.v1+cell": {
     "cellMetadata": {},
     "inputWidgets": {},
     "nuid": "39032050-2c4b-4cff-831f-bdf9737bff42",
     "showTitle": false,
     "tableResultSettingsMap": {},
     "title": ""
    }
   },
   "source": [
    "1. Run the following cell to read in this XML file. The following query also brings in a `_rescued_data` column. Note that this column will return `NULL` because this XML file is made up of clean data."
   ]
  },
  {
   "cell_type": "code",
   "execution_count": 0,
   "metadata": {
    "application/vnd.databricks.v1+cell": {
     "cellMetadata": {},
     "inputWidgets": {},
     "nuid": "2c6e3d3d-4eca-4ae9-85f8-24d232324692",
     "showTitle": false,
     "tableResultSettingsMap": {},
     "title": ""
    }
   },
   "outputs": [],
   "source": [
    "SELECT *\n",
    "FROM read_files(\n",
    "       DA.paths_working_dir || '/xml_demo_files/example_1_data.xml',\n",
    "       format => \"xml\",\n",
    "       rowTag => 'book',\n",
    "       schema => '''\n",
    "            _id INT, \n",
    "            author STRING, \n",
    "            title STRING\n",
    "          ''',\n",
    "       rescueddatacolumn => '_rescued_data'\n",
    "     );"
   ]
  },
  {
   "cell_type": "markdown",
   "metadata": {
    "application/vnd.databricks.v1+cell": {
     "cellMetadata": {},
     "inputWidgets": {},
     "nuid": "c8db30b1-1214-4435-bba1-0e7013e392f7",
     "showTitle": false,
     "tableResultSettingsMap": {},
     "title": ""
    }
   },
   "source": [
    "2. We can also change the `rowTag` parameter to `\"books\"` to produce a different flattening of the XML file. \n",
    "\n",
    "    In this case, we omit the explicit schema definition and allow schema inference. The resulting output is a single row containing a nested array.\n"
   ]
  },
  {
   "cell_type": "code",
   "execution_count": 0,
   "metadata": {
    "application/vnd.databricks.v1+cell": {
     "cellMetadata": {},
     "inputWidgets": {},
     "nuid": "80a9f2ef-60b8-479f-b5cf-e5c6f30a3121",
     "showTitle": false,
     "tableResultSettingsMap": {},
     "title": ""
    }
   },
   "outputs": [],
   "source": [
    "SELECT *\n",
    "FROM read_files(\n",
    "       DA.paths_working_dir || '/xml_demo_files/example_1_data.xml',\n",
    "       format => \"xml\",\n",
    "       rowTag => 'books',\n",
    "       rescueddatacolumn => '_rescued_data'\n",
    "     );"
   ]
  },
  {
   "cell_type": "markdown",
   "metadata": {
    "application/vnd.databricks.v1+cell": {
     "cellMetadata": {},
     "inputWidgets": {},
     "nuid": "228c9dc2-3104-4aad-b2be-b6316ce15e08",
     "showTitle": false,
     "tableResultSettingsMap": {},
     "title": ""
    }
   },
   "source": [
    "3. Let's finish by writing to Delta table based on the first schema presented above."
   ]
  },
  {
   "cell_type": "code",
   "execution_count": 0,
   "metadata": {
    "application/vnd.databricks.v1+cell": {
     "cellMetadata": {},
     "inputWidgets": {},
     "nuid": "6b20c83c-e9bc-4dfc-a6eb-3591a0d4f8cd",
     "showTitle": false,
     "tableResultSettingsMap": {},
     "title": ""
    }
   },
   "outputs": [],
   "source": [
    "-- Drop the table if it exists for demonstration purposes\n",
    "DROP TABLE IF EXISTS books_bronze_xml;\n",
    "\n",
    "\n",
    "-- Create the Delta table\n",
    "CREATE TABLE books_bronze_xml \n",
    "AS\n",
    "SELECT\n",
    "  _id AS book_id,\n",
    "  * EXCEPT (_id),\n",
    "  current_timestamp AS ingestion_timestamp,\n",
    "  _metadata.file_name AS source_file\n",
    "FROM read_files(\n",
    "       DA.paths_working_dir || '/xml_demo_files/example_1_data.xml',\n",
    "       format => \"xml\",\n",
    "       rowTag => 'book',\n",
    "       schema => '''\n",
    "            _id INT, \n",
    "            author STRING, \n",
    "            title STRING\n",
    "          ''',\n",
    "       rescuedDataColumn => '_rescued_data'\n",
    "     );"
   ]
  },
  {
   "cell_type": "markdown",
   "metadata": {
    "application/vnd.databricks.v1+cell": {
     "cellMetadata": {},
     "inputWidgets": {},
     "nuid": "29a3e43a-c70f-4960-a18e-ec14e2b7976e",
     "showTitle": false,
     "tableResultSettingsMap": {},
     "title": ""
    }
   },
   "source": [
    "4. Inspect the newly created **bronze** table."
   ]
  },
  {
   "cell_type": "code",
   "execution_count": 0,
   "metadata": {
    "application/vnd.databricks.v1+cell": {
     "cellMetadata": {},
     "inputWidgets": {},
     "nuid": "2e90a744-77b5-4038-8f0e-45050cfca0d0",
     "showTitle": false,
     "tableResultSettingsMap": {},
     "title": ""
    }
   },
   "outputs": [],
   "source": [
    "SELECT *\n",
    "FROM books_bronze_xml"
   ]
  },
  {
   "cell_type": "code",
   "execution_count": 0,
   "metadata": {
    "application/vnd.databricks.v1+cell": {
     "cellMetadata": {},
     "inputWidgets": {},
     "nuid": "927b86a9-71a1-4ce2-83fd-cf5fce23be74",
     "showTitle": false,
     "tableResultSettingsMap": {},
     "title": ""
    }
   },
   "outputs": [],
   "source": [
    "-- View the datatypes of the columns \n",
    "DESCRIBE books_bronze_xml"
   ]
  },
  {
   "cell_type": "markdown",
   "metadata": {
    "application/vnd.databricks.v1+cell": {
     "cellMetadata": {},
     "inputWidgets": {},
     "nuid": "3f92498f-c289-4a84-81a9-495283af839a",
     "showTitle": false,
     "tableResultSettingsMap": {},
     "title": ""
    }
   },
   "source": [
    "\n",
    "&copy; 2025 Databricks, Inc. All rights reserved. Apache, Apache Spark, Spark, the Spark Logo, Apache Iceberg, Iceberg, and the Apache Iceberg logo are trademarks of the <a href=\"https://www.apache.org/\" target=\"blank\">Apache Software Foundation</a>.<br/>\n",
    "<br/><a href=\"https://databricks.com/privacy-policy\" target=\"blank\">Privacy Policy</a> | \n",
    "<a href=\"https://databricks.com/terms-of-use\" target=\"blank\">Terms of Use</a> | \n",
    "<a href=\"https://help.databricks.com/\" target=\"blank\">Support</a>"
   ]
  }
 ],
 "metadata": {
  "application/vnd.databricks.v1+notebook": {
   "computePreferences": null,
   "dashboards": [],
   "environmentMetadata": null,
   "inputWidgetPreferences": null,
   "language": "sql",
   "notebookMetadata": {},
   "notebookName": "A1 - Ingesting XML Files with Databricks",
   "widgets": {}
  },
  "language_info": {
   "name": "sql"
  }
 },
 "nbformat": 4,
 "nbformat_minor": 0
}