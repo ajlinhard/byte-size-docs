{
 "cells": [
  {
   "cell_type": "markdown",
   "metadata": {
    "application/vnd.databricks.v1+cell": {
     "cellMetadata": {},
     "inputWidgets": {},
     "nuid": "e978649d-4999-4618-a0ab-f4efd1313ddf",
     "showTitle": false,
     "tableResultSettingsMap": {},
     "title": ""
    }
   },
   "source": [
    "\n",
    "<div style=\"text-align: center; line-height: 0; padding-top: 9px;\">\n",
    "  <img src=\"https://databricks.com/wp-content/uploads/2018/03/db-academy-rgb-1200px.png\" alt=\"Databricks Learning\">\n",
    "</div>\n"
   ]
  },
  {
   "cell_type": "markdown",
   "metadata": {
    "application/vnd.databricks.v1+cell": {
     "cellMetadata": {},
     "inputWidgets": {},
     "nuid": "95eb4d88-e031-43a7-abf2-3c9c79727586",
     "showTitle": false,
     "tableResultSettingsMap": {},
     "title": ""
    }
   },
   "source": [
    "# Populating the Metastore\n",
    "In this demo, we will populate the metastore, focusing on the three-level namespace concept to create data containers and objects. We will cover the creation and management of catalogs, schemas, tables, views, and user-defined functions, demonstrating the execution of SQL commands to achieve these tasks. Additionally, we will verify the settings and inspect the data objects to ensure they are correctly stored and accessible for further analysis. This process includes creating and populating a managed table and view, as well as defining and executing a user-defined function to enhance SQL capabilities within the Unity Catalog environment."
   ]
  },
  {
   "cell_type": "markdown",
   "metadata": {
    "application/vnd.databricks.v1+cell": {
     "cellMetadata": {},
     "inputWidgets": {},
     "nuid": "604741ad-a1f9-4f97-818b-c90737f99c50",
     "showTitle": false,
     "tableResultSettingsMap": {},
     "title": ""
    }
   },
   "source": [
    "### Learning Objectives\n",
    "By the end of this demo, you will be able to:\n",
    "1. Identify the prerequisites and understand the three-level namespace concept introduced by Unity Catalog.\n",
    "2. Describe the process of creating and managing catalogs, schemas, tables, views, and user-defined functions within Unity Catalog.\n",
    "3. Execute SQL commands to create and manage catalogs, schemas, tables, and views, and implement user-defined functions in the Unity Catalog environment.\n",
    "4. Inspect and verify the current catalog and schema settings, ensuring that the objects created are correctly stored and accessible for further analysis.\n",
    "5. Develop and populate a managed table and a view, as well as define and execute a user-defined function to extend SQL capabilities within the Unity Catalog."
   ]
  },
  {
   "cell_type": "markdown",
   "metadata": {
    "application/vnd.databricks.v1+cell": {
     "cellMetadata": {},
     "inputWidgets": {},
     "nuid": "ba471303-0002-47e0-a02d-3d3db8450070",
     "showTitle": false,
     "tableResultSettingsMap": {},
     "title": ""
    }
   },
   "source": [
    "## REQUIRED - SELECT CLASSIC COMPUTE\n",
    "\n",
    "Before executing cells in this notebook, please select your classic compute cluster in the lab. Be aware that **Serverless** is enabled by default.\n",
    "\n",
    "Follow these steps to select the classic compute cluster:\n",
    "\n",
    "\n",
    "1. Navigate to the top-right of this notebook and click the drop-down menu to select your cluster. By default, the notebook will use **Serverless**.\n",
    "\n",
    "2. If your cluster is available, select it and continue to the next cell. If the cluster is not shown:\n",
    "\n",
    "   - Click **More** in the drop-down.\n",
    "\n",
    "   - In the **Attach to an existing compute resource** window, use the first drop-down to select your unique cluster.\n",
    "\n",
    "**NOTE:** If your cluster has terminated, you might need to restart it in order to select it. To do this:\n",
    "\n",
    "1. Right-click on **Compute** in the left navigation pane and select *Open in new tab*.\n",
    "\n",
    "2. Find the triangle icon to the right of your compute cluster name and click it.\n",
    "\n",
    "3. Wait a few minutes for the cluster to start.\n",
    "\n",
    "4. Once the cluster is running, complete the steps above to select your cluster."
   ]
  },
  {
   "cell_type": "markdown",
   "metadata": {
    "application/vnd.databricks.v1+cell": {
     "cellMetadata": {},
     "inputWidgets": {},
     "nuid": "eb1ef6dd-05aa-4227-b88f-9a87447e8a1f",
     "showTitle": false,
     "tableResultSettingsMap": {},
     "title": ""
    }
   },
   "source": [
    "## A. Classroom Setup\n",
    "\n",
    "Run the following cell to configure your working environment for this course. \n",
    "\n",
    "**NOTE:** The `DA` object is only used in Databricks Academy courses and is not available outside of these courses. It will dynamically reference the information needed to run the course."
   ]
  },
  {
   "cell_type": "code",
   "execution_count": 0,
   "metadata": {
    "application/vnd.databricks.v1+cell": {
     "cellMetadata": {
      "byteLimit": 2048000,
      "rowLimit": 10000
     },
     "inputWidgets": {},
     "nuid": "d7ac8cb5-de36-47c4-9443-97d00bcecd05",
     "showTitle": false,
     "tableResultSettingsMap": {},
     "title": ""
    }
   },
   "outputs": [
    {
     "output_type": "stream",
     "name": "stdout",
     "output_type": "stream",
     "text": [
      "\u001B[43mNote: you may need to restart the kernel using %restart_python or dbutils.library.restartPython() to use updated packages.\u001B[0m\n"
     ]
    },
    {
     "output_type": "display_data",
     "data": {
      "text/html": [
       "<table style=\"width:100%\">\n",
       "            <tr>\n",
       "                <td style=\"white-space:nowrap; width:1em\">Your Unity Catalog name:</td>\n",
       "                <td><input type=\"text\" value=\"labuser10999827_1753297926\" style=\"width: 100%\"></td></tr></table>"
      ]
     },
     "metadata": {},
     "output_type": "display_data"
    }
   ],
   "source": [
    "%run ./Includes/Classroom-Setup-1"
   ]
  },
  {
   "cell_type": "markdown",
   "metadata": {
    "application/vnd.databricks.v1+cell": {
     "cellMetadata": {},
     "inputWidgets": {},
     "nuid": "c3d616f3-5778-4d5b-af1f-ff775207a783",
     "showTitle": false,
     "tableResultSettingsMap": {},
     "title": ""
    }
   },
   "source": [
    "In this course, we may use dynamically generated variables created by the classroom setup scripts to reference your catalog and/or schema within the `DA` object. For example, the `DA.catalog_name` variable will dynamically reference your specific catalog when executing SQL code.\n",
    "\n",
    "\n",
    "Run the cell below to view the value of the variable and confirm it matches your catalog name in the cell above."
   ]
  },
  {
   "cell_type": "code",
   "execution_count": 0,
   "metadata": {
    "application/vnd.databricks.v1+cell": {
     "cellMetadata": {
      "byteLimit": 2048000,
      "rowLimit": 10000
     },
     "inputWidgets": {},
     "nuid": "4ae69a40-8458-4c5d-b266-63ee473bc054",
     "showTitle": false,
     "tableResultSettingsMap": {},
     "title": ""
    }
   },
   "outputs": [
    {
     "output_type": "stream",
     "name": "stdout",
     "output_type": "stream",
     "text": [
      "labuser10999827_1753297926\n"
     ]
    }
   ],
   "source": [
    "%python\n",
    "print(DA.catalog_name)"
   ]
  },
  {
   "cell_type": "markdown",
   "metadata": {
    "application/vnd.databricks.v1+cell": {
     "cellMetadata": {},
     "inputWidgets": {},
     "nuid": "9c6d9710-5ead-4c70-9745-b184d38a22e1",
     "showTitle": false,
     "tableResultSettingsMap": {},
     "title": ""
    }
   },
   "source": [
    "## B. Three-Level Namespace Recap"
   ]
  },
  {
   "cell_type": "markdown",
   "metadata": {
    "application/vnd.databricks.v1+cell": {
     "cellMetadata": {},
     "inputWidgets": {},
     "nuid": "3cdf31f4-a917-4478-a256-697468472df7",
     "showTitle": false,
     "tableResultSettingsMap": {},
     "title": ""
    }
   },
   "source": [
    "\n",
    "\n",
    "#### B1. Traditional Two-Level Namespace\n",
    "\n",
    "Anyone with SQL experience will likely be familiar with the traditional two-level namespace to address tables or views within a schema (often referred to as a database) as shown in the following example:\n",
    "<br></br>\n",
    "\n",
    "```sql\n",
    "SELECT * \n",
    "FROM myschema.mytable;\n",
    "```\n",
    "<br>\n",
    "\n",
    "#### B2. Unity Catalog Three-Level Namespace\n",
    "Unity Catalog introduces the concept of a **catalog** into the hierarchy, which provides another containment layer above the schema layer. This provides a new way for organizations to segregate their data and can be handy in many use cases. For example:\n",
    "\n",
    "* Separating data relating to business units within your organization (sales, marketing, human resources, etc)\n",
    "* Satisfying SDLC requirements (dev, staging, prod, etc)\n",
    "* Establishing sandboxes containing temporary datasets for internal use\n",
    "\n",
    "You can have as many catalogs as you want in the metastore, and each can contain as many schemas as you want. To deal with this additional level, complete table/view references in Unity Catalog use a three-level namespace, like this:\n",
    "<br></br>\n",
    "```sql\n",
    "SELECT * \n",
    "FROM mycatalog.myschema.mytable;\n",
    "```\n",
    "We can take advantage of the **`USE`** statements to select a default catalog or schema to make our queries easier to write and read:\n",
    "<br></br>\n",
    "```sql\n",
    "USE CATALOG mycatalog;\n",
    "USE SCHEMA myschema;\n",
    "```"
   ]
  },
  {
   "cell_type": "markdown",
   "metadata": {
    "application/vnd.databricks.v1+cell": {
     "cellMetadata": {},
     "inputWidgets": {},
     "nuid": "659b71b1-b1e2-45e5-ba2f-1f1f35eae189",
     "showTitle": false,
     "tableResultSettingsMap": {},
     "title": ""
    }
   },
   "source": [
    "## C. Create Data Containers and Objects to Populate the Metastore\n",
    "\n",
    "In this section, let's explore how to create data containers and objects in the metastore. This can be done using SQL and Python. We will focus on SQL in this course. \n",
    "\n",
    "  Note that the SQL statements used throughout this lab could also be applied to a DBSQL warehouse as well."
   ]
  },
  {
   "cell_type": "markdown",
   "metadata": {
    "application/vnd.databricks.v1+cell": {
     "cellMetadata": {},
     "inputWidgets": {},
     "nuid": "1934d74a-e61c-41b5-806e-a0017ee0931b",
     "showTitle": false,
     "tableResultSettingsMap": {},
     "title": ""
    }
   },
   "source": [
    "### C1. Catalogs"
   ]
  },
  {
   "cell_type": "markdown",
   "metadata": {
    "application/vnd.databricks.v1+cell": {
     "cellMetadata": {},
     "inputWidgets": {},
     "nuid": "fecc97c3-8969-4da9-98b7-b8a800cd3365",
     "showTitle": false,
     "tableResultSettingsMap": {},
     "title": ""
    }
   },
   "source": [
    "#### C1.1 Create a Catalog \n",
    "\n",
    "1. To create a catalog, use the `CREATE CATALOG <catalog_name>` statement. The `IF NOT EXISTS` keywords will prevent any errors if the catalog name already exists.\n",
    "\n",
    "##### NOTE - PLEASE READ, CELL BELOW WILL RETURN AN ERROR (permission denied)\n",
    "The code is for example purposes only. Your lab environment does not grant you permission to create your own catalog in this shared training workspace. Instead, the training environment has automatically created your course catalog for you.\n",
    "\n",
    "Be aware, depending on your organization's setup, there may be occasions when you do not have permission to create catalogs in your environment."
   ]
  },
  {
   "cell_type": "code",
   "execution_count": 0,
   "metadata": {
    "application/vnd.databricks.v1+cell": {
     "cellMetadata": {},
     "inputWidgets": {},
     "nuid": "9689c9fd-5b00-42fc-b508-a4394ae4aed2",
     "showTitle": false,
     "tableResultSettingsMap": {},
     "title": ""
    }
   },
   "outputs": [],
   "source": [
    "-------------------------------------\n",
    "-- Note below will fail on purpose --\n",
    "-------------------------------------\n",
    "CREATE CATALOG IF NOT EXISTS the_catalog_name;"
   ]
  },
  {
   "cell_type": "markdown",
   "metadata": {
    "application/vnd.databricks.v1+cell": {
     "cellMetadata": {},
     "inputWidgets": {},
     "nuid": "b8d082e4-ca60-4331-b931-5dd396e8753c",
     "showTitle": false,
     "tableResultSettingsMap": {},
     "title": ""
    }
   },
   "source": [
    "#### C1.2 Selecting a Default Catalog\n",
    "\n",
    "1. Let's set **your** specific course catalog as the default catalog using the `USE CATALOG <catalog_name>` statement.\n",
    "\n",
    "   After this, any schema references you make will be assumed to be in this catalog unless you explicitly select a different catalog using a three-level specification.\n",
    "\n",
    "   **NOTE:** The cell below uses `spark.sql()` to dynamically specify the catalog name using the `DA.catalog_name` variable."
   ]
  },
  {
   "cell_type": "code",
   "execution_count": 0,
   "metadata": {
    "application/vnd.databricks.v1+cell": {
     "cellMetadata": {
      "byteLimit": 2048000,
      "rowLimit": 10000
     },
     "inputWidgets": {},
     "nuid": "c4b91406-22b7-4c25-9f49-a81e1cf8e2aa",
     "showTitle": false,
     "tableResultSettingsMap": {},
     "title": ""
    }
   },
   "outputs": [
    {
     "output_type": "execute_result",
     "data": {
      "text/plain": [
       "DataFrame[]"
      ]
     },
     "execution_count": 8,
     "metadata": {},
     "output_type": "execute_result"
    }
   ],
   "source": [
    "%python\n",
    "spark.sql(f'USE CATALOG {DA.catalog_name}')"
   ]
  },
  {
   "cell_type": "markdown",
   "metadata": {
    "application/vnd.databricks.v1+cell": {
     "cellMetadata": {},
     "inputWidgets": {},
     "nuid": "ef9e03a0-59c5-4739-8730-c8222881dfc3",
     "showTitle": false,
     "tableResultSettingsMap": {},
     "title": ""
    }
   },
   "source": [
    "#### C1.3 Verify the Current Catalog\n",
    "1. Inspect the current catalog setting again using the `current_catalog()` function in SQL. Notice that your default catalog has been set to your specific catalog name."
   ]
  },
  {
   "cell_type": "code",
   "execution_count": 0,
   "metadata": {
    "application/vnd.databricks.v1+cell": {
     "cellMetadata": {
      "byteLimit": 2048000,
      "rowLimit": 10000
     },
     "inputWidgets": {},
     "nuid": "da3cb505-5877-41f2-91b6-84cfb04e9eef",
     "showTitle": false,
     "tableResultSettingsMap": {},
     "title": ""
    }
   },
   "outputs": [
    {
     "output_type": "display_data",
     "data": {
      "text/html": [
       "<style scoped>\n",
       "  .table-result-container {\n",
       "    max-height: 300px;\n",
       "    overflow: auto;\n",
       "  }\n",
       "  table, th, td {\n",
       "    border: 1px solid black;\n",
       "    border-collapse: collapse;\n",
       "  }\n",
       "  th, td {\n",
       "    padding: 5px;\n",
       "  }\n",
       "  th {\n",
       "    text-align: left;\n",
       "  }\n",
       "</style><div class='table-result-container'><table class='table-result'><thead style='background-color: white'><tr><th>current_catalog()</th></tr></thead><tbody><tr><td>labuser10999827_1753297926</td></tr></tbody></table></div>"
      ]
     },
     "metadata": {
      "application/vnd.databricks.v1+output": {
       "addedWidgets": {},
       "aggData": [],
       "aggError": "",
       "aggOverflow": false,
       "aggSchema": [],
       "aggSeriesLimitReached": false,
       "aggType": "",
       "arguments": {},
       "columnCustomDisplayInfos": {},
       "data": [
        [
         "labuser10999827_1753297926"
        ]
       ],
       "datasetInfos": [],
       "dbfsResultPath": null,
       "isJsonSchema": true,
       "metadata": {
        "isDbfsCommandResult": false
       },
       "overflow": false,
       "plotOptions": {
        "customPlotOptions": {},
        "displayType": "table",
        "pivotAggregation": null,
        "pivotColumns": null,
        "xColumns": null,
        "yColumns": null
       },
       "removedWidgets": [],
       "schema": [
        {
         "metadata": "{\"__autoGeneratedAlias\":\"true\"}",
         "name": "current_catalog()",
         "type": "\"string\""
        }
       ],
       "type": "table"
      }
     },
     "output_type": "display_data"
    }
   ],
   "source": [
    "SELECT current_catalog()"
   ]
  },
  {
   "cell_type": "markdown",
   "metadata": {
    "application/vnd.databricks.v1+cell": {
     "cellMetadata": {},
     "inputWidgets": {},
     "nuid": "5152cef8-60c6-4bab-bcc7-6a00bde315fa",
     "showTitle": false,
     "tableResultSettingsMap": {},
     "title": ""
    }
   },
   "source": [
    "### C2. Schemas"
   ]
  },
  {
   "cell_type": "markdown",
   "metadata": {
    "application/vnd.databricks.v1+cell": {
     "cellMetadata": {},
     "inputWidgets": {},
     "nuid": "bc4b1493-462e-431e-9ea7-e6bf6c5919c7",
     "showTitle": false,
     "tableResultSettingsMap": {},
     "title": ""
    }
   },
   "source": [
    "#### C2.1 Creating and Using a Schema\n",
    "1. In the following code cell, we will:\n",
    "    * Create a schema named **example** within our default catalog set in the previous cell\n",
    "    * Select the **example** schema as the default schema\n",
    "    * Verify that our default schema is, indeed, the **example**\n",
    "\n",
    "**NOTE:** The concept of a schema in Unity Catalog is similar to the schemas or databases with which you're already likely familiar. Schemas contain data objects like tables and views but can also contain functions and ML/AI models. Let's create a schema in the catalog we just created. We don't have to worry about name uniqueness since our new catalog represents a clean namespace for the schemas it can hold.\n"
   ]
  },
  {
   "cell_type": "code",
   "execution_count": 0,
   "metadata": {
    "application/vnd.databricks.v1+cell": {
     "cellMetadata": {
      "byteLimit": 2048000,
      "rowLimit": 10000
     },
     "inputWidgets": {},
     "nuid": "5afd5014-83bd-47d5-b3f2-7aede4ea0626",
     "showTitle": false,
     "tableResultSettingsMap": {},
     "title": ""
    }
   },
   "outputs": [
    {
     "output_type": "display_data",
     "data": {
      "text/html": [
       "<style scoped>\n",
       "  .table-result-container {\n",
       "    max-height: 300px;\n",
       "    overflow: auto;\n",
       "  }\n",
       "  table, th, td {\n",
       "    border: 1px solid black;\n",
       "    border-collapse: collapse;\n",
       "  }\n",
       "  th, td {\n",
       "    padding: 5px;\n",
       "  }\n",
       "  th {\n",
       "    text-align: left;\n",
       "  }\n",
       "</style><div class='table-result-container'><table class='table-result'><thead style='background-color: white'><tr><th>current_catalog()</th><th>current_schema()</th></tr></thead><tbody><tr><td>labuser10999827_1753297926</td><td>example</td></tr></tbody></table></div>"
      ]
     },
     "metadata": {
      "application/vnd.databricks.v1+output": {
       "addedWidgets": {},
       "aggData": [],
       "aggError": "",
       "aggOverflow": false,
       "aggSchema": [],
       "aggSeriesLimitReached": false,
       "aggType": "",
       "arguments": {},
       "columnCustomDisplayInfos": {},
       "data": [
        [
         "labuser10999827_1753297926",
         "example"
        ]
       ],
       "datasetInfos": [],
       "dbfsResultPath": null,
       "isJsonSchema": true,
       "metadata": {
        "isDbfsCommandResult": false
       },
       "overflow": false,
       "plotOptions": {
        "customPlotOptions": {},
        "displayType": "table",
        "pivotAggregation": null,
        "pivotColumns": null,
        "xColumns": null,
        "yColumns": null
       },
       "removedWidgets": [],
       "schema": [
        {
         "metadata": "{\"__autoGeneratedAlias\":\"true\"}",
         "name": "current_catalog()",
         "type": "\"string\""
        },
        {
         "metadata": "{\"__autoGeneratedAlias\":\"true\"}",
         "name": "current_schema()",
         "type": "\"string\""
        }
       ],
       "type": "table"
      }
     },
     "output_type": "display_data"
    }
   ],
   "source": [
    "-- Create a new schema\n",
    "CREATE SCHEMA IF NOT EXISTS example;\n",
    "\n",
    "-- Make our newly created schema the default\n",
    "USE SCHEMA example;\n",
    "\n",
    "-- Verify the current default schema\n",
    "SELECT current_catalog(), current_schema();"
   ]
  },
  {
   "cell_type": "markdown",
   "metadata": {
    "application/vnd.databricks.v1+cell": {
     "cellMetadata": {},
     "inputWidgets": {},
     "nuid": "691a2abd-9763-4e24-ba19-65bbbc3f6b81",
     "showTitle": false,
     "tableResultSettingsMap": {},
     "title": ""
    }
   },
   "source": [
    "2. Manually view the catalog and schema using the navigation bar on the left by completing the following steps:\n",
    "   - Select the catalog icon on the left.\n",
    "\n",
    "   - Expand your unique catalog name.\n",
    "\n",
    "   - Expand the **example** schema we previously created.\n",
    "\n",
    "   - Leave your catalog explorer open on the left."
   ]
  },
  {
   "cell_type": "markdown",
   "metadata": {
    "application/vnd.databricks.v1+cell": {
     "cellMetadata": {},
     "inputWidgets": {},
     "nuid": "5d1cbcb2-3609-4d1f-81e5-2f4338667ce8",
     "showTitle": false,
     "tableResultSettingsMap": {},
     "title": ""
    }
   },
   "source": [
    "### C3. Managed Tables\n",
    "With all the necessary containers in place, let's turn our attention to creating some data objects."
   ]
  },
  {
   "cell_type": "markdown",
   "metadata": {
    "application/vnd.databricks.v1+cell": {
     "cellMetadata": {},
     "inputWidgets": {},
     "nuid": "23d2f959-17f3-448c-af20-ee779a1079df",
     "showTitle": false,
     "tableResultSettingsMap": {},
     "title": ""
    }
   },
   "source": [
    "#### C3.1 Create a Managed Table\n",
    "\n",
    "1. First let's create a table named **silver**. For this example, we'll pre-populate the table with a simple mock dataset containing synthetic patient heart rate data.\n",
    "\n",
    "    Note the following:\n",
    "    * We only need to specify the table name when creating the table. We don't need to specify the containing catalog or schema because we already selected defaults earlier with the `USE` statements.\n",
    "    * This will be a Managed table since we aren't specifying a `LOCATION` or `PATH` keyword in `CREATE TABLE` statement.\n",
    "    * Because it's a Managed table, it must be a Delta Lake table. (as opposed to Parquet, AVRO, ORC, etc.)"
   ]
  },
  {
   "cell_type": "code",
   "execution_count": 0,
   "metadata": {
    "application/vnd.databricks.v1+cell": {
     "cellMetadata": {
      "byteLimit": 2048000,
      "rowLimit": 10000
     },
     "inputWidgets": {},
     "nuid": "dc3b5a4f-f599-4edd-b00f-52b7b8c89c77",
     "showTitle": false,
     "tableResultSettingsMap": {},
     "title": ""
    }
   },
   "outputs": [
    {
     "output_type": "display_data",
     "data": {
      "text/html": [
       "<style scoped>\n",
       "  .table-result-container {\n",
       "    max-height: 300px;\n",
       "    overflow: auto;\n",
       "  }\n",
       "  table, th, td {\n",
       "    border: 1px solid black;\n",
       "    border-collapse: collapse;\n",
       "  }\n",
       "  th, td {\n",
       "    padding: 5px;\n",
       "  }\n",
       "  th {\n",
       "    text-align: left;\n",
       "  }\n",
       "</style><div class='table-result-container'><table class='table-result'><thead style='background-color: white'><tr></tr></thead><tbody></tbody></table></div>"
      ]
     },
     "metadata": {
      "application/vnd.databricks.v1+output": {
       "addedWidgets": {},
       "aggData": [],
       "aggError": "",
       "aggOverflow": false,
       "aggSchema": [],
       "aggSeriesLimitReached": false,
       "aggType": "",
       "arguments": {},
       "columnCustomDisplayInfos": {},
       "data": [],
       "datasetInfos": [],
       "dbfsResultPath": null,
       "isJsonSchema": true,
       "metadata": {
        "isDbfsCommandResult": false
       },
       "overflow": false,
       "plotOptions": {
        "customPlotOptions": {},
        "displayType": "table",
        "pivotAggregation": null,
        "pivotColumns": null,
        "xColumns": null,
        "yColumns": null
       },
       "removedWidgets": [],
       "schema": [],
       "type": "table"
      }
     },
     "output_type": "display_data"
    }
   ],
   "source": [
    "-- Create an empty silver table\n",
    "CREATE OR REPLACE TABLE silver (\n",
    "  device_id  INT,\n",
    "  mrn        STRING,\n",
    "  name       STRING,\n",
    "  time       TIMESTAMP,\n",
    "  heartrate  DOUBLE\n",
    ");"
   ]
  },
  {
   "cell_type": "markdown",
   "metadata": {
    "application/vnd.databricks.v1+cell": {
     "cellMetadata": {},
     "inputWidgets": {},
     "nuid": "8c1cca71-55a8-4c5c-8fbc-f6aa6b7c5136",
     "showTitle": false,
     "tableResultSettingsMap": {},
     "title": ""
    }
   },
   "source": [
    "2. Run the `SHOW TABLES` statement to view tables in your default catalog and the schema we set earlier. In the results, you should see the table named **silver** in the **example** schema (database)."
   ]
  },
  {
   "cell_type": "code",
   "execution_count": 0,
   "metadata": {
    "application/vnd.databricks.v1+cell": {
     "cellMetadata": {},
     "inputWidgets": {},
     "nuid": "2c521d58-62a2-4cee-88da-2b293bd45c07",
     "showTitle": false,
     "tableResultSettingsMap": {},
     "title": ""
    }
   },
   "outputs": [],
   "source": [
    "SHOW TABLES;"
   ]
  },
  {
   "cell_type": "markdown",
   "metadata": {
    "application/vnd.databricks.v1+cell": {
     "cellMetadata": {},
     "inputWidgets": {},
     "nuid": "eb2c53ba-a4ec-460e-b72d-664f81b1dc07",
     "showTitle": false,
     "tableResultSettingsMap": {},
     "title": ""
    }
   },
   "source": [
    "#### C3.2 Populate and Query the Managed Table\n",
    "1. Populate the **silver** table with some sample data."
   ]
  },
  {
   "cell_type": "code",
   "execution_count": 0,
   "metadata": {
    "application/vnd.databricks.v1+cell": {
     "cellMetadata": {
      "byteLimit": 2048000,
      "rowLimit": 10000
     },
     "inputWidgets": {},
     "nuid": "b6e68836-95f8-4bfa-ad14-fec8e65619d2",
     "showTitle": false,
     "tableResultSettingsMap": {},
     "title": ""
    }
   },
   "outputs": [
    {
     "output_type": "display_data",
     "data": {
      "text/html": [
       "<style scoped>\n",
       "  .table-result-container {\n",
       "    max-height: 300px;\n",
       "    overflow: auto;\n",
       "  }\n",
       "  table, th, td {\n",
       "    border: 1px solid black;\n",
       "    border-collapse: collapse;\n",
       "  }\n",
       "  th, td {\n",
       "    padding: 5px;\n",
       "  }\n",
       "  th {\n",
       "    text-align: left;\n",
       "  }\n",
       "</style><div class='table-result-container'><table class='table-result'><thead style='background-color: white'><tr><th>num_affected_rows</th><th>num_inserted_rows</th></tr></thead><tbody><tr><td>30</td><td>30</td></tr></tbody></table></div>"
      ]
     },
     "metadata": {
      "application/vnd.databricks.v1+output": {
       "addedWidgets": {},
       "aggData": [],
       "aggError": "",
       "aggOverflow": false,
       "aggSchema": [],
       "aggSeriesLimitReached": false,
       "aggType": "",
       "arguments": {},
       "columnCustomDisplayInfos": {},
       "data": [
        [
         30,
         30
        ]
       ],
       "datasetInfos": [],
       "dbfsResultPath": null,
       "isJsonSchema": true,
       "metadata": {
        "isDbfsCommandResult": false
       },
       "overflow": false,
       "plotOptions": {
        "customPlotOptions": {},
        "displayType": "table",
        "pivotAggregation": null,
        "pivotColumns": null,
        "xColumns": null,
        "yColumns": null
       },
       "removedWidgets": [],
       "schema": [
        {
         "metadata": "{}",
         "name": "num_affected_rows",
         "type": "\"long\""
        },
        {
         "metadata": "{}",
         "name": "num_inserted_rows",
         "type": "\"long\""
        }
       ],
       "type": "table"
      }
     },
     "output_type": "display_data"
    }
   ],
   "source": [
    "INSERT OVERWRITE silver VALUES\n",
    "  (23,'40580129','Nicholas Spears','2020-02-01T00:01:58.000+0000',54.0122153343),\n",
    "  (17,'52804177','Lynn Russell','2020-02-01T00:02:55.000+0000',92.5136468131),\n",
    "  (37,'65300842','Samuel Hughes','2020-02-01T00:08:58.000+0000',52.1354807863),\n",
    "  (23,'40580129','Nicholas Spears','2020-02-01T00:16:51.000+0000',54.6477014191),\n",
    "  (17,'52804177','Lynn Russell','2020-02-01T00:18:08.000+0000',95.033344842),\n",
    "  (37,'65300842','Samuel Hughes','2020-02-01T00:23:58.000+0000',57.3391541312),\n",
    "  (23,'40580129','Nicholas Spears','2020-02-01T00:31:58.000+0000',56.6165053697),\n",
    "  (17,'52804177','Lynn Russell','2020-02-01T00:32:56.000+0000',94.8134313932),\n",
    "  (37,'65300842','Samuel Hughes','2020-02-01T00:38:54.000+0000',56.2469995332),\n",
    "  (23,'40580129','Nicholas Spears','2020-02-01T00:46:57.000+0000',54.8372685558),\n",
    "  (23,'40580129',NULL,'2020-02-01T00:01:58.000+0000',54.0122153343),\n",
    "  (17,'52804177',NULL,'2020-02-01T00:02:55.000+0000',92.5136468131),\n",
    "  (37,'65300842',NULL,'2020-02-01T00:08:58.000+0000',1000052.1354807863),\n",
    "  (23,'40580129',NULL,'2020-02-01T00:16:51.000+0000',54.6477014191),\n",
    "  (17,'52804177','Lynn Russell','2020-02-01T00:18:08.000+0000',9),\n",
    "  (37,'65300842','Samuel Hughes','2020-02-01T00:23:58.000+0000',7),\n",
    "  (23,'40580129','Nicholas Spears','2020-02-01T00:31:58.000+0000',6),\n",
    "  (17,'52804177','Lynn Russell','2020-02-01T00:32:56.000+0000',5),\n",
    "  (37,'65300842','Samuel Hughes','2020-02-01T00:38:54.000+0000',9000),\n",
    "  (23,'40580129','Nicholas Spears','2020-02-01T00:46:57.000+0000',66),\n",
    "  (23,'40580129',NULL,'2020-02-01T00:01:58.000+0000',54.0122153343),\n",
    "  (17,'52804177',NULL,'2020-02-01T00:02:55.000+0000',92.5136468131),\n",
    "  (37,'65300842',NULL,'2020-02-01T00:08:58.000+0000',1000052.1354807863),\n",
    "  (23,'40580129',NULL,'2020-02-01T00:16:51.000+0000',54.6477014191),\n",
    "  (17,'52804177','Lynn Russell','2020-02-01T00:18:08.000+0000',98),\n",
    "  (37,'65300842','Samuel Hughes','2020-02-01T00:23:58.000+0000',90),\n",
    "  (23,'40580129','Nicholas Spears','2020-02-01T00:31:58.000+0000',60),\n",
    "  (17,'52804177','Lynn Russell','2020-02-01T00:32:56.000+0000',50),\n",
    "  (37,'65300842','Samuel Hughes','2020-02-01T00:38:54.000+0000',30),\n",
    "  (23,'40580129','Nicholas Spears','2020-02-01T00:46:57.000+0000',80);"
   ]
  },
  {
   "cell_type": "code",
   "execution_count": 0,
   "metadata": {
    "application/vnd.databricks.v1+cell": {
     "cellMetadata": {
      "byteLimit": 2048000,
      "rowLimit": 10000
     },
     "inputWidgets": {},
     "nuid": "ce28b497-20b0-4a8f-81a6-652113c7df02",
     "showTitle": false,
     "tableResultSettingsMap": {},
     "title": ""
    }
   },
   "outputs": [
    {
     "output_type": "display_data",
     "data": {
      "text/html": [
       "<style scoped>\n",
       "  .table-result-container {\n",
       "    max-height: 300px;\n",
       "    overflow: auto;\n",
       "  }\n",
       "  table, th, td {\n",
       "    border: 1px solid black;\n",
       "    border-collapse: collapse;\n",
       "  }\n",
       "  th, td {\n",
       "    padding: 5px;\n",
       "  }\n",
       "  th {\n",
       "    text-align: left;\n",
       "  }\n",
       "</style><div class='table-result-container'><table class='table-result'><thead style='background-color: white'><tr><th>num_affected_rows</th><th>num_inserted_rows</th></tr></thead><tbody><tr><td>1</td><td>1</td></tr></tbody></table></div>"
      ]
     },
     "metadata": {
      "application/vnd.databricks.v1+output": {
       "addedWidgets": {},
       "aggData": [],
       "aggError": "",
       "aggOverflow": false,
       "aggSchema": [],
       "aggSeriesLimitReached": false,
       "aggType": "",
       "arguments": {},
       "columnCustomDisplayInfos": {},
       "data": [
        [
         1,
         1
        ]
       ],
       "datasetInfos": [],
       "dbfsResultPath": null,
       "isJsonSchema": true,
       "metadata": {
        "isDbfsCommandResult": false
       },
       "overflow": false,
       "plotOptions": {
        "customPlotOptions": {},
        "displayType": "table",
        "pivotAggregation": null,
        "pivotColumns": null,
        "xColumns": null,
        "yColumns": null
       },
       "removedWidgets": [],
       "schema": [
        {
         "metadata": "{}",
         "name": "num_affected_rows",
         "type": "\"long\""
        },
        {
         "metadata": "{}",
         "name": "num_inserted_rows",
         "type": "\"long\""
        }
       ],
       "type": "table"
      }
     },
     "output_type": "display_data"
    }
   ],
   "source": [
    "INSERT INTO silver VALUES\n",
    "  (99,'40580129','Nicholas Spears','2020-02-01T00:01:58.000+0000',54.0122153343)"
   ]
  },
  {
   "cell_type": "markdown",
   "metadata": {
    "application/vnd.databricks.v1+cell": {
     "cellMetadata": {},
     "inputWidgets": {},
     "nuid": "3a6251f8-1eb5-4f26-8007-f6edb2f9b03b",
     "showTitle": false,
     "tableResultSettingsMap": {},
     "title": ""
    }
   },
   "source": [
    "2. Execute queries on the created table to examine its contents, ensuring that the data is correctly stored and accessible for analysis purposes."
   ]
  },
  {
   "cell_type": "code",
   "execution_count": 0,
   "metadata": {
    "application/vnd.databricks.v1+cell": {
     "cellMetadata": {
      "byteLimit": 2048000,
      "rowLimit": 10000
     },
     "inputWidgets": {},
     "nuid": "e5771144-1a51-4547-b0b1-8dce951e7b16",
     "showTitle": false,
     "tableResultSettingsMap": {},
     "title": ""
    }
   },
   "outputs": [
    {
     "output_type": "display_data",
     "data": {
      "text/html": [
       "<style scoped>\n",
       "  .table-result-container {\n",
       "    max-height: 300px;\n",
       "    overflow: auto;\n",
       "  }\n",
       "  table, th, td {\n",
       "    border: 1px solid black;\n",
       "    border-collapse: collapse;\n",
       "  }\n",
       "  th, td {\n",
       "    padding: 5px;\n",
       "  }\n",
       "  th {\n",
       "    text-align: left;\n",
       "  }\n",
       "</style><div class='table-result-container'><table class='table-result'><thead style='background-color: white'><tr><th>device_id</th><th>mrn</th><th>name</th><th>time</th><th>heartrate</th></tr></thead><tbody><tr><td>23</td><td>40580129</td><td>Nicholas Spears</td><td>2020-02-01T00:01:58Z</td><td>54.0122153343</td></tr><tr><td>17</td><td>52804177</td><td>Lynn Russell</td><td>2020-02-01T00:02:55Z</td><td>92.5136468131</td></tr><tr><td>37</td><td>65300842</td><td>Samuel Hughes</td><td>2020-02-01T00:08:58Z</td><td>52.1354807863</td></tr><tr><td>23</td><td>40580129</td><td>Nicholas Spears</td><td>2020-02-01T00:16:51Z</td><td>54.6477014191</td></tr><tr><td>17</td><td>52804177</td><td>Lynn Russell</td><td>2020-02-01T00:18:08Z</td><td>95.033344842</td></tr><tr><td>37</td><td>65300842</td><td>Samuel Hughes</td><td>2020-02-01T00:23:58Z</td><td>57.3391541312</td></tr><tr><td>23</td><td>40580129</td><td>Nicholas Spears</td><td>2020-02-01T00:31:58Z</td><td>56.6165053697</td></tr><tr><td>17</td><td>52804177</td><td>Lynn Russell</td><td>2020-02-01T00:32:56Z</td><td>94.8134313932</td></tr><tr><td>37</td><td>65300842</td><td>Samuel Hughes</td><td>2020-02-01T00:38:54Z</td><td>56.2469995332</td></tr><tr><td>23</td><td>40580129</td><td>Nicholas Spears</td><td>2020-02-01T00:46:57Z</td><td>54.8372685558</td></tr><tr><td>23</td><td>40580129</td><td>null</td><td>2020-02-01T00:01:58Z</td><td>54.0122153343</td></tr><tr><td>17</td><td>52804177</td><td>null</td><td>2020-02-01T00:02:55Z</td><td>92.5136468131</td></tr><tr><td>37</td><td>65300842</td><td>null</td><td>2020-02-01T00:08:58Z</td><td>1000052.1354807863</td></tr><tr><td>23</td><td>40580129</td><td>null</td><td>2020-02-01T00:16:51Z</td><td>54.6477014191</td></tr><tr><td>17</td><td>52804177</td><td>Lynn Russell</td><td>2020-02-01T00:18:08Z</td><td>9.0</td></tr><tr><td>37</td><td>65300842</td><td>Samuel Hughes</td><td>2020-02-01T00:23:58Z</td><td>7.0</td></tr><tr><td>23</td><td>40580129</td><td>Nicholas Spears</td><td>2020-02-01T00:31:58Z</td><td>6.0</td></tr><tr><td>17</td><td>52804177</td><td>Lynn Russell</td><td>2020-02-01T00:32:56Z</td><td>5.0</td></tr><tr><td>37</td><td>65300842</td><td>Samuel Hughes</td><td>2020-02-01T00:38:54Z</td><td>9000.0</td></tr><tr><td>23</td><td>40580129</td><td>Nicholas Spears</td><td>2020-02-01T00:46:57Z</td><td>66.0</td></tr><tr><td>23</td><td>40580129</td><td>null</td><td>2020-02-01T00:01:58Z</td><td>54.0122153343</td></tr><tr><td>17</td><td>52804177</td><td>null</td><td>2020-02-01T00:02:55Z</td><td>92.5136468131</td></tr><tr><td>37</td><td>65300842</td><td>null</td><td>2020-02-01T00:08:58Z</td><td>1000052.1354807863</td></tr><tr><td>23</td><td>40580129</td><td>null</td><td>2020-02-01T00:16:51Z</td><td>54.6477014191</td></tr><tr><td>17</td><td>52804177</td><td>Lynn Russell</td><td>2020-02-01T00:18:08Z</td><td>98.0</td></tr><tr><td>37</td><td>65300842</td><td>Samuel Hughes</td><td>2020-02-01T00:23:58Z</td><td>90.0</td></tr><tr><td>23</td><td>40580129</td><td>Nicholas Spears</td><td>2020-02-01T00:31:58Z</td><td>60.0</td></tr><tr><td>17</td><td>52804177</td><td>Lynn Russell</td><td>2020-02-01T00:32:56Z</td><td>50.0</td></tr><tr><td>37</td><td>65300842</td><td>Samuel Hughes</td><td>2020-02-01T00:38:54Z</td><td>30.0</td></tr><tr><td>23</td><td>40580129</td><td>Nicholas Spears</td><td>2020-02-01T00:46:57Z</td><td>80.0</td></tr><tr><td>99</td><td>40580129</td><td>Nicholas Spears</td><td>2020-02-01T00:01:58Z</td><td>54.0122153343</td></tr></tbody></table></div>"
      ]
     },
     "metadata": {
      "application/vnd.databricks.v1+output": {
       "addedWidgets": {},
       "aggData": [],
       "aggError": "",
       "aggOverflow": false,
       "aggSchema": [],
       "aggSeriesLimitReached": false,
       "aggType": "",
       "arguments": {},
       "columnCustomDisplayInfos": {},
       "data": [
        [
         23,
         "40580129",
         "Nicholas Spears",
         "2020-02-01T00:01:58Z",
         54.0122153343
        ],
        [
         17,
         "52804177",
         "Lynn Russell",
         "2020-02-01T00:02:55Z",
         92.5136468131
        ],
        [
         37,
         "65300842",
         "Samuel Hughes",
         "2020-02-01T00:08:58Z",
         52.1354807863
        ],
        [
         23,
         "40580129",
         "Nicholas Spears",
         "2020-02-01T00:16:51Z",
         54.6477014191
        ],
        [
         17,
         "52804177",
         "Lynn Russell",
         "2020-02-01T00:18:08Z",
         95.033344842
        ],
        [
         37,
         "65300842",
         "Samuel Hughes",
         "2020-02-01T00:23:58Z",
         57.3391541312
        ],
        [
         23,
         "40580129",
         "Nicholas Spears",
         "2020-02-01T00:31:58Z",
         56.6165053697
        ],
        [
         17,
         "52804177",
         "Lynn Russell",
         "2020-02-01T00:32:56Z",
         94.8134313932
        ],
        [
         37,
         "65300842",
         "Samuel Hughes",
         "2020-02-01T00:38:54Z",
         56.2469995332
        ],
        [
         23,
         "40580129",
         "Nicholas Spears",
         "2020-02-01T00:46:57Z",
         54.8372685558
        ],
        [
         23,
         "40580129",
         null,
         "2020-02-01T00:01:58Z",
         54.0122153343
        ],
        [
         17,
         "52804177",
         null,
         "2020-02-01T00:02:55Z",
         92.5136468131
        ],
        [
         37,
         "65300842",
         null,
         "2020-02-01T00:08:58Z",
         1000052.1354807863
        ],
        [
         23,
         "40580129",
         null,
         "2020-02-01T00:16:51Z",
         54.6477014191
        ],
        [
         17,
         "52804177",
         "Lynn Russell",
         "2020-02-01T00:18:08Z",
         9.0
        ],
        [
         37,
         "65300842",
         "Samuel Hughes",
         "2020-02-01T00:23:58Z",
         7.0
        ],
        [
         23,
         "40580129",
         "Nicholas Spears",
         "2020-02-01T00:31:58Z",
         6.0
        ],
        [
         17,
         "52804177",
         "Lynn Russell",
         "2020-02-01T00:32:56Z",
         5.0
        ],
        [
         37,
         "65300842",
         "Samuel Hughes",
         "2020-02-01T00:38:54Z",
         9000.0
        ],
        [
         23,
         "40580129",
         "Nicholas Spears",
         "2020-02-01T00:46:57Z",
         66.0
        ],
        [
         23,
         "40580129",
         null,
         "2020-02-01T00:01:58Z",
         54.0122153343
        ],
        [
         17,
         "52804177",
         null,
         "2020-02-01T00:02:55Z",
         92.5136468131
        ],
        [
         37,
         "65300842",
         null,
         "2020-02-01T00:08:58Z",
         1000052.1354807863
        ],
        [
         23,
         "40580129",
         null,
         "2020-02-01T00:16:51Z",
         54.6477014191
        ],
        [
         17,
         "52804177",
         "Lynn Russell",
         "2020-02-01T00:18:08Z",
         98.0
        ],
        [
         37,
         "65300842",
         "Samuel Hughes",
         "2020-02-01T00:23:58Z",
         90.0
        ],
        [
         23,
         "40580129",
         "Nicholas Spears",
         "2020-02-01T00:31:58Z",
         60.0
        ],
        [
         17,
         "52804177",
         "Lynn Russell",
         "2020-02-01T00:32:56Z",
         50.0
        ],
        [
         37,
         "65300842",
         "Samuel Hughes",
         "2020-02-01T00:38:54Z",
         30.0
        ],
        [
         23,
         "40580129",
         "Nicholas Spears",
         "2020-02-01T00:46:57Z",
         80.0
        ],
        [
         99,
         "40580129",
         "Nicholas Spears",
         "2020-02-01T00:01:58Z",
         54.0122153343
        ]
       ],
       "datasetInfos": [],
       "dbfsResultPath": null,
       "isJsonSchema": true,
       "metadata": {
        "isDbfsCommandResult": false
       },
       "overflow": false,
       "plotOptions": {
        "customPlotOptions": {},
        "displayType": "table",
        "pivotAggregation": null,
        "pivotColumns": null,
        "xColumns": null,
        "yColumns": null
       },
       "removedWidgets": [],
       "schema": [
        {
         "metadata": "{}",
         "name": "device_id",
         "type": "\"integer\""
        },
        {
         "metadata": "{}",
         "name": "mrn",
         "type": "\"string\""
        },
        {
         "metadata": "{}",
         "name": "name",
         "type": "\"string\""
        },
        {
         "metadata": "{}",
         "name": "time",
         "type": "\"timestamp\""
        },
        {
         "metadata": "{}",
         "name": "heartrate",
         "type": "\"double\""
        }
       ],
       "type": "table"
      }
     },
     "output_type": "display_data"
    }
   ],
   "source": [
    "-- View the rows inside the silver table\n",
    "SELECT * \n",
    "FROM silver;"
   ]
  },
  {
   "cell_type": "markdown",
   "metadata": {
    "application/vnd.databricks.v1+cell": {
     "cellMetadata": {},
     "inputWidgets": {},
     "nuid": "339a62f4-9ab9-453d-a5ae-060cfe44b581",
     "showTitle": false,
     "tableResultSettingsMap": {},
     "title": ""
    }
   },
   "source": [
    "### C4. Creating and Managing Views\n",
    "\n",
    "1. Let's create a **vw_gold** view that presents a processed version of the **silver** table data by averaging heart rate data per patient on a daily basis. In the following cell, we will:\n",
    "    - Create the view\n",
    "    - Query the view"
   ]
  },
  {
   "cell_type": "code",
   "execution_count": 0,
   "metadata": {
    "application/vnd.databricks.v1+cell": {
     "cellMetadata": {
      "byteLimit": 2048000,
      "rowLimit": 10000
     },
     "inputWidgets": {},
     "nuid": "b80c21d6-20dd-4b80-a85d-7832da4870ea",
     "showTitle": false,
     "tableResultSettingsMap": {},
     "title": ""
    }
   },
   "outputs": [
    {
     "output_type": "display_data",
     "data": {
      "text/html": [
       "<style scoped>\n",
       "  .table-result-container {\n",
       "    max-height: 300px;\n",
       "    overflow: auto;\n",
       "  }\n",
       "  table, th, td {\n",
       "    border: 1px solid black;\n",
       "    border-collapse: collapse;\n",
       "  }\n",
       "  th, td {\n",
       "    padding: 5px;\n",
       "  }\n",
       "  th {\n",
       "    text-align: left;\n",
       "  }\n",
       "</style><div class='table-result-container'><table class='table-result'><thead style='background-color: white'><tr><th>mrn</th><th>name</th><th>avg_heartrate</th><th>date</th></tr></thead><tbody><tr><td>52804177</td><td>Lynn Russell</td><td>63.48006043547143</td><td>2020-02-01T00:00:00Z</td></tr><tr><td>40580129</td><td>null</td><td>54.329958376700006</td><td>2020-02-01T00:00:00Z</td></tr><tr><td>65300842</td><td>Samuel Hughes</td><td>1327.5316620643857</td><td>2020-02-01T00:00:00Z</td></tr><tr><td>52804177</td><td>null</td><td>92.5136468131</td><td>2020-02-01T00:00:00Z</td></tr><tr><td>40580129</td><td>Nicholas Spears</td><td>54.01398955702222</td><td>2020-02-01T00:00:00Z</td></tr><tr><td>65300842</td><td>null</td><td>1000052.1354807863</td><td>2020-02-01T00:00:00Z</td></tr></tbody></table></div>"
      ]
     },
     "metadata": {
      "application/vnd.databricks.v1+output": {
       "addedWidgets": {},
       "aggData": [],
       "aggError": "",
       "aggOverflow": false,
       "aggSchema": [],
       "aggSeriesLimitReached": false,
       "aggType": "",
       "arguments": {},
       "columnCustomDisplayInfos": {},
       "data": [
        [
         "52804177",
         "Lynn Russell",
         63.48006043547143,
         "2020-02-01T00:00:00Z"
        ],
        [
         "40580129",
         null,
         54.329958376700006,
         "2020-02-01T00:00:00Z"
        ],
        [
         "65300842",
         "Samuel Hughes",
         1327.5316620643857,
         "2020-02-01T00:00:00Z"
        ],
        [
         "52804177",
         null,
         92.5136468131,
         "2020-02-01T00:00:00Z"
        ],
        [
         "40580129",
         "Nicholas Spears",
         54.01398955702222,
         "2020-02-01T00:00:00Z"
        ],
        [
         "65300842",
         null,
         1000052.1354807863,
         "2020-02-01T00:00:00Z"
        ]
       ],
       "datasetInfos": [],
       "dbfsResultPath": null,
       "isJsonSchema": true,
       "metadata": {
        "isDbfsCommandResult": false
       },
       "overflow": false,
       "plotOptions": {
        "customPlotOptions": {},
        "displayType": "table",
        "pivotAggregation": null,
        "pivotColumns": null,
        "xColumns": null,
        "yColumns": null
       },
       "removedWidgets": [],
       "schema": [
        {
         "metadata": "{}",
         "name": "mrn",
         "type": "\"string\""
        },
        {
         "metadata": "{}",
         "name": "name",
         "type": "\"string\""
        },
        {
         "metadata": "{}",
         "name": "avg_heartrate",
         "type": "\"double\""
        },
        {
         "metadata": "{}",
         "name": "date",
         "type": "\"timestamp\""
        }
       ],
       "type": "table"
      }
     },
     "output_type": "display_data"
    }
   ],
   "source": [
    "-- Create a gold view\n",
    "CREATE OR REPLACE VIEW vw_gold AS (\n",
    "  SELECT \n",
    "    mrn, \n",
    "    name, \n",
    "    MEAN(heartrate) \n",
    "    avg_heartrate, \n",
    "    DATE_TRUNC(\"DD\", time) AS date\n",
    "  FROM silver\n",
    "  GROUP BY mrn, name, DATE_TRUNC(\"DD\", time)\n",
    ");\n",
    "\n",
    "\n",
    "-- View the rows inside the gold view\n",
    "SELECT * \n",
    "FROM vw_gold;"
   ]
  },
  {
   "cell_type": "markdown",
   "metadata": {
    "application/vnd.databricks.v1+cell": {
     "cellMetadata": {},
     "inputWidgets": {},
     "nuid": "95d6daaf-43b8-4cca-b890-6247a0fd89a3",
     "showTitle": false,
     "tableResultSettingsMap": {},
     "title": ""
    }
   },
   "source": [
    "2. Use the `SHOW VIEWS` statement to display all available views. Run the cell and view the results. Notice that we have a view named **vw_gold**. The view is neither temporary nor materialized."
   ]
  },
  {
   "cell_type": "code",
   "execution_count": 0,
   "metadata": {
    "application/vnd.databricks.v1+cell": {
     "cellMetadata": {
      "byteLimit": 2048000,
      "rowLimit": 10000
     },
     "inputWidgets": {},
     "nuid": "ecb0eb55-beed-4f3b-8bf0-216f92fca23a",
     "showTitle": false,
     "tableResultSettingsMap": {},
     "title": ""
    }
   },
   "outputs": [
    {
     "output_type": "display_data",
     "data": {
      "text/html": [
       "<style scoped>\n",
       "  .table-result-container {\n",
       "    max-height: 300px;\n",
       "    overflow: auto;\n",
       "  }\n",
       "  table, th, td {\n",
       "    border: 1px solid black;\n",
       "    border-collapse: collapse;\n",
       "  }\n",
       "  th, td {\n",
       "    padding: 5px;\n",
       "  }\n",
       "  th {\n",
       "    text-align: left;\n",
       "  }\n",
       "</style><div class='table-result-container'><table class='table-result'><thead style='background-color: white'><tr><th>namespace</th><th>viewName</th><th>isTemporary</th><th>isMaterialized</th><th>isMetric</th></tr></thead><tbody><tr><td>example</td><td>vw_gold</td><td>false</td><td>false</td><td>false</td></tr></tbody></table></div>"
      ]
     },
     "metadata": {
      "application/vnd.databricks.v1+output": {
       "addedWidgets": {},
       "aggData": [],
       "aggError": "",
       "aggOverflow": false,
       "aggSchema": [],
       "aggSeriesLimitReached": false,
       "aggType": "",
       "arguments": {},
       "columnCustomDisplayInfos": {},
       "data": [
        [
         "example",
         "vw_gold",
         false,
         false,
         false
        ]
       ],
       "datasetInfos": [],
       "dbfsResultPath": null,
       "isJsonSchema": true,
       "metadata": {
        "isDbfsCommandResult": false
       },
       "overflow": false,
       "plotOptions": {
        "customPlotOptions": {},
        "displayType": "table",
        "pivotAggregation": null,
        "pivotColumns": null,
        "xColumns": null,
        "yColumns": null
       },
       "removedWidgets": [],
       "schema": [
        {
         "metadata": "{}",
         "name": "namespace",
         "type": "\"string\""
        },
        {
         "metadata": "{}",
         "name": "viewName",
         "type": "\"string\""
        },
        {
         "metadata": "{}",
         "name": "isTemporary",
         "type": "\"boolean\""
        },
        {
         "metadata": "{}",
         "name": "isMaterialized",
         "type": "\"boolean\""
        },
        {
         "metadata": "{}",
         "name": "isMetric",
         "type": "\"boolean\""
        }
       ],
       "type": "table"
      }
     },
     "output_type": "display_data"
    }
   ],
   "source": [
    "SHOW VIEWS IN example;"
   ]
  },
  {
   "cell_type": "markdown",
   "metadata": {
    "application/vnd.databricks.v1+cell": {
     "cellMetadata": {},
     "inputWidgets": {},
     "nuid": "04941a88-0e2d-4adb-b382-ebfc0f376c25",
     "showTitle": false,
     "tableResultSettingsMap": {},
     "title": ""
    }
   },
   "source": [
    "### C5. Creating, Managing and Executing User-Defined Functions\n",
    "1. A User-Defined Function (UDF) in SQL is a feature that allows you to extend the native capabilities of SQL. It enables you to define your business logic as reusable functions that extend the vocabulary of SQL for transforming or masking data and reuse it across your applications. User-defined functions are contained by schemas as well. For this example, we'll set up simple function that masks all but the last two characters of a string."
   ]
  },
  {
   "cell_type": "code",
   "execution_count": 0,
   "metadata": {
    "application/vnd.databricks.v1+cell": {
     "cellMetadata": {
      "byteLimit": 2048000,
      "rowLimit": 10000
     },
     "inputWidgets": {},
     "nuid": "7f68ca39-7d38-40c3-859e-b2b607e9dd63",
     "showTitle": false,
     "tableResultSettingsMap": {},
     "title": ""
    }
   },
   "outputs": [
    {
     "output_type": "display_data",
     "data": {
      "text/html": [
       "<style scoped>\n",
       "  .table-result-container {\n",
       "    max-height: 300px;\n",
       "    overflow: auto;\n",
       "  }\n",
       "  table, th, td {\n",
       "    border: 1px solid black;\n",
       "    border-collapse: collapse;\n",
       "  }\n",
       "  th, td {\n",
       "    padding: 5px;\n",
       "  }\n",
       "  th {\n",
       "    text-align: left;\n",
       "  }\n",
       "</style><div class='table-result-container'><table class='table-result'><thead style='background-color: white'><tr></tr></thead><tbody></tbody></table></div>"
      ]
     },
     "metadata": {
      "application/vnd.databricks.v1+output": {
       "addedWidgets": {},
       "aggData": [],
       "aggError": "",
       "aggOverflow": false,
       "aggSchema": [],
       "aggSeriesLimitReached": false,
       "aggType": "",
       "arguments": {},
       "columnCustomDisplayInfos": {},
       "data": [],
       "datasetInfos": [],
       "dbfsResultPath": null,
       "isJsonSchema": true,
       "metadata": {
        "isDbfsCommandResult": false
       },
       "overflow": false,
       "plotOptions": {
        "customPlotOptions": {},
        "displayType": "table",
        "pivotAggregation": null,
        "pivotColumns": null,
        "xColumns": null,
        "yColumns": null
       },
       "removedWidgets": [],
       "schema": [],
       "type": "table"
      }
     },
     "output_type": "display_data"
    }
   ],
   "source": [
    "-- Create a custom function to mask a string value except for 2 left-most characters\n",
    "CREATE OR REPLACE FUNCTION dbacademy_mask(x STRING)\n",
    "  RETURNS STRING\n",
    "  RETURN CONCAT(LEFT(x, 2) , REPEAT(\"*\", LENGTH(x) - 2));"
   ]
  },
  {
   "cell_type": "markdown",
   "metadata": {
    "application/vnd.databricks.v1+cell": {
     "cellMetadata": {},
     "inputWidgets": {},
     "nuid": "a5019f1e-f170-45d5-8c2b-696e660c95c9",
     "showTitle": false,
     "tableResultSettingsMap": {},
     "title": ""
    }
   },
   "source": [
    "2. Manually view the newly created function by completing the following steps:\n",
    "\n",
    "   - Select the **Catalog** icon (3rd one in icon list) in the left vertical bar (directly under **File** menu).\n",
    "\n",
    "   - Expand your unique catalog name.\n",
    "\n",
    "   - Expand the **example** schema we previously created. Notice that the schema now contains **Tables** and **Functions**.\n",
    "\n",
    "   - Expand **Functions** (you might have to refresh your schema).\n",
    "   \n",
    "   -  Notice that the newly created function, **dbacademy_mask**, is available in your schema.\n",
    "\n",
    "\n"
   ]
  },
  {
   "cell_type": "markdown",
   "metadata": {
    "application/vnd.databricks.v1+cell": {
     "cellMetadata": {},
     "inputWidgets": {},
     "nuid": "82a6fcfa-931d-4dc6-a897-8e39a7c20e3f",
     "showTitle": false,
     "tableResultSettingsMap": {},
     "title": ""
    }
   },
   "source": [
    "3. Let's see how the function we just defined works. Note that you can expand the table by dragging the border to the right if the output is truncated."
   ]
  },
  {
   "cell_type": "code",
   "execution_count": 0,
   "metadata": {
    "application/vnd.databricks.v1+cell": {
     "cellMetadata": {
      "byteLimit": 2048000,
      "rowLimit": 10000
     },
     "inputWidgets": {},
     "nuid": "9ab7872d-d213-475f-967f-41ab20f7e11d",
     "showTitle": false,
     "tableResultSettingsMap": {},
     "title": ""
    }
   },
   "outputs": [
    {
     "output_type": "display_data",
     "data": {
      "text/html": [
       "<style scoped>\n",
       "  .table-result-container {\n",
       "    max-height: 300px;\n",
       "    overflow: auto;\n",
       "  }\n",
       "  table, th, td {\n",
       "    border: 1px solid black;\n",
       "    border-collapse: collapse;\n",
       "  }\n",
       "  th, td {\n",
       "    padding: 5px;\n",
       "  }\n",
       "  th {\n",
       "    text-align: left;\n",
       "  }\n",
       "</style><div class='table-result-container'><table class='table-result'><thead style='background-color: white'><tr><th>data</th></tr></thead><tbody><tr><td>se************</td></tr></tbody></table></div>"
      ]
     },
     "metadata": {
      "application/vnd.databricks.v1+output": {
       "addedWidgets": {},
       "aggData": [],
       "aggError": "",
       "aggOverflow": false,
       "aggSchema": [],
       "aggSeriesLimitReached": false,
       "aggType": "",
       "arguments": {},
       "columnCustomDisplayInfos": {},
       "data": [
        [
         "se************"
        ]
       ],
       "datasetInfos": [],
       "dbfsResultPath": null,
       "isJsonSchema": true,
       "metadata": {
        "isDbfsCommandResult": false
       },
       "overflow": false,
       "plotOptions": {
        "customPlotOptions": {},
        "displayType": "table",
        "pivotAggregation": null,
        "pivotColumns": null,
        "xColumns": null,
        "yColumns": null
       },
       "removedWidgets": [],
       "schema": [
        {
         "metadata": "{}",
         "name": "data",
         "type": "\"string\""
        }
       ],
       "type": "table"
      }
     },
     "output_type": "display_data"
    }
   ],
   "source": [
    "-- Run the custom function to verify its output\n",
    "SELECT dbacademy_mask('sensitive data') AS data;"
   ]
  },
  {
   "cell_type": "markdown",
   "metadata": {
    "application/vnd.databricks.v1+cell": {
     "cellMetadata": {},
     "inputWidgets": {},
     "nuid": "d08c3974-fd9d-4be1-b735-c63d1f9619cd",
     "showTitle": false,
     "tableResultSettingsMap": {},
     "title": ""
    }
   },
   "source": [
    "### D. Catalog Explorer\n",
    "All of the data objects we have created are available to us in the Data Explorer. We can view and change permissions, change object ownership, examine lineage, and a whole lot more.\n",
    "\n"
   ]
  },
  {
   "cell_type": "markdown",
   "metadata": {
    "application/vnd.databricks.v1+cell": {
     "cellMetadata": {},
     "inputWidgets": {},
     "nuid": "7dc3ac99-4339-4906-8dcc-6608dcd8ce6a",
     "showTitle": false,
     "tableResultSettingsMap": {},
     "title": ""
    }
   },
   "source": [
    "#### D1. Using the Catalog Explorer\n",
    "1. Open the Catalog Explorer by right-clicking on **Catalog** in the far left sidebar menu and opening the link in a new tab. This will allow you to keep these instructions open.\n",
    "\n",
    "1. Click on your catalog's name. \n",
    "\n",
    "    You will see a list of at least five schemas in the catalog: \n",
    "    - **default** - this schema is created when the catalog is created and can be dropped, if needed\n",
    "    - **dmguc** - created by the *Classroom Setup* script we ran at the beginning of the notebook (**dmguc** is short for *Data Management and Governance with Unity Catalog*)\n",
    "    - **example** - we created this schema above\n",
    "    - **information_schema** - this schema is created when the catalog is created and contains a wealth of metadata. We will talk more about this schema in a future lesson\n",
    "    - **other** - created by the *Classroom Setup* script."
   ]
  },
  {
   "cell_type": "markdown",
   "metadata": {
    "application/vnd.databricks.v1+cell": {
     "cellMetadata": {},
     "inputWidgets": {},
     "nuid": "67221abb-cfa0-4e84-a979-170da9cc9016",
     "showTitle": false,
     "tableResultSettingsMap": {},
     "title": ""
    }
   },
   "source": [
    "#### D2. Delete a Schema\n",
    "Let's delete the **other** schema. \n",
    "1. Under **Your** Catalog, click the **other** schema in the left navigation bar. \n",
    "\n",
    "2. Select the three dots to the right of the schema name.\n",
    "\n",
    "3. Select **Open in Catalog Explorer**. \n",
    "\n",
    "4. In the upper-right corner, click the three dots. Then you can select **Delete** to delete the **other** schema. \n",
    "\n",
    "5. Click the warning to accept.\n",
    "\n",
    "6. Close the Catalog Explorer browser.\n",
    "\n",
    "You can also drop a schema with code:\n",
    "```\n",
    "DROP SCHEMA IF EXISTS other;\n",
    "```"
   ]
  },
  {
   "cell_type": "code",
   "execution_count": 0,
   "metadata": {
    "application/vnd.databricks.v1+cell": {
     "cellMetadata": {},
     "inputWidgets": {},
     "nuid": "3ebadfb1-9415-49a3-b5ac-e8e34c9833b3",
     "showTitle": false,
     "tableResultSettingsMap": {},
     "title": ""
    }
   },
   "outputs": [],
   "source": [
    "-- If didn't DROP the 'other' schema via the User Interface, you can use the below code to do the same thing\n",
    "\n",
    "DROP SCHEMA IF EXISTS other;"
   ]
  },
  {
   "cell_type": "markdown",
   "metadata": {
    "application/vnd.databricks.v1+cell": {
     "cellMetadata": {},
     "inputWidgets": {},
     "nuid": "c6f274ba-90e6-4a14-a90a-2211945bac8d",
     "showTitle": false,
     "tableResultSettingsMap": {},
     "title": ""
    }
   },
   "source": [
    "#### D3. Add AI Generated Comments\n",
    "Now, lets look at the *example* schema we created:\n",
    "\n",
    "1. Click **example** schema in the left navigation bar and select the three dots.\n",
    "\n",
    "1. Select **Open in Catalog Explorer** to view the details for this schema.\n",
    "\n",
    "1. Note the two data objects in the schema, the **silver** table and the **vw_gold** view. \n",
    "\n",
    "1. Click the **silver** table name.\n",
    "\n",
    "1. We see the columns we defined for this table. Note the button labeled **AI Generate**. We can use this to generate comments for our columns. \n",
    "\n",
    "1. Click **AI generate**.\n",
    "\n",
    "1. The Data Intelligence Platform proposes comments for each column in our table. Click the check next to the first comment to accept it.\n",
    "\n",
    "1. We also have an AI suggested description for the table. Click **Accept**. \n",
    "\n",
    "1. Leave the browser open."
   ]
  },
  {
   "cell_type": "markdown",
   "metadata": {
    "application/vnd.databricks.v1+cell": {
     "cellMetadata": {},
     "inputWidgets": {},
     "nuid": "f0988f37-f87a-40a7-bce2-989403ff6220",
     "showTitle": false,
     "tableResultSettingsMap": {},
     "title": ""
    }
   },
   "source": [
    "#### D4. Explore Table Information\n",
    "1. There are tabs along the top where we can view and manage metadata about this table:\n",
    "      - **Overview** - On the right, we have information about the table, tags, its description, and we can add a row filtering function if we wish. We will talk about this in a future lesson. On the left, we get information about each column in the table\n",
    "\n",
    "      - **Sample data** - This tab gives us the first rows of the table, so we can see the data contained within the table.\n",
    "\n",
    "      - **Details** - We get the same information here as we would get by running **`DESCRIBE EXTENDED silver`**.\n",
    "\n",
    "      - **Permissions** - The UI gives us the ability to manage table permissions. We can **`GRANT`** and **`REVOKE`** permissions here. We will talk about doing this programmatically in a future lesson.\n",
    "\n",
    "      - **History** - The Delta Lake transaction log is on this tab. We can get this programmatically by running **`DESCRIBE HISTORY silver`**.\n",
    "      \n",
    "      - **Lineage** - It is very helpful to see table lineage. Click **`See lineage graph`** to see both our *silver* table and the *gold* view. Note that the view gets its data from the *silver* table. Click the \"X\" in the upper-right corner to close the window.\n",
    "\n",
    "      - **Insights** - The Databricks Data Intelligence Platform provides these insights, so we can see how our data object is being used.\n",
    "\n",
    "      - **Quality** - This tab gives us the ability to monitor this table for data quality. Let's talk more about this next."
   ]
  },
  {
   "cell_type": "markdown",
   "metadata": {
    "application/vnd.databricks.v1+cell": {
     "cellMetadata": {},
     "inputWidgets": {},
     "nuid": "062a4b4f-54e0-403b-b024-102b74f8d408",
     "showTitle": false,
     "tableResultSettingsMap": {},
     "title": ""
    }
   },
   "source": [
    "### E. Dropping a Managed Table\n",
    "1. Because the table we created is a managed table, when it is dropped, the data we added to it is also deleted."
   ]
  },
  {
   "cell_type": "code",
   "execution_count": 0,
   "metadata": {
    "application/vnd.databricks.v1+cell": {
     "cellMetadata": {},
     "inputWidgets": {},
     "nuid": "c7481845-24fe-4442-9f0e-2f5a1dc52b0a",
     "showTitle": false,
     "tableResultSettingsMap": {},
     "title": ""
    }
   },
   "outputs": [],
   "source": [
    "DROP TABLE silver;"
   ]
  },
  {
   "cell_type": "markdown",
   "metadata": {
    "application/vnd.databricks.v1+cell": {
     "cellMetadata": {},
     "inputWidgets": {},
     "nuid": "7ce7f309-2dee-4a2e-b2a9-606829bda585",
     "showTitle": false,
     "tableResultSettingsMap": {},
     "title": ""
    }
   },
   "source": [
    "## Conclusion\n",
    "In this demo, we explored the process of upgrading tables to Unity Catalog, focusing on the three-level namespace concept. We created and managed catalogs, schemas, tables, views, and user-defined functions, demonstrating the execution of SQL commands for each task. We ensured correct storage and accessibility of data objects, created and populated a managed table and view, and defined a user-defined function to enhance SQL capabilities within the Unity Catalog environment. This comprehensive approach provided a structured and efficient method to manage data in the metastore, leveraging Unity Catalog's advanced features."
   ]
  },
  {
   "cell_type": "markdown",
   "metadata": {
    "application/vnd.databricks.v1+cell": {
     "cellMetadata": {},
     "inputWidgets": {},
     "nuid": "a525c58e-c526-40dc-8ac5-d800fb9be0b7",
     "showTitle": false,
     "tableResultSettingsMap": {},
     "title": ""
    }
   },
   "source": [
    "\n",
    "&copy; 2025 Databricks, Inc. All rights reserved. Apache, Apache Spark, Spark, the Spark Logo, Apache Iceberg, Iceberg, and the Apache Iceberg logo are trademarks of the <a href=\"https://www.apache.org/\" target=\"blank\">Apache Software Foundation</a>.<br/>\n",
    "<br/><a href=\"https://databricks.com/privacy-policy\" target=\"blank\">Privacy Policy</a> | \n",
    "<a href=\"https://databricks.com/terms-of-use\" target=\"blank\">Terms of Use</a> | \n",
    "<a href=\"https://help.databricks.com/\" target=\"blank\">Support</a>\n"
   ]
  }
 ],
 "metadata": {
  "application/vnd.databricks.v1+notebook": {
   "computePreferences": null,
   "dashboards": [],
   "environmentMetadata": null,
   "inputWidgetPreferences": null,
   "language": "sql",
   "notebookMetadata": {
    "pythonIndentUnit": 4
   },
   "notebookName": "1 - Populating the Metastore",
   "widgets": {}
  },
  "language_info": {
   "name": "sql"
  }
 },
 "nbformat": 4,
 "nbformat_minor": 0
}