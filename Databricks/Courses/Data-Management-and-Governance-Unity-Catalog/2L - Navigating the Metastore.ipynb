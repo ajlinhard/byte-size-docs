{
 "cells": [
  {
   "cell_type": "markdown",
   "metadata": {
    "application/vnd.databricks.v1+cell": {
     "cellMetadata": {},
     "inputWidgets": {},
     "nuid": "1ad30e38-31ba-4da4-be43-084811c46029",
     "showTitle": false,
     "tableResultSettingsMap": {},
     "title": ""
    }
   },
   "source": [
    "\n",
    "<div style=\"text-align: center; line-height: 0; padding-top: 9px;\">\n",
    "  <img src=\"https://databricks.com/wp-content/uploads/2018/03/db-academy-rgb-1200px.png\" alt=\"Databricks Learning\">\n",
    "</div>\n"
   ]
  },
  {
   "cell_type": "markdown",
   "metadata": {
    "application/vnd.databricks.v1+cell": {
     "cellMetadata": {},
     "inputWidgets": {},
     "nuid": "d00df4a5-90f9-49fb-9bcd-01368558ab25",
     "showTitle": false,
     "tableResultSettingsMap": {},
     "title": ""
    }
   },
   "source": [
    "# Lab: Navigating the Metastore\n",
    "In this demo, we'll explore the structure and functionality of a metastore, delving into its various components like catalogs, schemas, and tables. We'll employ SQL commands such as SHOW and DESCRIBE to inspect and analyze these elements, enhancing our understanding of the metastore's configuration and the properties of different data objects. \n",
    "\n",
    "Additionally, we'll examine the roles of system catalogs and information_schema in metadata management, and highlight the importance of data lineage in data governance. This hands-on demonstration will equip participants with the knowledge to effectively navigate and utilize metastores in a cloud environment."
   ]
  },
  {
   "cell_type": "markdown",
   "metadata": {
    "application/vnd.databricks.v1+cell": {
     "cellMetadata": {},
     "inputWidgets": {},
     "nuid": "e9112b58-12da-4f8e-bc54-f1cc0d496bb6",
     "showTitle": false,
     "tableResultSettingsMap": {},
     "title": ""
    }
   },
   "source": [
    "### Learning Objectives\n",
    "By the end of this demo, you will be able to:\n",
    "1. Discuss the structure and function of a metastore, including its different components such as catalogs, schemas, and tables.\n",
    "2. Apply SQL commands like `SHOW` and `DESCRIBE` to inspect and explore different elements within the metastore, such as catalogs, schemas, tables, user-defined functions, and privileges.\n",
    "3. Analyze and interpret the configuration of the metastore and the properties of various data objects.\n",
    "4. Evaluate the roles of the system catalog and the information_schema in managing and accessing metadata.\n",
    "5. Identify and explain the importance of data lineage as part of data governance.\n"
   ]
  },
  {
   "cell_type": "markdown",
   "metadata": {
    "application/vnd.databricks.v1+cell": {
     "cellMetadata": {},
     "inputWidgets": {},
     "nuid": "ddaed0a8-a586-45a4-8ec6-89f30d896f1c",
     "showTitle": false,
     "tableResultSettingsMap": {},
     "title": ""
    }
   },
   "source": [
    "## REQUIRED - SELECT CLASSIC COMPUTE\n",
    "\n",
    "Before executing cells in this notebook, please select your classic compute cluster in the lab. Be aware that **Serverless** is enabled by default.\n",
    "\n",
    "Follow these steps to select the classic compute cluster:\n",
    "\n",
    "\n",
    "1. Navigate to the top-right of this notebook and click the drop-down menu to select your cluster. By default, the notebook will use **Serverless**.\n",
    "\n",
    "2. If your cluster is available, select it and continue to the next cell. If the cluster is not shown:\n",
    "\n",
    "   - Click **More** in the drop-down.\n",
    "\n",
    "   - In the **Attach to an existing compute resource** window, use the first drop-down to select your unique cluster.\n",
    "\n",
    "**NOTE:** If your cluster has terminated, you might need to restart it in order to select it. To do this:\n",
    "\n",
    "1. Right-click on **Compute** in the left navigation pane and select *Open in new tab*.\n",
    "\n",
    "2. Find the triangle icon to the right of your compute cluster name and click it.\n",
    "\n",
    "3. Wait a few minutes for the cluster to start.\n",
    "\n",
    "4. Once the cluster is running, complete the steps above to select your cluster."
   ]
  },
  {
   "cell_type": "markdown",
   "metadata": {
    "application/vnd.databricks.v1+cell": {
     "cellMetadata": {},
     "inputWidgets": {},
     "nuid": "f8dd28c7-4c25-471d-b7ea-af6def0e3257",
     "showTitle": false,
     "tableResultSettingsMap": {},
     "title": ""
    }
   },
   "source": [
    "## Classroom Setup\n",
    "\n",
    "Run the following cell to configure your working environment for this course. It will also set your default catalog to your specific catalog and the schema to the schema name shown below using the `USE` statements.\n",
    "<br></br>\n",
    "\n",
    "\n",
    "```\n",
    "USE CATALOG <your catalog>;\n",
    "USE SCHEMA <your catalog>.<schema>;\n",
    "```\n",
    "\n",
    "**NOTE:** The `DA` object is only used in Databricks Academy courses and is not available outside of these courses. It will dynamically reference the information needed to run the course."
   ]
  },
  {
   "cell_type": "code",
   "execution_count": 0,
   "metadata": {
    "application/vnd.databricks.v1+cell": {
     "cellMetadata": {
      "byteLimit": 2048000,
      "rowLimit": 10000
     },
     "inputWidgets": {},
     "nuid": "c74ce811-0ac5-4fe1-ac18-94a83ccd62dd",
     "showTitle": false,
     "tableResultSettingsMap": {},
     "title": ""
    }
   },
   "outputs": [
    {
     "output_type": "stream",
     "name": "stdout",
     "output_type": "stream",
     "text": [
      "\u001B[43mNote: you may need to restart the kernel using %restart_python or dbutils.library.restartPython() to use updated packages.\u001B[0m\n"
     ]
    },
    {
     "output_type": "stream",
     "name": "stdout",
     "output_type": "stream",
     "text": [
      "Created the silver table and vw_gold view in your catalog labuser10999827_1753297926 with the example schema.\nSet the default catalog to labuser10999827_1753297926.\nSet the default schema to example.\n"
     ]
    },
    {
     "output_type": "display_data",
     "data": {
      "text/html": [
       "<table style=\"width:100%\">\n",
       "            <tr>\n",
       "                <td style=\"white-space:nowrap; width:1em\">Your Unity Catalog name:</td>\n",
       "                <td><input type=\"text\" value=\"labuser10999827_1753297926\" style=\"width: 100%\"></td></tr>\n",
       "            <tr>\n",
       "                <td style=\"white-space:nowrap; width:1em\">Your Schema Name:</td>\n",
       "                <td><input type=\"text\" value=\"example\" style=\"width: 100%\"></td></tr></table>"
      ]
     },
     "metadata": {},
     "output_type": "display_data"
    }
   ],
   "source": [
    "%run ./Includes/Classroom-Setup-2"
   ]
  },
  {
   "cell_type": "markdown",
   "metadata": {
    "application/vnd.databricks.v1+cell": {
     "cellMetadata": {},
     "inputWidgets": {},
     "nuid": "aca1440f-8eb3-4d0e-a963-477020617f23",
     "showTitle": false,
     "tableResultSettingsMap": {},
     "title": ""
    }
   },
   "source": [
    "## A. Analyze Data Objects in Classroom Setup\n",
    "Let us analyze the current data objects and their components during the classroom setup."
   ]
  },
  {
   "cell_type": "markdown",
   "metadata": {
    "application/vnd.databricks.v1+cell": {
     "cellMetadata": {},
     "inputWidgets": {},
     "nuid": "9c0b5957-4a29-46fd-a578-653a24905def",
     "showTitle": false,
     "tableResultSettingsMap": {},
     "title": ""
    }
   },
   "source": [
    "### A1. Analyze the Current Catalog\n",
    "\n",
    "1. Run code to view your current default catalog. Confirm that the catalog name displayed above is your current catalog.\n"
   ]
  },
  {
   "cell_type": "code",
   "execution_count": 0,
   "metadata": {
    "application/vnd.databricks.v1+cell": {
     "cellMetadata": {
      "byteLimit": 2048000,
      "rowLimit": 10000
     },
     "inputWidgets": {},
     "nuid": "ab9804b1-faab-4a90-864d-8dbb2af7bed5",
     "showTitle": false,
     "tableResultSettingsMap": {
      "0": {
       "dataGridStateBlob": "{\"version\":1,\"tableState\":{\"columnPinning\":{\"left\":[\"#row_number#\"],\"right\":[]},\"columnSizing\":{},\"columnVisibility\":{}},\"settings\":{\"columns\":{}},\"syncTimestamp\":1753300127264}",
       "filterBlob": null,
       "queryPlanFiltersBlob": null,
       "tableResultIndex": 0
      }
     },
     "title": ""
    }
   },
   "outputs": [
    {
     "output_type": "display_data",
     "data": {
      "text/html": [
       "<style scoped>\n",
       "  .table-result-container {\n",
       "    max-height: 300px;\n",
       "    overflow: auto;\n",
       "  }\n",
       "  table, th, td {\n",
       "    border: 1px solid black;\n",
       "    border-collapse: collapse;\n",
       "  }\n",
       "  th, td {\n",
       "    padding: 5px;\n",
       "  }\n",
       "  th {\n",
       "    text-align: left;\n",
       "  }\n",
       "</style><div class='table-result-container'><table class='table-result'><thead style='background-color: white'><tr><th>current_catalog()</th><th>current_schema()</th><th>db</th><th>current_version()</th></tr></thead><tbody><tr><td>labuser10999827_1753297926</td><td>example</td><td>example</td><td>List(16.4.x-scala2.12, null, 169babbe9dcc10c9dd25a7e9fd4374c17e0c6432, 2db44f5712bde85bc32847c990b4a39b01b424c0)</td></tr></tbody></table></div>"
      ]
     },
     "metadata": {
      "application/vnd.databricks.v1+output": {
       "addedWidgets": {},
       "aggData": [],
       "aggError": "",
       "aggOverflow": false,
       "aggSchema": [],
       "aggSeriesLimitReached": false,
       "aggType": "",
       "arguments": {},
       "columnCustomDisplayInfos": {},
       "data": [
        [
         "labuser10999827_1753297926",
         "example",
         "example",
         [
          "16.4.x-scala2.12",
          null,
          "169babbe9dcc10c9dd25a7e9fd4374c17e0c6432",
          "2db44f5712bde85bc32847c990b4a39b01b424c0"
         ]
        ]
       ],
       "datasetInfos": [],
       "dbfsResultPath": null,
       "isJsonSchema": true,
       "metadata": {
        "isDbfsCommandResult": false
       },
       "overflow": false,
       "plotOptions": {
        "customPlotOptions": {},
        "displayType": "table",
        "pivotAggregation": null,
        "pivotColumns": null,
        "xColumns": null,
        "yColumns": null
       },
       "removedWidgets": [],
       "schema": [
        {
         "metadata": "{\"__autoGeneratedAlias\":\"true\"}",
         "name": "current_catalog()",
         "type": "\"string\""
        },
        {
         "metadata": "{\"__autoGeneratedAlias\":\"true\"}",
         "name": "current_schema()",
         "type": "\"string\""
        },
        {
         "metadata": "{}",
         "name": "db",
         "type": "\"string\""
        },
        {
         "metadata": "{\"__autoGeneratedAlias\":\"true\"}",
         "name": "current_version()",
         "type": "{\"type\":\"struct\",\"fields\":[{\"name\":\"dbr_version\",\"type\":\"string\",\"nullable\":true,\"metadata\":{}},{\"name\":\"dbsql_version\",\"type\":\"string\",\"nullable\":true,\"metadata\":{}},{\"name\":\"u_build_hash\",\"type\":\"string\",\"nullable\":true,\"metadata\":{}},{\"name\":\"r_build_hash\",\"type\":\"string\",\"nullable\":true,\"metadata\":{}}]}"
        }
       ],
       "type": "table"
      }
     },
     "output_type": "display_data"
    }
   ],
   "source": [
    "select current_catalog(), current_schema(), current_database() as db, current_version()"
   ]
  },
  {
   "cell_type": "markdown",
   "metadata": {
    "application/vnd.databricks.v1+cell": {
     "cellMetadata": {},
     "inputWidgets": {},
     "nuid": "09abb458-ce72-493a-a5ca-ffba863f8885",
     "showTitle": false,
     "tableResultSettingsMap": {},
     "title": ""
    }
   },
   "source": [
    "### A2. Analyze the Current Schema\n",
    "\n",
    "1. Run code to view your current default schema. Confirm that your current schema is **example**.\n"
   ]
  },
  {
   "cell_type": "code",
   "execution_count": 0,
   "metadata": {
    "application/vnd.databricks.v1+cell": {
     "cellMetadata": {},
     "inputWidgets": {},
     "nuid": "a0a50c90-7c36-4811-b478-66eaa94ec2f5",
     "showTitle": false,
     "tableResultSettingsMap": {},
     "title": ""
    }
   },
   "outputs": [],
   "source": []
  },
  {
   "cell_type": "markdown",
   "metadata": {
    "application/vnd.databricks.v1+cell": {
     "cellMetadata": {},
     "inputWidgets": {},
     "nuid": "f3978a65-af2f-4529-a80b-60fff11648be",
     "showTitle": false,
     "tableResultSettingsMap": {},
     "title": ""
    }
   },
   "source": [
    "### A3. Analyze the List of Available Tables and Views in the Custom Schema\n",
    "\n",
    "1. Let us analyze your **example** schema to display a list of tables and views. Confirm that the schema contains the **silver** table and the **vw_gold** view.\n"
   ]
  },
  {
   "cell_type": "code",
   "execution_count": 0,
   "metadata": {
    "application/vnd.databricks.v1+cell": {
     "cellMetadata": {
      "byteLimit": 2048000,
      "rowLimit": 10000
     },
     "inputWidgets": {},
     "nuid": "6f280665-c806-4e73-af61-13c03d766fd7",
     "showTitle": false,
     "tableResultSettingsMap": {},
     "title": ""
    }
   },
   "outputs": [
    {
     "output_type": "display_data",
     "data": {
      "text/html": [
       "<style scoped>\n",
       "  .table-result-container {\n",
       "    max-height: 300px;\n",
       "    overflow: auto;\n",
       "  }\n",
       "  table, th, td {\n",
       "    border: 1px solid black;\n",
       "    border-collapse: collapse;\n",
       "  }\n",
       "  th, td {\n",
       "    padding: 5px;\n",
       "  }\n",
       "  th {\n",
       "    text-align: left;\n",
       "  }\n",
       "</style><div class='table-result-container'><table class='table-result'><thead style='background-color: white'><tr><th>database</th><th>tableName</th><th>isTemporary</th></tr></thead><tbody><tr><td>example</td><td>silver</td><td>false</td></tr><tr><td>example</td><td>vw_gold</td><td>false</td></tr></tbody></table></div>"
      ]
     },
     "metadata": {
      "application/vnd.databricks.v1+output": {
       "addedWidgets": {},
       "aggData": [],
       "aggError": "",
       "aggOverflow": false,
       "aggSchema": [],
       "aggSeriesLimitReached": false,
       "aggType": "",
       "arguments": {},
       "columnCustomDisplayInfos": {},
       "data": [
        [
         "example",
         "silver",
         false
        ],
        [
         "example",
         "vw_gold",
         false
        ]
       ],
       "datasetInfos": [],
       "dbfsResultPath": null,
       "isJsonSchema": true,
       "metadata": {
        "isDbfsCommandResult": false
       },
       "overflow": false,
       "plotOptions": {
        "customPlotOptions": {},
        "displayType": "table",
        "pivotAggregation": null,
        "pivotColumns": null,
        "xColumns": null,
        "yColumns": null
       },
       "removedWidgets": [],
       "schema": [
        {
         "metadata": "{}",
         "name": "database",
         "type": "\"string\""
        },
        {
         "metadata": "{}",
         "name": "tableName",
         "type": "\"string\""
        },
        {
         "metadata": "{}",
         "name": "isTemporary",
         "type": "\"boolean\""
        }
       ],
       "type": "table"
      }
     },
     "output_type": "display_data"
    }
   ],
   "source": [
    "show tables"
   ]
  },
  {
   "cell_type": "markdown",
   "metadata": {
    "application/vnd.databricks.v1+cell": {
     "cellMetadata": {},
     "inputWidgets": {},
     "nuid": "7c83910f-005c-47ea-9a99-8a62c222e468",
     "showTitle": false,
     "tableResultSettingsMap": {},
     "title": ""
    }
   },
   "source": [
    "2. Display the available views in your current schema. Confirm the schema contains the view **vw_gold**."
   ]
  },
  {
   "cell_type": "code",
   "execution_count": 0,
   "metadata": {
    "application/vnd.databricks.v1+cell": {
     "cellMetadata": {
      "byteLimit": 2048000,
      "rowLimit": 10000
     },
     "inputWidgets": {},
     "nuid": "a891d889-0cb2-43da-92ef-fcb78a67ae2b",
     "showTitle": false,
     "tableResultSettingsMap": {},
     "title": ""
    }
   },
   "outputs": [
    {
     "output_type": "display_data",
     "data": {
      "text/html": [
       "<style scoped>\n",
       "  .table-result-container {\n",
       "    max-height: 300px;\n",
       "    overflow: auto;\n",
       "  }\n",
       "  table, th, td {\n",
       "    border: 1px solid black;\n",
       "    border-collapse: collapse;\n",
       "  }\n",
       "  th, td {\n",
       "    padding: 5px;\n",
       "  }\n",
       "  th {\n",
       "    text-align: left;\n",
       "  }\n",
       "</style><div class='table-result-container'><table class='table-result'><thead style='background-color: white'><tr><th>namespace</th><th>viewName</th><th>isTemporary</th><th>isMaterialized</th><th>isMetric</th></tr></thead><tbody><tr><td>example</td><td>vw_gold</td><td>false</td><td>false</td><td>false</td></tr></tbody></table></div>"
      ]
     },
     "metadata": {
      "application/vnd.databricks.v1+output": {
       "addedWidgets": {},
       "aggData": [],
       "aggError": "",
       "aggOverflow": false,
       "aggSchema": [],
       "aggSeriesLimitReached": false,
       "aggType": "",
       "arguments": {},
       "columnCustomDisplayInfos": {},
       "data": [
        [
         "example",
         "vw_gold",
         false,
         false,
         false
        ]
       ],
       "datasetInfos": [],
       "dbfsResultPath": null,
       "isJsonSchema": true,
       "metadata": {
        "isDbfsCommandResult": false
       },
       "overflow": false,
       "plotOptions": {
        "customPlotOptions": {},
        "displayType": "table",
        "pivotAggregation": null,
        "pivotColumns": null,
        "xColumns": null,
        "yColumns": null
       },
       "removedWidgets": [],
       "schema": [
        {
         "metadata": "{}",
         "name": "namespace",
         "type": "\"string\""
        },
        {
         "metadata": "{}",
         "name": "viewName",
         "type": "\"string\""
        },
        {
         "metadata": "{}",
         "name": "isTemporary",
         "type": "\"boolean\""
        },
        {
         "metadata": "{}",
         "name": "isMaterialized",
         "type": "\"boolean\""
        },
        {
         "metadata": "{}",
         "name": "isMetric",
         "type": "\"boolean\""
        }
       ],
       "type": "table"
      }
     },
     "output_type": "display_data"
    }
   ],
   "source": [
    "show views in example"
   ]
  },
  {
   "cell_type": "markdown",
   "metadata": {
    "application/vnd.databricks.v1+cell": {
     "cellMetadata": {},
     "inputWidgets": {},
     "nuid": "0bbc039e-cc86-4a0f-81bc-b2fff05cd8a2",
     "showTitle": false,
     "tableResultSettingsMap": {},
     "title": ""
    }
   },
   "source": [
    "**NOTE:** `SHOW TABLES` will display both tables and views, and `SHOW VIEWS` will only show views. From the above observation, there are the following tables and views in the custom schema:\n",
    "1. Table\\(s\\): **silver**\n",
    "2. View\\(s\\): **vw_gold**"
   ]
  },
  {
   "cell_type": "markdown",
   "metadata": {
    "application/vnd.databricks.v1+cell": {
     "cellMetadata": {},
     "inputWidgets": {},
     "nuid": "e5affea1-ed6a-4f26-b07d-1c8435398d66",
     "showTitle": false,
     "tableResultSettingsMap": {},
     "title": ""
    }
   },
   "source": [
    "\n",
    "## B. Exploring the Metastore\n",
    "\n",
    "In this section, let's explore our metastore and its data objects.\n",
    "\n",
    "\n",
    "### Using SQL: Inspect Elements with SQL `SHOW` Command\n",
    "Let's explore objects using the SQL commands. Though we embed them in a notebook here, you can easily port them over for execution in the DBSQL environment as well.\n",
    "\n",
    "We use the SQL `SHOW` command to inspect elements at various levels in the hierarchy.\n",
    "\n",
    "For syntax references, check out the [SQL language reference - DDL statements](https://docs.databricks.com/en/sql/language-manual/index.html#ddl-statements)"
   ]
  },
  {
   "cell_type": "markdown",
   "metadata": {
    "application/vnd.databricks.v1+cell": {
     "cellMetadata": {},
     "inputWidgets": {},
     "nuid": "dcf10a70-eb4a-4b74-a6b7-6d9c0055515f",
     "showTitle": false,
     "tableResultSettingsMap": {},
     "title": ""
    }
   },
   "source": [
    "#### B1. Inspect Catalogs\n",
    "1. Let's start by displaying all available catalogs in the metastore with the `SHOW` statement. Confirm a variety of catalogs exist."
   ]
  },
  {
   "cell_type": "code",
   "execution_count": 0,
   "metadata": {
    "application/vnd.databricks.v1+cell": {
     "cellMetadata": {
      "byteLimit": 2048000,
      "rowLimit": 10000
     },
     "inputWidgets": {},
     "nuid": "e9742df4-e692-4605-9f96-60d92c64ef0a",
     "showTitle": false,
     "tableResultSettingsMap": {},
     "title": ""
    }
   },
   "outputs": [
    {
     "output_type": "display_data",
     "data": {
      "text/html": [
       "<style scoped>\n",
       "  .table-result-container {\n",
       "    max-height: 300px;\n",
       "    overflow: auto;\n",
       "  }\n",
       "  table, th, td {\n",
       "    border: 1px solid black;\n",
       "    border-collapse: collapse;\n",
       "  }\n",
       "  th, td {\n",
       "    padding: 5px;\n",
       "  }\n",
       "  th {\n",
       "    text-align: left;\n",
       "  }\n",
       "</style><div class='table-result-container'><table class='table-result'><thead style='background-color: white'><tr><th>catalog</th></tr></thead><tbody><tr><td>dbacademy</td></tr><tr><td>dbacademy_movies</td></tr><tr><td>dbacademy_retail</td></tr><tr><td>hive_metastore</td></tr><tr><td>labuser10999827_1753297926</td></tr><tr><td>main</td></tr><tr><td>samples</td></tr><tr><td>system</td></tr></tbody></table></div>"
      ]
     },
     "metadata": {
      "application/vnd.databricks.v1+output": {
       "addedWidgets": {},
       "aggData": [],
       "aggError": "",
       "aggOverflow": false,
       "aggSchema": [],
       "aggSeriesLimitReached": false,
       "aggType": "",
       "arguments": {},
       "columnCustomDisplayInfos": {},
       "data": [
        [
         "dbacademy"
        ],
        [
         "dbacademy_movies"
        ],
        [
         "dbacademy_retail"
        ],
        [
         "hive_metastore"
        ],
        [
         "labuser10999827_1753297926"
        ],
        [
         "main"
        ],
        [
         "samples"
        ],
        [
         "system"
        ]
       ],
       "datasetInfos": [],
       "dbfsResultPath": null,
       "isJsonSchema": true,
       "metadata": {
        "isDbfsCommandResult": false
       },
       "overflow": false,
       "plotOptions": {
        "customPlotOptions": {},
        "displayType": "table",
        "pivotAggregation": null,
        "pivotColumns": null,
        "xColumns": null,
        "yColumns": null
       },
       "removedWidgets": [],
       "schema": [
        {
         "metadata": "{}",
         "name": "catalog",
         "type": "\"string\""
        }
       ],
       "type": "table"
      }
     },
     "output_type": "display_data"
    }
   ],
   "source": [
    "show catalogs"
   ]
  },
  {
   "cell_type": "markdown",
   "metadata": {
    "application/vnd.databricks.v1+cell": {
     "cellMetadata": {},
     "inputWidgets": {},
     "nuid": "691a8cc6-5aa4-4f34-8654-911237709053",
     "showTitle": false,
     "tableResultSettingsMap": {},
     "title": ""
    }
   },
   "source": [
    "Do any of these entries surprise you? You should definitely see a catalog beginning with your user name as the prefix, which is the one we created earlier. But there may be more, depending on the activity in your metastore, and how your workspace is configured. In addition to catalogs others have created, you will also see some special catalogs:\n",
    "* **hive_metastore**. This is not actually a catalog. Rather, it's Unity Catalog's way of making the workspace local Hive metastore seamlessly accessible through the three-level namespace.\n",
    "* **main**: this catalog is created by default with each new metastore, though you can remove it from your metastore if desired (it isn't used by the system)\n",
    "* **samples**: this references a cloud container containing sample datasets hosted by Databricks.\n",
    "* **system**: this catalog provides an interface to the system tables - a collection of tables that return information about objects across all catalogs in the metastore.\n"
   ]
  },
  {
   "cell_type": "markdown",
   "metadata": {
    "application/vnd.databricks.v1+cell": {
     "cellMetadata": {},
     "inputWidgets": {},
     "nuid": "5a71be8b-a21e-4f68-afb6-ca83fe505f6d",
     "showTitle": false,
     "tableResultSettingsMap": {},
     "title": ""
    }
   },
   "source": [
    "#### B2. Inspect Schemas\n",
    "1. Now let's take a look at the schemas contained in your specific catalog (your default catalog). Remember that we have a default catalog selected so we needn't specify it in our query. Confirm the schemas **default**, **dmguc**, **example** and **information_schema** exist."
   ]
  },
  {
   "cell_type": "code",
   "execution_count": 0,
   "metadata": {
    "application/vnd.databricks.v1+cell": {
     "cellMetadata": {
      "byteLimit": 2048000,
      "rowLimit": 10000
     },
     "inputWidgets": {},
     "nuid": "6048848d-70e5-47b6-aed0-e246099eaa39",
     "showTitle": false,
     "tableResultSettingsMap": {},
     "title": ""
    }
   },
   "outputs": [
    {
     "output_type": "display_data",
     "data": {
      "text/html": [
       "<style scoped>\n",
       "  .table-result-container {\n",
       "    max-height: 300px;\n",
       "    overflow: auto;\n",
       "  }\n",
       "  table, th, td {\n",
       "    border: 1px solid black;\n",
       "    border-collapse: collapse;\n",
       "  }\n",
       "  th, td {\n",
       "    padding: 5px;\n",
       "  }\n",
       "  th {\n",
       "    text-align: left;\n",
       "  }\n",
       "</style><div class='table-result-container'><table class='table-result'><thead style='background-color: white'><tr><th>databaseName</th></tr></thead><tbody><tr><td>default</td></tr><tr><td>dmguc</td></tr><tr><td>example</td></tr><tr><td>information_schema</td></tr><tr><td>other</td></tr></tbody></table></div>"
      ]
     },
     "metadata": {
      "application/vnd.databricks.v1+output": {
       "addedWidgets": {},
       "aggData": [],
       "aggError": "",
       "aggOverflow": false,
       "aggSchema": [],
       "aggSeriesLimitReached": false,
       "aggType": "",
       "arguments": {},
       "columnCustomDisplayInfos": {},
       "data": [
        [
         "default"
        ],
        [
         "dmguc"
        ],
        [
         "example"
        ],
        [
         "information_schema"
        ],
        [
         "other"
        ]
       ],
       "datasetInfos": [],
       "dbfsResultPath": null,
       "isJsonSchema": true,
       "metadata": {
        "isDbfsCommandResult": false
       },
       "overflow": false,
       "plotOptions": {
        "customPlotOptions": {},
        "displayType": "table",
        "pivotAggregation": null,
        "pivotColumns": null,
        "xColumns": null,
        "yColumns": null
       },
       "removedWidgets": [],
       "schema": [
        {
         "metadata": "{}",
         "name": "databaseName",
         "type": "\"string\""
        }
       ],
       "type": "table"
      }
     },
     "output_type": "display_data"
    }
   ],
   "source": [
    "show schemas"
   ]
  },
  {
   "cell_type": "markdown",
   "metadata": {
    "application/vnd.databricks.v1+cell": {
     "cellMetadata": {},
     "inputWidgets": {},
     "nuid": "78df3534-5982-4f5b-b87c-993739f7292d",
     "showTitle": false,
     "tableResultSettingsMap": {},
     "title": ""
    }
   },
   "source": [
    "The **example** schema, of course, is the one we created earlier but there are a couple additional entries you maybe weren't expecting:\n",
    "* **default**: this schema is created by default with each new catalog.\n",
    "* **information_schema**: this schema is also created by default with each new catalog and provides a set of views describing the objects in the catalog."
   ]
  },
  {
   "cell_type": "markdown",
   "metadata": {
    "application/vnd.databricks.v1+cell": {
     "cellMetadata": {},
     "inputWidgets": {},
     "nuid": "f358b7fc-2e53-4999-a75c-4abb0943b963",
     "showTitle": false,
     "tableResultSettingsMap": {},
     "title": ""
    }
   },
   "source": [
    "2. As a sidenote, if we want to inspect schemas in a catalog that isn't the default, we specify it as follows `SHOW SCHEMAS IN catalog-name`. Run code to view available schemas in the **samples** catalog. Confirm multiple schemas exist."
   ]
  },
  {
   "cell_type": "code",
   "execution_count": 0,
   "metadata": {
    "application/vnd.databricks.v1+cell": {
     "cellMetadata": {},
     "inputWidgets": {},
     "nuid": "43c69df3-3e95-471b-89dc-c85b164ac8f6",
     "showTitle": false,
     "tableResultSettingsMap": {},
     "title": ""
    }
   },
   "outputs": [],
   "source": [
    "<FILL_IN>"
   ]
  },
  {
   "cell_type": "markdown",
   "metadata": {
    "application/vnd.databricks.v1+cell": {
     "cellMetadata": {},
     "inputWidgets": {},
     "nuid": "e0dc7dc1-c6ba-42f4-b9a8-74363ed2c40b",
     "showTitle": false,
     "tableResultSettingsMap": {},
     "title": ""
    }
   },
   "source": [
    "#### B3. Inspect Tables\n",
    "1. Now let's take a look at the tables contained our  **example** schema within our course catalog. Again, we don't need to specify schema or catalog since we're referencing the defaults. Confirm the **silver** table and **vw_gold** view exist."
   ]
  },
  {
   "cell_type": "code",
   "execution_count": 0,
   "metadata": {
    "application/vnd.databricks.v1+cell": {
     "cellMetadata": {},
     "inputWidgets": {},
     "nuid": "7f01c793-7904-4745-a32b-66ea7879b264",
     "showTitle": false,
     "tableResultSettingsMap": {},
     "title": ""
    }
   },
   "outputs": [],
   "source": [
    "<FILL_IN>"
   ]
  },
  {
   "cell_type": "markdown",
   "metadata": {
    "application/vnd.databricks.v1+cell": {
     "cellMetadata": {},
     "inputWidgets": {},
     "nuid": "d5371a63-6272-4c01-aa44-56dbadea008e",
     "showTitle": false,
     "tableResultSettingsMap": {},
     "title": ""
    }
   },
   "source": [
    "2. If you want to inspect elsewhere, you can explicitly override the default catalog and schema as follows: `SHOW TABLES IN catalog-name.schema-name`. \n",
    "\n",
    "   View the available tables in the **samples** catalog within the **tpch** schema. Confirm that a variety of tables are available."
   ]
  },
  {
   "cell_type": "code",
   "execution_count": 0,
   "metadata": {
    "application/vnd.databricks.v1+cell": {
     "cellMetadata": {},
     "inputWidgets": {},
     "nuid": "a818d3bd-0623-4827-bf67-35536ce24ce7",
     "showTitle": false,
     "tableResultSettingsMap": {},
     "title": ""
    }
   },
   "outputs": [],
   "source": [
    "<FILL_IN>"
   ]
  },
  {
   "cell_type": "markdown",
   "metadata": {
    "application/vnd.databricks.v1+cell": {
     "cellMetadata": {},
     "inputWidgets": {},
     "nuid": "9add6648-1d21-4df1-b7d0-81b32ba472c1",
     "showTitle": false,
     "tableResultSettingsMap": {},
     "title": ""
    }
   },
   "source": [
    "#### B4. Inspect User-Defined Functions\n",
    "1. There's a command available for exploring all the different object types. For example, display the available user-defined functions in your default schema (**examples**). Confirm that the `dbacademy_mask` function is available.\n",
    "\n",
    "    [SHOW FUNCTIONS](https://docs.databricks.com/en/sql/language-manual/sql-ref-syntax-aux-show-functions.html)\n"
   ]
  },
  {
   "cell_type": "code",
   "execution_count": 0,
   "metadata": {
    "application/vnd.databricks.v1+cell": {
     "cellMetadata": {},
     "inputWidgets": {},
     "nuid": "25f01b73-290a-47dc-99e2-66165e3cf8a2",
     "showTitle": false,
     "tableResultSettingsMap": {},
     "title": ""
    }
   },
   "outputs": [],
   "source": [
    "<FILL_IN>"
   ]
  },
  {
   "cell_type": "markdown",
   "metadata": {
    "application/vnd.databricks.v1+cell": {
     "cellMetadata": {},
     "inputWidgets": {},
     "nuid": "19ccc093-783d-430d-a9c3-17fa0fef551b",
     "showTitle": false,
     "tableResultSettingsMap": {},
     "title": ""
    }
   },
   "source": [
    "#### B5. Inspect Privileges Granted on Data Objects\n",
    "We can also use `SHOW` to see privileges granted on data objects.\n",
    "\n",
    "For syntax references, check out the [SQL language reference - Security statements](https://docs.databricks.com/en/sql/language-manual/index.html#security-statements) documentation.\n",
    "\n",
    "1. Display all privileges (inherited, denied, and granted) on your **silver** table in the **examples** schema (default schema). Confirm that *ALL PRIVILEGES* are available to your user account.\n",
    "\n",
    "\n",
    "\n",
    "**HINT:** `SHOW GRANTS ON`"
   ]
  },
  {
   "cell_type": "code",
   "execution_count": 0,
   "metadata": {
    "application/vnd.databricks.v1+cell": {
     "cellMetadata": {
      "byteLimit": 2048000,
      "rowLimit": 10000
     },
     "inputWidgets": {},
     "nuid": "7993eeae-5799-44c0-ab89-cb98294ea1d9",
     "showTitle": false,
     "tableResultSettingsMap": {},
     "title": ""
    }
   },
   "outputs": [
    {
     "output_type": "display_data",
     "data": {
      "text/html": [
       "<style scoped>\n",
       "  .table-result-container {\n",
       "    max-height: 300px;\n",
       "    overflow: auto;\n",
       "  }\n",
       "  table, th, td {\n",
       "    border: 1px solid black;\n",
       "    border-collapse: collapse;\n",
       "  }\n",
       "  th, td {\n",
       "    padding: 5px;\n",
       "  }\n",
       "  th {\n",
       "    text-align: left;\n",
       "  }\n",
       "</style><div class='table-result-container'><table class='table-result'><thead style='background-color: white'><tr><th>Principal</th><th>ActionType</th><th>ObjectType</th><th>ObjectKey</th></tr></thead><tbody><tr><td>labuser10999827_1753297926@vocareum.com</td><td>ALL PRIVILEGES</td><td>CATALOG</td><td>labuser10999827_1753297926</td></tr></tbody></table></div>"
      ]
     },
     "metadata": {
      "application/vnd.databricks.v1+output": {
       "addedWidgets": {},
       "aggData": [],
       "aggError": "",
       "aggOverflow": false,
       "aggSchema": [],
       "aggSeriesLimitReached": false,
       "aggType": "",
       "arguments": {},
       "columnCustomDisplayInfos": {},
       "data": [
        [
         "labuser10999827_1753297926@vocareum.com",
         "ALL PRIVILEGES",
         "CATALOG",
         "labuser10999827_1753297926"
        ]
       ],
       "datasetInfos": [],
       "dbfsResultPath": null,
       "isJsonSchema": true,
       "metadata": {
        "isDbfsCommandResult": false
       },
       "overflow": false,
       "plotOptions": {
        "customPlotOptions": {},
        "displayType": "table",
        "pivotAggregation": null,
        "pivotColumns": null,
        "xColumns": null,
        "yColumns": null
       },
       "removedWidgets": [],
       "schema": [
        {
         "metadata": "{}",
         "name": "Principal",
         "type": "\"string\""
        },
        {
         "metadata": "{}",
         "name": "ActionType",
         "type": "\"string\""
        },
        {
         "metadata": "{}",
         "name": "ObjectType",
         "type": "\"string\""
        },
        {
         "metadata": "{}",
         "name": "ObjectKey",
         "type": "\"string\""
        }
       ],
       "type": "table"
      }
     },
     "output_type": "display_data"
    }
   ],
   "source": [
    "show grants on silver"
   ]
  },
  {
   "cell_type": "markdown",
   "metadata": {
    "application/vnd.databricks.v1+cell": {
     "cellMetadata": {},
     "inputWidgets": {},
     "nuid": "eecd496c-4afa-4958-80a6-fc80893c84be",
     "showTitle": false,
     "tableResultSettingsMap": {},
     "title": ""
    }
   },
   "source": [
    "Since there are no grants on this table yet, no results are returned. That means that only you, the data owner, can access this table. We'll get to granting privileges shortly."
   ]
  },
  {
   "cell_type": "markdown",
   "metadata": {
    "application/vnd.databricks.v1+cell": {
     "cellMetadata": {},
     "inputWidgets": {},
     "nuid": "f7d92d90-8592-4c7e-a06e-a757d4f50d61",
     "showTitle": false,
     "tableResultSettingsMap": {},
     "title": ""
    }
   },
   "source": [
    "## C. Analyze Additional Information with SQL `DESCRIBE` Command\n",
    "\n",
    "We also have `DESCRIBE` at our disposal, to provide additional information about a specific object.\n",
    "\n",
    "For syntax references, check out the [SQL language reference](https://docs.databricks.com/en/sql/language-manual/index.html#sql-language-reference) documentation."
   ]
  },
  {
   "cell_type": "markdown",
   "metadata": {
    "application/vnd.databricks.v1+cell": {
     "cellMetadata": {},
     "inputWidgets": {},
     "nuid": "c09ec3db-9bac-4f29-b530-5af2cc1d9b66",
     "showTitle": false,
     "tableResultSettingsMap": {},
     "title": ""
    }
   },
   "source": [
    "### C1. Analyze Tables\n",
    "1. Let us analyze the information about a few tables. \n",
    "\n",
    "    Use the `DESCRIBE TABLE EXTENDED` statement on your **silver** table to display detailed information about the specified columns, including the column statistics collected by the command, and additional metadata information (such as schema qualifier, owner, and access time)."
   ]
  },
  {
   "cell_type": "code",
   "execution_count": 0,
   "metadata": {
    "application/vnd.databricks.v1+cell": {
     "cellMetadata": {},
     "inputWidgets": {},
     "nuid": "26ee181b-1b57-482f-a77b-285846c193af",
     "showTitle": false,
     "tableResultSettingsMap": {},
     "title": ""
    }
   },
   "outputs": [],
   "source": [
    "<FILL_IN>"
   ]
  },
  {
   "cell_type": "markdown",
   "metadata": {
    "application/vnd.databricks.v1+cell": {
     "cellMetadata": {},
     "inputWidgets": {},
     "nuid": "03c694c5-cec6-4d72-9b25-430727c1ec6e",
     "showTitle": false,
     "tableResultSettingsMap": {},
     "title": ""
    }
   },
   "source": [
    "2. Use the same statement as above to view information about your **vw_gold** view. In the results, scroll down to the *View Text* value in the **col_name** column. Notice that you can view the SQL text for the view.\n"
   ]
  },
  {
   "cell_type": "code",
   "execution_count": 0,
   "metadata": {
    "application/vnd.databricks.v1+cell": {
     "cellMetadata": {},
     "inputWidgets": {},
     "nuid": "c9c50729-c3ee-46de-872a-dac74cd3e7ad",
     "showTitle": false,
     "tableResultSettingsMap": {},
     "title": ""
    }
   },
   "outputs": [],
   "source": [
    "<FILL_IN>"
   ]
  },
  {
   "cell_type": "markdown",
   "metadata": {
    "application/vnd.databricks.v1+cell": {
     "cellMetadata": {},
     "inputWidgets": {},
     "nuid": "c9acd956-0f64-45bb-96da-5ff9b79e42f0",
     "showTitle": false,
     "tableResultSettingsMap": {},
     "title": ""
    }
   },
   "source": [
    "### C2. Analyze User-Defined Functions\n",
    "1. Let us analyze the information about the **dbacademy_mask** user-defined function in the **example** schema. Use the `DESCRIBE FUNCTION EXTENDED` statement to view detailed information about the function."
   ]
  },
  {
   "cell_type": "code",
   "execution_count": 0,
   "metadata": {
    "application/vnd.databricks.v1+cell": {
     "cellMetadata": {},
     "inputWidgets": {},
     "nuid": "34dd1d9f-f5ec-4465-8632-4e9265daebc9",
     "showTitle": false,
     "tableResultSettingsMap": {},
     "title": ""
    }
   },
   "outputs": [],
   "source": [
    "<FILL_IN>"
   ]
  },
  {
   "cell_type": "markdown",
   "metadata": {
    "application/vnd.databricks.v1+cell": {
     "cellMetadata": {},
     "inputWidgets": {},
     "nuid": "f45c10d0-7931-4be3-8284-ecf4068e72a8",
     "showTitle": false,
     "tableResultSettingsMap": {},
     "title": ""
    }
   },
   "source": [
    "## D. Analyze Other Data Objects\n",
    "We can also analyze other data objects in the metastore."
   ]
  },
  {
   "cell_type": "markdown",
   "metadata": {
    "application/vnd.databricks.v1+cell": {
     "cellMetadata": {},
     "inputWidgets": {},
     "nuid": "848ae159-2254-4168-a258-fc5b5ad02993",
     "showTitle": false,
     "tableResultSettingsMap": {},
     "title": ""
    }
   },
   "source": [
    "### D1. System Catalog\n",
    "The *system* catalog provides an interface to the system tables; that is a collection of views whose purpose is to provide a SQL-based, self-describing API to the metadata related to objects across all catalogs in the metastore. This exposes a host of information useful for administration and housekeeping and there are a lot of applications for this.\n",
    "\n"
   ]
  },
  {
   "cell_type": "markdown",
   "metadata": {
    "application/vnd.databricks.v1+cell": {
     "cellMetadata": {},
     "inputWidgets": {},
     "nuid": "f18e7791-d272-40c0-a68c-83c37395add3",
     "showTitle": false,
     "tableResultSettingsMap": {},
     "title": ""
    }
   },
   "source": [
    "1. Run the following cell to view tables in the **system** catalog's **information_schema** schema. Notice that a variety of system tables are available.\n",
    "\n",
    "**NOTE:** System tables are a Databricks-hosted analytical store of your account’s operational data found in the system catalog. These tables can be used for historical observability across your account.\n",
    "\n",
    "For more information, check out the [Monitor usage with system tables](https://docs.databricks.com/en/admin/system-tables/index.html#monitor-usage-with-system-tables) documentation.\n"
   ]
  },
  {
   "cell_type": "code",
   "execution_count": 0,
   "metadata": {
    "application/vnd.databricks.v1+cell": {
     "cellMetadata": {
      "byteLimit": 2048000,
      "rowLimit": 10000
     },
     "inputWidgets": {},
     "nuid": "6ae7bc23-334d-4aad-bc8d-afc1fdfc26f8",
     "showTitle": false,
     "tableResultSettingsMap": {},
     "title": ""
    }
   },
   "outputs": [
    {
     "output_type": "display_data",
     "data": {
      "text/html": [
       "<style scoped>\n",
       "  .table-result-container {\n",
       "    max-height: 300px;\n",
       "    overflow: auto;\n",
       "  }\n",
       "  table, th, td {\n",
       "    border: 1px solid black;\n",
       "    border-collapse: collapse;\n",
       "  }\n",
       "  th, td {\n",
       "    padding: 5px;\n",
       "  }\n",
       "  th {\n",
       "    text-align: left;\n",
       "  }\n",
       "</style><div class='table-result-container'><table class='table-result'><thead style='background-color: white'><tr><th>database</th><th>tableName</th><th>isTemporary</th></tr></thead><tbody><tr><td>information_schema</td><td>catalog_privileges</td><td>false</td></tr><tr><td>information_schema</td><td>catalog_provider_share_usage</td><td>false</td></tr><tr><td>information_schema</td><td>catalog_tags</td><td>false</td></tr><tr><td>information_schema</td><td>catalogs</td><td>false</td></tr><tr><td>information_schema</td><td>check_constraints</td><td>false</td></tr><tr><td>information_schema</td><td>column_masks</td><td>false</td></tr><tr><td>information_schema</td><td>column_tags</td><td>false</td></tr><tr><td>information_schema</td><td>columns</td><td>false</td></tr><tr><td>information_schema</td><td>connection_privileges</td><td>false</td></tr><tr><td>information_schema</td><td>connections</td><td>false</td></tr><tr><td>information_schema</td><td>constraint_column_usage</td><td>false</td></tr><tr><td>information_schema</td><td>constraint_table_usage</td><td>false</td></tr><tr><td>information_schema</td><td>credential_privileges</td><td>false</td></tr><tr><td>information_schema</td><td>credentials</td><td>false</td></tr><tr><td>information_schema</td><td>external_location_privileges</td><td>false</td></tr><tr><td>information_schema</td><td>external_locations</td><td>false</td></tr><tr><td>information_schema</td><td>information_schema_catalog_name</td><td>false</td></tr><tr><td>information_schema</td><td>key_column_usage</td><td>false</td></tr><tr><td>information_schema</td><td>metastore_privileges</td><td>false</td></tr><tr><td>information_schema</td><td>metastores</td><td>false</td></tr><tr><td>information_schema</td><td>parameters</td><td>false</td></tr><tr><td>information_schema</td><td>providers</td><td>false</td></tr><tr><td>information_schema</td><td>recipient_allowed_ip_ranges</td><td>false</td></tr><tr><td>information_schema</td><td>recipient_tokens</td><td>false</td></tr><tr><td>information_schema</td><td>recipients</td><td>false</td></tr><tr><td>information_schema</td><td>referential_constraints</td><td>false</td></tr><tr><td>information_schema</td><td>routine_columns</td><td>false</td></tr><tr><td>information_schema</td><td>routine_privileges</td><td>false</td></tr><tr><td>information_schema</td><td>routines</td><td>false</td></tr><tr><td>information_schema</td><td>row_filters</td><td>false</td></tr><tr><td>information_schema</td><td>schema_privileges</td><td>false</td></tr><tr><td>information_schema</td><td>schema_share_usage</td><td>false</td></tr><tr><td>information_schema</td><td>schema_tags</td><td>false</td></tr><tr><td>information_schema</td><td>schemata</td><td>false</td></tr><tr><td>information_schema</td><td>share_recipient_privileges</td><td>false</td></tr><tr><td>information_schema</td><td>shares</td><td>false</td></tr><tr><td>information_schema</td><td>storage_credential_privileges</td><td>false</td></tr><tr><td>information_schema</td><td>storage_credentials</td><td>false</td></tr><tr><td>information_schema</td><td>table_constraints</td><td>false</td></tr><tr><td>information_schema</td><td>table_privileges</td><td>false</td></tr><tr><td>information_schema</td><td>table_share_usage</td><td>false</td></tr><tr><td>information_schema</td><td>table_tags</td><td>false</td></tr><tr><td>information_schema</td><td>tables</td><td>false</td></tr><tr><td>information_schema</td><td>views</td><td>false</td></tr><tr><td>information_schema</td><td>volume_privileges</td><td>false</td></tr><tr><td>information_schema</td><td>volume_tags</td><td>false</td></tr><tr><td>information_schema</td><td>volumes</td><td>false</td></tr></tbody></table></div>"
      ]
     },
     "metadata": {
      "application/vnd.databricks.v1+output": {
       "addedWidgets": {},
       "aggData": [],
       "aggError": "",
       "aggOverflow": false,
       "aggSchema": [],
       "aggSeriesLimitReached": false,
       "aggType": "",
       "arguments": {},
       "columnCustomDisplayInfos": {},
       "data": [
        [
         "information_schema",
         "catalog_privileges",
         false
        ],
        [
         "information_schema",
         "catalog_provider_share_usage",
         false
        ],
        [
         "information_schema",
         "catalog_tags",
         false
        ],
        [
         "information_schema",
         "catalogs",
         false
        ],
        [
         "information_schema",
         "check_constraints",
         false
        ],
        [
         "information_schema",
         "column_masks",
         false
        ],
        [
         "information_schema",
         "column_tags",
         false
        ],
        [
         "information_schema",
         "columns",
         false
        ],
        [
         "information_schema",
         "connection_privileges",
         false
        ],
        [
         "information_schema",
         "connections",
         false
        ],
        [
         "information_schema",
         "constraint_column_usage",
         false
        ],
        [
         "information_schema",
         "constraint_table_usage",
         false
        ],
        [
         "information_schema",
         "credential_privileges",
         false
        ],
        [
         "information_schema",
         "credentials",
         false
        ],
        [
         "information_schema",
         "external_location_privileges",
         false
        ],
        [
         "information_schema",
         "external_locations",
         false
        ],
        [
         "information_schema",
         "information_schema_catalog_name",
         false
        ],
        [
         "information_schema",
         "key_column_usage",
         false
        ],
        [
         "information_schema",
         "metastore_privileges",
         false
        ],
        [
         "information_schema",
         "metastores",
         false
        ],
        [
         "information_schema",
         "parameters",
         false
        ],
        [
         "information_schema",
         "providers",
         false
        ],
        [
         "information_schema",
         "recipient_allowed_ip_ranges",
         false
        ],
        [
         "information_schema",
         "recipient_tokens",
         false
        ],
        [
         "information_schema",
         "recipients",
         false
        ],
        [
         "information_schema",
         "referential_constraints",
         false
        ],
        [
         "information_schema",
         "routine_columns",
         false
        ],
        [
         "information_schema",
         "routine_privileges",
         false
        ],
        [
         "information_schema",
         "routines",
         false
        ],
        [
         "information_schema",
         "row_filters",
         false
        ],
        [
         "information_schema",
         "schema_privileges",
         false
        ],
        [
         "information_schema",
         "schema_share_usage",
         false
        ],
        [
         "information_schema",
         "schema_tags",
         false
        ],
        [
         "information_schema",
         "schemata",
         false
        ],
        [
         "information_schema",
         "share_recipient_privileges",
         false
        ],
        [
         "information_schema",
         "shares",
         false
        ],
        [
         "information_schema",
         "storage_credential_privileges",
         false
        ],
        [
         "information_schema",
         "storage_credentials",
         false
        ],
        [
         "information_schema",
         "table_constraints",
         false
        ],
        [
         "information_schema",
         "table_privileges",
         false
        ],
        [
         "information_schema",
         "table_share_usage",
         false
        ],
        [
         "information_schema",
         "table_tags",
         false
        ],
        [
         "information_schema",
         "tables",
         false
        ],
        [
         "information_schema",
         "views",
         false
        ],
        [
         "information_schema",
         "volume_privileges",
         false
        ],
        [
         "information_schema",
         "volume_tags",
         false
        ],
        [
         "information_schema",
         "volumes",
         false
        ]
       ],
       "datasetInfos": [],
       "dbfsResultPath": null,
       "isJsonSchema": true,
       "metadata": {
        "isDbfsCommandResult": false
       },
       "overflow": false,
       "plotOptions": {
        "customPlotOptions": {},
        "displayType": "table",
        "pivotAggregation": null,
        "pivotColumns": null,
        "xColumns": null,
        "yColumns": null
       },
       "removedWidgets": [],
       "schema": [
        {
         "metadata": "{}",
         "name": "database",
         "type": "\"string\""
        },
        {
         "metadata": "{}",
         "name": "tableName",
         "type": "\"string\""
        },
        {
         "metadata": "{}",
         "name": "isTemporary",
         "type": "\"boolean\""
        }
       ],
       "type": "table"
      }
     },
     "output_type": "display_data"
    }
   ],
   "source": [
    "SHOW TABLES in system.information_schema;"
   ]
  },
  {
   "cell_type": "markdown",
   "metadata": {
    "application/vnd.databricks.v1+cell": {
     "cellMetadata": {},
     "inputWidgets": {},
     "nuid": "2edb5266-7a14-415f-9f7a-7d0d65045a98",
     "showTitle": false,
     "tableResultSettingsMap": {},
     "title": ""
    }
   },
   "source": [
    "2. Let's consider the following query, which shows all tables that have been modified in the last *24 hours* using the **system** catalog.\n",
    "\n",
    "**NOTE:** In addition to demonstrating how to leverage this information, the query also demonstrates a Unity Catalog three-level namespace reference."
   ]
  },
  {
   "cell_type": "code",
   "execution_count": 0,
   "metadata": {
    "application/vnd.databricks.v1+cell": {
     "cellMetadata": {},
     "inputWidgets": {},
     "nuid": "213cdf34-0280-4470-a02e-30820d317fec",
     "showTitle": false,
     "tableResultSettingsMap": {},
     "title": ""
    }
   },
   "outputs": [],
   "source": [
    "SELECT \n",
    "    table_name, \n",
    "    table_owner, \n",
    "    created_by, \n",
    "    last_altered, \n",
    "    last_altered_by, \n",
    "    table_catalog\n",
    "FROM system.information_schema.tables\n",
    "WHERE  datediff(now(), last_altered) < 1;"
   ]
  },
  {
   "cell_type": "markdown",
   "metadata": {
    "application/vnd.databricks.v1+cell": {
     "cellMetadata": {},
     "inputWidgets": {},
     "nuid": "f9d1bfa4-0f40-43d7-b039-0607b146b626",
     "showTitle": false,
     "tableResultSettingsMap": {},
     "title": ""
    }
   },
   "source": [
    "### D2. Information Schema\n",
    "\n",
    "The *information_schema* is automatically created with each catalog and contains a collection of views whose purpose is to provide a SQL-based, self-describing API to the metadata related to the elements contained within the catalog.\n",
    "\n",
    "The relations found in this schema are documented <a href=\"https://docs.databricks.com/sql/language-manual/sql-ref-information-schema.html\" target=\"_blank\">here</a>. \n",
    "\n",
    "1. As a basic example, let's see all of your available tables in your default catalog. Note that since we only specify two levels here, we're referencing the default catalog selected earlier."
   ]
  },
  {
   "cell_type": "code",
   "execution_count": 0,
   "metadata": {
    "application/vnd.databricks.v1+cell": {
     "cellMetadata": {},
     "inputWidgets": {},
     "nuid": "983613e3-8ca4-4cb0-af2d-1c8ce16b8b00",
     "showTitle": false,
     "tableResultSettingsMap": {},
     "title": ""
    }
   },
   "outputs": [],
   "source": [
    "<FILL_IN>"
   ]
  },
  {
   "cell_type": "markdown",
   "metadata": {
    "application/vnd.databricks.v1+cell": {
     "cellMetadata": {},
     "inputWidgets": {},
     "nuid": "dfe1a479-16e0-44c2-acf8-c0a20a10c13b",
     "showTitle": false,
     "tableResultSettingsMap": {},
     "title": ""
    }
   },
   "source": [
    "## E. Catalog Explorer\n"
   ]
  },
  {
   "cell_type": "markdown",
   "metadata": {
    "application/vnd.databricks.v1+cell": {
     "cellMetadata": {},
     "inputWidgets": {},
     "nuid": "74a4d09d-fbec-4283-a0de-e1635155581b",
     "showTitle": false,
     "tableResultSettingsMap": {},
     "title": ""
    }
   },
   "source": [
    "### E1. Open the Catalog Explorer\n",
    "1. Right-click on **Catalog** in the left sidebar to explore the metastore using the Catalog Explorer user interface.\n",
    "   \n",
    "   - Observe the catalogs listed in the **Catalog** pane and select *Open Link in New Tab*.\n",
    "\n",
    "   - The items in this list resemble those from the `SHOW CATALOGS` SQL statement we executed earlier.\n",
    "\n",
    "   - Expand your unique catalog name, then expand **example**. This displays a list of tables, views, and functions.\n",
    "   \n",
    "   - Expand **tables**, then select **vw_gold** to see detailed information regarding the view. \n",
    "   \n",
    "   - From here, you can view the schema, sample data, details, and permissions (which we'll get to shortly).\n"
   ]
  },
  {
   "cell_type": "markdown",
   "metadata": {
    "application/vnd.databricks.v1+cell": {
     "cellMetadata": {},
     "inputWidgets": {},
     "nuid": "bf7a6125-f714-43c7-8f82-cbe4496a9221",
     "showTitle": false,
     "tableResultSettingsMap": {},
     "title": ""
    }
   },
   "source": [
    "### E2. Lineage\n",
    "\n",
    "Data lineage is a key pillar of any data governance solution.\n",
    "\n",
    "1. Select the **Lineage** tab.\n",
    "\n",
    "2. In the **Lineage** tab, you can identify elements related to the selected object.\n",
    "\n",
    "3. Select the **See lineage graph** button in the upper left corner.\n",
    "\n",
    "4. The lineage graph provides a visualization of the lineage relationships.\n"
   ]
  },
  {
   "cell_type": "markdown",
   "metadata": {
    "application/vnd.databricks.v1+cell": {
     "cellMetadata": {},
     "inputWidgets": {},
     "nuid": "d10c198f-c714-4cfe-8ca4-5d1b01bfeadd",
     "showTitle": false,
     "tableResultSettingsMap": {},
     "title": ""
    }
   },
   "source": [
    "## Conclusion\n",
    "In this demo, we explored the structure and functionality of a metastore through practical exercises, enhancing our understanding of data organization and metadata management. We learned how to navigate and inspect various components such as catalogs, schemas, tables, and user-defined functions using SQL commands like SHOW and DESCRIBE. Additionally, we delved into the roles of the system catalog and information_schema, gaining insights into their importance in metadata access and management. The demo also highlighted the significance of data lineage for robust data governance, enabling us to trace data origins and impacts effectively. Overall, this hands-on approach has equipped us with essential skills to manage and analyze metadata within a metastore efficiently."
   ]
  },
  {
   "cell_type": "markdown",
   "metadata": {
    "application/vnd.databricks.v1+cell": {
     "cellMetadata": {},
     "inputWidgets": {},
     "nuid": "669eda18-5745-44f0-8238-1d5595b3959f",
     "showTitle": false,
     "tableResultSettingsMap": {},
     "title": ""
    }
   },
   "source": [
    "\n",
    "&copy; 2025 Databricks, Inc. All rights reserved. Apache, Apache Spark, Spark, the Spark Logo, Apache Iceberg, Iceberg, and the Apache Iceberg logo are trademarks of the <a href=\"https://www.apache.org/\" target=\"blank\">Apache Software Foundation</a>.<br/>\n",
    "<br/><a href=\"https://databricks.com/privacy-policy\" target=\"blank\">Privacy Policy</a> | \n",
    "<a href=\"https://databricks.com/terms-of-use\" target=\"blank\">Terms of Use</a> | \n",
    "<a href=\"https://help.databricks.com/\" target=\"blank\">Support</a>\n"
   ]
  }
 ],
 "metadata": {
  "application/vnd.databricks.v1+notebook": {
   "computePreferences": null,
   "dashboards": [],
   "environmentMetadata": null,
   "inputWidgetPreferences": null,
   "language": "sql",
   "notebookMetadata": {
    "pythonIndentUnit": 4
   },
   "notebookName": "2L - Navigating the Metastore",
   "widgets": {}
  },
  "language_info": {
   "name": "sql"
  }
 },
 "nbformat": 4,
 "nbformat_minor": 0
}