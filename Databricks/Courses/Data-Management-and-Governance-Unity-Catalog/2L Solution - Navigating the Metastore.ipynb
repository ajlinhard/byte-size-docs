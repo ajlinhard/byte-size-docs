{
 "cells": [
  {
   "cell_type": "markdown",
   "metadata": {
    "application/vnd.databricks.v1+cell": {
     "cellMetadata": {},
     "inputWidgets": {},
     "nuid": "92d507ab-72b0-43b4-9a76-e4e45f551adf",
     "showTitle": false,
     "tableResultSettingsMap": {},
     "title": ""
    }
   },
   "source": [
    "\n",
    "<div style=\"text-align: center; line-height: 0; padding-top: 9px;\">\n",
    "  <img src=\"https://databricks.com/wp-content/uploads/2018/03/db-academy-rgb-1200px.png\" alt=\"Databricks Learning\">\n",
    "</div>\n"
   ]
  },
  {
   "cell_type": "markdown",
   "metadata": {
    "application/vnd.databricks.v1+cell": {
     "cellMetadata": {},
     "inputWidgets": {},
     "nuid": "0bda7acf-5e7c-4eab-92ec-16b8b07922ad",
     "showTitle": false,
     "tableResultSettingsMap": {},
     "title": ""
    }
   },
   "source": [
    "# Lab: Navigating the Metastore\n",
    "In this demo, we'll explore the structure and functionality of a metastore, delving into its various components like catalogs, schemas, and tables. We'll employ SQL commands such as SHOW and DESCRIBE to inspect and analyze these elements, enhancing our understanding of the metastore's configuration and the properties of different data objects. \n",
    "\n",
    "Additionally, we'll examine the roles of system catalogs and information_schema in metadata management, and highlight the importance of data lineage in data governance. This hands-on demonstration will equip participants with the knowledge to effectively navigate and utilize metastores in a cloud environment."
   ]
  },
  {
   "cell_type": "markdown",
   "metadata": {
    "application/vnd.databricks.v1+cell": {
     "cellMetadata": {},
     "inputWidgets": {},
     "nuid": "4f853088-9dc7-4185-b212-e04ddc6e9e4b",
     "showTitle": false,
     "tableResultSettingsMap": {},
     "title": ""
    }
   },
   "source": [
    "### Learning Objectives\n",
    "By the end of this demo, you will be able to:\n",
    "1. Discuss the structure and function of a metastore, including its different components such as catalogs, schemas, and tables.\n",
    "2. Apply SQL commands like `SHOW` and `DESCRIBE` to inspect and explore different elements within the metastore, such as catalogs, schemas, tables, user-defined functions, and privileges.\n",
    "3. Analyze and interpret the configuration of the metastore and the properties of various data objects.\n",
    "4. Evaluate the roles of the system catalog and the information_schema in managing and accessing metadata.\n",
    "5. Identify and explain the importance of data lineage as part of data governance.\n"
   ]
  },
  {
   "cell_type": "markdown",
   "metadata": {
    "application/vnd.databricks.v1+cell": {
     "cellMetadata": {},
     "inputWidgets": {},
     "nuid": "6cbc1409-417a-4270-85ad-6da54c34a6b4",
     "showTitle": false,
     "tableResultSettingsMap": {},
     "title": ""
    }
   },
   "source": [
    "## REQUIRED - SELECT CLASSIC COMPUTE\n",
    "\n",
    "Before executing cells in this notebook, please select your classic compute cluster in the lab. Be aware that **Serverless** is enabled by default.\n",
    "\n",
    "Follow these steps to select the classic compute cluster:\n",
    "\n",
    "\n",
    "1. Navigate to the top-right of this notebook and click the drop-down menu to select your cluster. By default, the notebook will use **Serverless**.\n",
    "\n",
    "2. If your cluster is available, select it and continue to the next cell. If the cluster is not shown:\n",
    "\n",
    "   - Click **More** in the drop-down.\n",
    "\n",
    "   - In the **Attach to an existing compute resource** window, use the first drop-down to select your unique cluster.\n",
    "\n",
    "**NOTE:** If your cluster has terminated, you might need to restart it in order to select it. To do this:\n",
    "\n",
    "1. Right-click on **Compute** in the left navigation pane and select *Open in new tab*.\n",
    "\n",
    "2. Find the triangle icon to the right of your compute cluster name and click it.\n",
    "\n",
    "3. Wait a few minutes for the cluster to start.\n",
    "\n",
    "4. Once the cluster is running, complete the steps above to select your cluster."
   ]
  },
  {
   "cell_type": "markdown",
   "metadata": {
    "application/vnd.databricks.v1+cell": {
     "cellMetadata": {},
     "inputWidgets": {},
     "nuid": "1d619f10-fbdf-4097-ae09-678dd9eb6846",
     "showTitle": false,
     "tableResultSettingsMap": {},
     "title": ""
    }
   },
   "source": [
    "## Classroom Setup\n",
    "\n",
    "Run the following cell to configure your working environment for this course. It will also set your default catalog to your specific catalog and the schema to the schema name shown below using the `USE` statements.\n",
    "<br></br>\n",
    "\n",
    "\n",
    "```\n",
    "USE CATALOG <your catalog>;\n",
    "USE SCHEMA <your catalog>.<schema>;\n",
    "```\n",
    "\n",
    "**NOTE:** The `DA` object is only used in Databricks Academy courses and is not available outside of these courses. It will dynamically reference the information needed to run the course."
   ]
  },
  {
   "cell_type": "code",
   "execution_count": 0,
   "metadata": {
    "application/vnd.databricks.v1+cell": {
     "cellMetadata": {},
     "inputWidgets": {},
     "nuid": "92b02229-ee3e-4e1a-8a30-ed694ae21025",
     "showTitle": false,
     "tableResultSettingsMap": {},
     "title": ""
    }
   },
   "outputs": [],
   "source": [
    "%run ./Includes/Classroom-Setup-2"
   ]
  },
  {
   "cell_type": "markdown",
   "metadata": {
    "application/vnd.databricks.v1+cell": {
     "cellMetadata": {},
     "inputWidgets": {},
     "nuid": "d5c261d8-4795-4bd1-bd7d-43e0c18e49cc",
     "showTitle": false,
     "tableResultSettingsMap": {},
     "title": ""
    }
   },
   "source": [
    "## A. Analyze Data Objects in Classroom Setup\n",
    "Let us analyze the current data objects and their components during the classroom setup."
   ]
  },
  {
   "cell_type": "markdown",
   "metadata": {
    "application/vnd.databricks.v1+cell": {
     "cellMetadata": {},
     "inputWidgets": {},
     "nuid": "9048721d-fc97-4986-a680-a20d7c2d322b",
     "showTitle": false,
     "tableResultSettingsMap": {},
     "title": ""
    }
   },
   "source": [
    "### A1. Analyze the Current Catalog\n",
    "\n",
    "1. Run code to view your current default catalog. Confirm that the catalog name displayed above is your current catalog.\n"
   ]
  },
  {
   "cell_type": "code",
   "execution_count": 0,
   "metadata": {
    "application/vnd.databricks.v1+cell": {
     "cellMetadata": {},
     "inputWidgets": {},
     "nuid": "fd146014-f43d-43b9-a47a-2fe5ff91fef9",
     "showTitle": false,
     "tableResultSettingsMap": {},
     "title": ""
    }
   },
   "outputs": [],
   "source": [
    "SELECT current_catalog();"
   ]
  },
  {
   "cell_type": "markdown",
   "metadata": {
    "application/vnd.databricks.v1+cell": {
     "cellMetadata": {},
     "inputWidgets": {},
     "nuid": "858ee9c2-6751-4e04-8a66-11da0be98232",
     "showTitle": false,
     "tableResultSettingsMap": {},
     "title": ""
    }
   },
   "source": [
    "### A2. Analyze the Current Schema\n",
    "\n",
    "1. Run code to view your current default schema. Confirm that your current schema is **example**.\n"
   ]
  },
  {
   "cell_type": "code",
   "execution_count": 0,
   "metadata": {
    "application/vnd.databricks.v1+cell": {
     "cellMetadata": {},
     "inputWidgets": {},
     "nuid": "03ca43e9-86b2-4f7d-903b-6797005ef24d",
     "showTitle": false,
     "tableResultSettingsMap": {},
     "title": ""
    }
   },
   "outputs": [],
   "source": [
    "SELECT current_schema();"
   ]
  },
  {
   "cell_type": "markdown",
   "metadata": {
    "application/vnd.databricks.v1+cell": {
     "cellMetadata": {},
     "inputWidgets": {},
     "nuid": "62c35f01-783c-47ec-a50d-8a90b72ee64b",
     "showTitle": false,
     "tableResultSettingsMap": {},
     "title": ""
    }
   },
   "source": [
    "### A3. Analyze the List of Available Tables and Views in the Custom Schema\n",
    "\n",
    "1. Let us analyze your **example** schema to display a list of tables and views. Confirm that the schema contains the **silver** table and the **vw_gold** view.\n"
   ]
  },
  {
   "cell_type": "code",
   "execution_count": 0,
   "metadata": {
    "application/vnd.databricks.v1+cell": {
     "cellMetadata": {},
     "inputWidgets": {},
     "nuid": "75486adb-299c-4537-8b4c-e940c163c191",
     "showTitle": false,
     "tableResultSettingsMap": {},
     "title": ""
    }
   },
   "outputs": [],
   "source": [
    "SHOW TABLES FROM example;"
   ]
  },
  {
   "cell_type": "markdown",
   "metadata": {
    "application/vnd.databricks.v1+cell": {
     "cellMetadata": {},
     "inputWidgets": {},
     "nuid": "e1ce49b9-62f2-4729-a98d-20e242b66e24",
     "showTitle": false,
     "tableResultSettingsMap": {},
     "title": ""
    }
   },
   "source": [
    "2. Display the available views in your current schema. Confirm the schema contains the view **vw_gold**."
   ]
  },
  {
   "cell_type": "code",
   "execution_count": 0,
   "metadata": {
    "application/vnd.databricks.v1+cell": {
     "cellMetadata": {},
     "inputWidgets": {},
     "nuid": "f92bc18c-abd6-46ce-a0b6-6524c571e75d",
     "showTitle": false,
     "tableResultSettingsMap": {},
     "title": ""
    }
   },
   "outputs": [],
   "source": [
    "SHOW VIEWS;"
   ]
  },
  {
   "cell_type": "markdown",
   "metadata": {
    "application/vnd.databricks.v1+cell": {
     "cellMetadata": {},
     "inputWidgets": {},
     "nuid": "a6115056-ad9a-4efc-abf8-2fec8637d3dd",
     "showTitle": false,
     "tableResultSettingsMap": {},
     "title": ""
    }
   },
   "source": [
    "**NOTE:** `SHOW TABLES` will display both tables and views, and `SHOW VIEWS` will only show views. From the above observation, there are the following tables and views in the custom schema:\n",
    "1. Table\\(s\\): **silver**\n",
    "2. View\\(s\\): **vw_gold**"
   ]
  },
  {
   "cell_type": "markdown",
   "metadata": {
    "application/vnd.databricks.v1+cell": {
     "cellMetadata": {},
     "inputWidgets": {},
     "nuid": "c9a64543-0d41-42e4-beb7-87303da91be8",
     "showTitle": false,
     "tableResultSettingsMap": {},
     "title": ""
    }
   },
   "source": [
    "\n",
    "## B. Exploring the Metastore\n",
    "\n",
    "In this section, let's explore our metastore and its data objects.\n",
    "\n",
    "\n",
    "### Using SQL: Inspect Elements with SQL `SHOW` Command\n",
    "Let's explore objects using the SQL commands. Though we embed them in a notebook here, you can easily port them over for execution in the DBSQL environment as well.\n",
    "\n",
    "We use the SQL `SHOW` command to inspect elements at various levels in the hierarchy.\n",
    "\n",
    "For syntax references, check out the [SQL language reference - DDL statements](https://docs.databricks.com/en/sql/language-manual/index.html#ddl-statements)"
   ]
  },
  {
   "cell_type": "markdown",
   "metadata": {
    "application/vnd.databricks.v1+cell": {
     "cellMetadata": {},
     "inputWidgets": {},
     "nuid": "8a136d6d-0034-4fb5-8bcd-400bcb2b8916",
     "showTitle": false,
     "tableResultSettingsMap": {},
     "title": ""
    }
   },
   "source": [
    "#### B1. Inspect Catalogs\n",
    "1. Let's start by displaying all available catalogs in the metastore with the `SHOW` statement. Confirm a variety of catalogs exist."
   ]
  },
  {
   "cell_type": "code",
   "execution_count": 0,
   "metadata": {
    "application/vnd.databricks.v1+cell": {
     "cellMetadata": {},
     "inputWidgets": {},
     "nuid": "329d845a-d00e-4fcb-b0c8-eec5f8338fd0",
     "showTitle": false,
     "tableResultSettingsMap": {},
     "title": ""
    }
   },
   "outputs": [],
   "source": [
    "SHOW CATALOGS;"
   ]
  },
  {
   "cell_type": "markdown",
   "metadata": {
    "application/vnd.databricks.v1+cell": {
     "cellMetadata": {},
     "inputWidgets": {},
     "nuid": "83090163-ca04-4d13-9d16-fe4fbd55922a",
     "showTitle": false,
     "tableResultSettingsMap": {},
     "title": ""
    }
   },
   "source": [
    "Do any of these entries surprise you? You should definitely see a catalog beginning with your user name as the prefix, which is the one we created earlier. But there may be more, depending on the activity in your metastore, and how your workspace is configured. In addition to catalogs others have created, you will also see some special catalogs:\n",
    "* **hive_metastore**. This is not actually a catalog. Rather, it's Unity Catalog's way of making the workspace local Hive metastore seamlessly accessible through the three-level namespace.\n",
    "* **main**: this catalog is created by default with each new metastore, though you can remove it from your metastore if desired (it isn't used by the system)\n",
    "* **samples**: this references a cloud container containing sample datasets hosted by Databricks.\n",
    "* **system**: this catalog provides an interface to the system tables - a collection of tables that return information about objects across all catalogs in the metastore.\n"
   ]
  },
  {
   "cell_type": "markdown",
   "metadata": {
    "application/vnd.databricks.v1+cell": {
     "cellMetadata": {},
     "inputWidgets": {},
     "nuid": "e23352cc-46a6-4b09-9f60-b8194780fc8e",
     "showTitle": false,
     "tableResultSettingsMap": {},
     "title": ""
    }
   },
   "source": [
    "#### B2. Inspect Schemas\n",
    "1. Now let's take a look at the schemas contained in your specific catalog (your default catalog). Remember that we have a default catalog selected so we needn't specify it in our query. Confirm the schemas **default**, **dmguc**, **example** and **information_schema** exist."
   ]
  },
  {
   "cell_type": "code",
   "execution_count": 0,
   "metadata": {
    "application/vnd.databricks.v1+cell": {
     "cellMetadata": {},
     "inputWidgets": {},
     "nuid": "c053d9cb-a2b5-4720-8bf0-9912b5c16d7c",
     "showTitle": false,
     "tableResultSettingsMap": {},
     "title": ""
    }
   },
   "outputs": [],
   "source": [
    "SHOW SCHEMAS;"
   ]
  },
  {
   "cell_type": "markdown",
   "metadata": {
    "application/vnd.databricks.v1+cell": {
     "cellMetadata": {},
     "inputWidgets": {},
     "nuid": "5a60edf4-78d5-48f8-8e58-be367a32711e",
     "showTitle": false,
     "tableResultSettingsMap": {},
     "title": ""
    }
   },
   "source": [
    "The **example** schema, of course, is the one we created earlier but there are a couple additional entries you maybe weren't expecting:\n",
    "* **default**: this schema is created by default with each new catalog.\n",
    "* **information_schema**: this schema is also created by default with each new catalog and provides a set of views describing the objects in the catalog."
   ]
  },
  {
   "cell_type": "markdown",
   "metadata": {
    "application/vnd.databricks.v1+cell": {
     "cellMetadata": {},
     "inputWidgets": {},
     "nuid": "21dfb5e4-4e66-4d24-b8bf-256d4a8331bc",
     "showTitle": false,
     "tableResultSettingsMap": {},
     "title": ""
    }
   },
   "source": [
    "2. As a sidenote, if we want to inspect schemas in a catalog that isn't the default, we specify it as follows `SHOW SCHEMAS IN catalog-name`. Run code to view available schemas in the **samples** catalog. Confirm multiple schemas exist."
   ]
  },
  {
   "cell_type": "code",
   "execution_count": 0,
   "metadata": {
    "application/vnd.databricks.v1+cell": {
     "cellMetadata": {},
     "inputWidgets": {},
     "nuid": "e05b9524-44fc-4f2f-a772-302c97e64321",
     "showTitle": false,
     "tableResultSettingsMap": {},
     "title": ""
    }
   },
   "outputs": [],
   "source": [
    "SHOW SCHEMAS IN samples;"
   ]
  },
  {
   "cell_type": "markdown",
   "metadata": {
    "application/vnd.databricks.v1+cell": {
     "cellMetadata": {},
     "inputWidgets": {},
     "nuid": "1dcab0ae-260d-4c86-832e-74125ff39f4a",
     "showTitle": false,
     "tableResultSettingsMap": {},
     "title": ""
    }
   },
   "source": [
    "#### B3. Inspect Tables\n",
    "1. Now let's take a look at the tables contained our  **example** schema within our course catalog. Again, we don't need to specify schema or catalog since we're referencing the defaults. Confirm the **silver** table and **vw_gold** view exist."
   ]
  },
  {
   "cell_type": "code",
   "execution_count": 0,
   "metadata": {
    "application/vnd.databricks.v1+cell": {
     "cellMetadata": {},
     "inputWidgets": {},
     "nuid": "6e063f4d-f1cd-4c69-9cd7-fcbc9674723e",
     "showTitle": false,
     "tableResultSettingsMap": {},
     "title": ""
    }
   },
   "outputs": [],
   "source": [
    "SHOW TABLES;"
   ]
  },
  {
   "cell_type": "markdown",
   "metadata": {
    "application/vnd.databricks.v1+cell": {
     "cellMetadata": {},
     "inputWidgets": {},
     "nuid": "9a5100d8-657f-497a-838a-30d8aceccb12",
     "showTitle": false,
     "tableResultSettingsMap": {},
     "title": ""
    }
   },
   "source": [
    "2. If you want to inspect elsewhere, you can explicitly override the default catalog and schema as follows: `SHOW TABLES IN catalog-name.schema-name`. \n",
    "\n",
    "   View the available tables in the **samples** catalog within the **tpch** schema. Confirm that a variety of tables are available."
   ]
  },
  {
   "cell_type": "code",
   "execution_count": 0,
   "metadata": {
    "application/vnd.databricks.v1+cell": {
     "cellMetadata": {},
     "inputWidgets": {},
     "nuid": "68cd768d-7938-42b4-ae73-78bb4c4b27ed",
     "showTitle": false,
     "tableResultSettingsMap": {},
     "title": ""
    }
   },
   "outputs": [],
   "source": [
    "SHOW TABLES IN samples.tpch;"
   ]
  },
  {
   "cell_type": "markdown",
   "metadata": {
    "application/vnd.databricks.v1+cell": {
     "cellMetadata": {},
     "inputWidgets": {},
     "nuid": "ed674412-dd17-4d51-be65-5d45705c907e",
     "showTitle": false,
     "tableResultSettingsMap": {},
     "title": ""
    }
   },
   "source": [
    "#### B4. Inspect User-Defined Functions\n",
    "1. There's a command available for exploring all the different object types. For example, display the available user-defined functions in your default schema (**examples**). Confirm that the `dbacademy_mask` function is available.\n",
    "\n",
    "    [SHOW FUNCTIONS](https://docs.databricks.com/en/sql/language-manual/sql-ref-syntax-aux-show-functions.html)\n"
   ]
  },
  {
   "cell_type": "code",
   "execution_count": 0,
   "metadata": {
    "application/vnd.databricks.v1+cell": {
     "cellMetadata": {},
     "inputWidgets": {},
     "nuid": "3b581595-23c8-4e18-b787-8ddd01af2900",
     "showTitle": false,
     "tableResultSettingsMap": {},
     "title": ""
    }
   },
   "outputs": [],
   "source": [
    "SHOW USER FUNCTIONS;"
   ]
  },
  {
   "cell_type": "markdown",
   "metadata": {
    "application/vnd.databricks.v1+cell": {
     "cellMetadata": {},
     "inputWidgets": {},
     "nuid": "5f21ea5e-e621-4ca2-bc3a-671e45f12c59",
     "showTitle": false,
     "tableResultSettingsMap": {},
     "title": ""
    }
   },
   "source": [
    "#### B5. Inspect Privileges Granted on Data Objects\n",
    "We can also use `SHOW` to see privileges granted on data objects.\n",
    "\n",
    "For syntax references, check out the [SQL language reference - Security statements](https://docs.databricks.com/en/sql/language-manual/index.html#security-statements) documentation.\n",
    "\n",
    "1. Display all privileges (inherited, denied, and granted) on your **silver** table in the **examples** schema (default schema). Confirm that *ALL PRIVILEGES* are available to your user account.\n",
    "\n",
    "\n",
    "\n",
    "**HINT:** `SHOW GRANTS ON`"
   ]
  },
  {
   "cell_type": "code",
   "execution_count": 0,
   "metadata": {
    "application/vnd.databricks.v1+cell": {
     "cellMetadata": {},
     "inputWidgets": {},
     "nuid": "e2d38e6b-b649-4723-9757-cbc4f607053b",
     "showTitle": false,
     "tableResultSettingsMap": {},
     "title": ""
    }
   },
   "outputs": [],
   "source": [
    "SHOW GRANTS ON TABLE silver;"
   ]
  },
  {
   "cell_type": "markdown",
   "metadata": {
    "application/vnd.databricks.v1+cell": {
     "cellMetadata": {},
     "inputWidgets": {},
     "nuid": "54b72edb-b662-419d-bde2-30147467d0a9",
     "showTitle": false,
     "tableResultSettingsMap": {},
     "title": ""
    }
   },
   "source": [
    "Since there are no grants on this table yet, no results are returned. That means that only you, the data owner, can access this table. We'll get to granting privileges shortly."
   ]
  },
  {
   "cell_type": "markdown",
   "metadata": {
    "application/vnd.databricks.v1+cell": {
     "cellMetadata": {},
     "inputWidgets": {},
     "nuid": "37b9057d-87bc-4ecc-b480-1fd96b97fa1b",
     "showTitle": false,
     "tableResultSettingsMap": {},
     "title": ""
    }
   },
   "source": [
    "## C. Analyze Additional Information with SQL `DESCRIBE` Command\n",
    "\n",
    "We also have `DESCRIBE` at our disposal, to provide additional information about a specific object.\n",
    "\n",
    "For syntax references, check out the [SQL language reference](https://docs.databricks.com/en/sql/language-manual/index.html#sql-language-reference) documentation."
   ]
  },
  {
   "cell_type": "markdown",
   "metadata": {
    "application/vnd.databricks.v1+cell": {
     "cellMetadata": {},
     "inputWidgets": {},
     "nuid": "e99ea627-6965-4a49-932f-55fd1b5eafc3",
     "showTitle": false,
     "tableResultSettingsMap": {},
     "title": ""
    }
   },
   "source": [
    "### C1. Analyze Tables\n",
    "1. Let us analyze the information about a few tables. \n",
    "\n",
    "    Use the `DESCRIBE TABLE EXTENDED` statement on your **silver** table to display detailed information about the specified columns, including the column statistics collected by the command, and additional metadata information (such as schema qualifier, owner, and access time)."
   ]
  },
  {
   "cell_type": "code",
   "execution_count": 0,
   "metadata": {
    "application/vnd.databricks.v1+cell": {
     "cellMetadata": {},
     "inputWidgets": {},
     "nuid": "7b20c17a-c1bc-457e-a038-579aec74b49e",
     "showTitle": false,
     "tableResultSettingsMap": {},
     "title": ""
    }
   },
   "outputs": [],
   "source": [
    "DESCRIBE TABLE EXTENDED silver;"
   ]
  },
  {
   "cell_type": "markdown",
   "metadata": {
    "application/vnd.databricks.v1+cell": {
     "cellMetadata": {},
     "inputWidgets": {},
     "nuid": "596463db-669c-4208-9da4-2cdd2b5fecfc",
     "showTitle": false,
     "tableResultSettingsMap": {},
     "title": ""
    }
   },
   "source": [
    "2. Use the same statement as above to view information about your **vw_gold** view. In the results, scroll down to the *View Text* value in the **col_name** column. Notice that you can view the SQL text for the view.\n"
   ]
  },
  {
   "cell_type": "code",
   "execution_count": 0,
   "metadata": {
    "application/vnd.databricks.v1+cell": {
     "cellMetadata": {},
     "inputWidgets": {},
     "nuid": "920f2cfa-7162-4c71-b45f-aab2611ca553",
     "showTitle": false,
     "tableResultSettingsMap": {},
     "title": ""
    }
   },
   "outputs": [],
   "source": [
    "DESCRIBE TABLE EXTENDED vw_gold;"
   ]
  },
  {
   "cell_type": "markdown",
   "metadata": {
    "application/vnd.databricks.v1+cell": {
     "cellMetadata": {},
     "inputWidgets": {},
     "nuid": "6cd7abd7-9332-4649-a3af-9c2475a5093a",
     "showTitle": false,
     "tableResultSettingsMap": {},
     "title": ""
    }
   },
   "source": [
    "### C2. Analyze User-Defined Functions\n",
    "1. Let us analyze the information about the **dbacademy_mask** user-defined function in the **example** schema. Use the `DESCRIBE FUNCTION EXTENDED` statement to view detailed information about the function."
   ]
  },
  {
   "cell_type": "code",
   "execution_count": 0,
   "metadata": {
    "application/vnd.databricks.v1+cell": {
     "cellMetadata": {},
     "inputWidgets": {},
     "nuid": "03989bca-7ef9-4e94-935e-ecf1127afd70",
     "showTitle": false,
     "tableResultSettingsMap": {},
     "title": ""
    }
   },
   "outputs": [],
   "source": [
    "DESCRIBE FUNCTION EXTENDED dbacademy_mask;"
   ]
  },
  {
   "cell_type": "markdown",
   "metadata": {
    "application/vnd.databricks.v1+cell": {
     "cellMetadata": {},
     "inputWidgets": {},
     "nuid": "a2b72fd8-7ba1-4189-9e23-6246f43ddad3",
     "showTitle": false,
     "tableResultSettingsMap": {},
     "title": ""
    }
   },
   "source": [
    "## D. Analyze Other Data Objects\n",
    "We can also analyze other data objects in the metastore."
   ]
  },
  {
   "cell_type": "markdown",
   "metadata": {
    "application/vnd.databricks.v1+cell": {
     "cellMetadata": {},
     "inputWidgets": {},
     "nuid": "8a9ad85e-2dc8-446e-83ce-8254497cfab8",
     "showTitle": false,
     "tableResultSettingsMap": {},
     "title": ""
    }
   },
   "source": [
    "### D1. System Catalog\n",
    "The *system* catalog provides an interface to the system tables; that is a collection of views whose purpose is to provide a SQL-based, self-describing API to the metadata related to objects across all catalogs in the metastore. This exposes a host of information useful for administration and housekeeping and there are a lot of applications for this.\n",
    "\n"
   ]
  },
  {
   "cell_type": "markdown",
   "metadata": {
    "application/vnd.databricks.v1+cell": {
     "cellMetadata": {},
     "inputWidgets": {},
     "nuid": "05675934-7528-49ee-9114-05a255bc298e",
     "showTitle": false,
     "tableResultSettingsMap": {},
     "title": ""
    }
   },
   "source": [
    "1. Run the following cell to view tables in the **system** catalog's **information_schema** schema. Notice that a variety of system tables are available.\n",
    "\n",
    "**NOTE:** System tables are a Databricks-hosted analytical store of your account’s operational data found in the system catalog. These tables can be used for historical observability across your account.\n",
    "\n",
    "For more information, check out the [Monitor usage with system tables](https://docs.databricks.com/en/admin/system-tables/index.html#monitor-usage-with-system-tables) documentation.\n"
   ]
  },
  {
   "cell_type": "code",
   "execution_count": 0,
   "metadata": {
    "application/vnd.databricks.v1+cell": {
     "cellMetadata": {},
     "inputWidgets": {},
     "nuid": "84e45cea-3a5f-487c-ada8-e14baee5cde8",
     "showTitle": false,
     "tableResultSettingsMap": {},
     "title": ""
    }
   },
   "outputs": [],
   "source": [
    "SHOW TABLES in system.information_schema;"
   ]
  },
  {
   "cell_type": "markdown",
   "metadata": {
    "application/vnd.databricks.v1+cell": {
     "cellMetadata": {},
     "inputWidgets": {},
     "nuid": "60d014fb-f34b-4b96-acdd-7f1f7af5ec7a",
     "showTitle": false,
     "tableResultSettingsMap": {},
     "title": ""
    }
   },
   "source": [
    "2. Let's consider the following query, which shows all tables that have been modified in the last *24 hours* using the **system** catalog.\n",
    "\n",
    "**NOTE:** In addition to demonstrating how to leverage this information, the query also demonstrates a Unity Catalog three-level namespace reference."
   ]
  },
  {
   "cell_type": "code",
   "execution_count": 0,
   "metadata": {
    "application/vnd.databricks.v1+cell": {
     "cellMetadata": {},
     "inputWidgets": {},
     "nuid": "eed232be-c6f3-445f-896f-171d5bd13083",
     "showTitle": false,
     "tableResultSettingsMap": {},
     "title": ""
    }
   },
   "outputs": [],
   "source": [
    "SELECT \n",
    "    table_name, \n",
    "    table_owner, \n",
    "    created_by, \n",
    "    last_altered, \n",
    "    last_altered_by, \n",
    "    table_catalog\n",
    "FROM system.information_schema.tables\n",
    "WHERE  datediff(now(), last_altered) < 1;"
   ]
  },
  {
   "cell_type": "markdown",
   "metadata": {
    "application/vnd.databricks.v1+cell": {
     "cellMetadata": {},
     "inputWidgets": {},
     "nuid": "0e5a7971-b687-4650-9d40-e805f9b9bc42",
     "showTitle": false,
     "tableResultSettingsMap": {},
     "title": ""
    }
   },
   "source": [
    "### D2. Information Schema\n",
    "\n",
    "The *information_schema* is automatically created with each catalog and contains a collection of views whose purpose is to provide a SQL-based, self-describing API to the metadata related to the elements contained within the catalog.\n",
    "\n",
    "The relations found in this schema are documented <a href=\"https://docs.databricks.com/sql/language-manual/sql-ref-information-schema.html\" target=\"_blank\">here</a>. \n",
    "\n",
    "1. As a basic example, let's see all of your available tables in your default catalog. Note that since we only specify two levels here, we're referencing the default catalog selected earlier."
   ]
  },
  {
   "cell_type": "code",
   "execution_count": 0,
   "metadata": {
    "application/vnd.databricks.v1+cell": {
     "cellMetadata": {},
     "inputWidgets": {},
     "nuid": "e1ffa542-6c81-46c5-b25d-b3611c9528e5",
     "showTitle": false,
     "tableResultSettingsMap": {},
     "title": ""
    }
   },
   "outputs": [],
   "source": [
    "SELECT * \n",
    "FROM information_schema.tables;"
   ]
  },
  {
   "cell_type": "markdown",
   "metadata": {
    "application/vnd.databricks.v1+cell": {
     "cellMetadata": {},
     "inputWidgets": {},
     "nuid": "934edbc0-3575-471e-8e48-2c548eaa542a",
     "showTitle": false,
     "tableResultSettingsMap": {},
     "title": ""
    }
   },
   "source": [
    "## E. Catalog Explorer\n"
   ]
  },
  {
   "cell_type": "markdown",
   "metadata": {
    "application/vnd.databricks.v1+cell": {
     "cellMetadata": {},
     "inputWidgets": {},
     "nuid": "ee1e74fc-68a1-4879-b8cb-f8db798146e7",
     "showTitle": false,
     "tableResultSettingsMap": {},
     "title": ""
    }
   },
   "source": [
    "### E1. Open the Catalog Explorer\n",
    "1. Right-click on **Catalog** in the left sidebar to explore the metastore using the Catalog Explorer user interface.\n",
    "   \n",
    "   - Observe the catalogs listed in the **Catalog** pane and select *Open Link in New Tab*.\n",
    "\n",
    "   - The items in this list resemble those from the `SHOW CATALOGS` SQL statement we executed earlier.\n",
    "\n",
    "   - Expand your unique catalog name, then expand **example**. This displays a list of tables, views, and functions.\n",
    "   \n",
    "   - Expand **tables**, then select **vw_gold** to see detailed information regarding the view. \n",
    "   \n",
    "   - From here, you can view the schema, sample data, details, and permissions (which we'll get to shortly).\n"
   ]
  },
  {
   "cell_type": "markdown",
   "metadata": {
    "application/vnd.databricks.v1+cell": {
     "cellMetadata": {},
     "inputWidgets": {},
     "nuid": "81cfef04-71a4-4332-84fc-818be009f3ac",
     "showTitle": false,
     "tableResultSettingsMap": {},
     "title": ""
    }
   },
   "source": [
    "### E2. Lineage\n",
    "\n",
    "Data lineage is a key pillar of any data governance solution.\n",
    "\n",
    "1. Select the **Lineage** tab.\n",
    "\n",
    "2. In the **Lineage** tab, you can identify elements related to the selected object.\n",
    "\n",
    "3. Select the **See lineage graph** button in the upper left corner.\n",
    "\n",
    "4. The lineage graph provides a visualization of the lineage relationships.\n"
   ]
  },
  {
   "cell_type": "markdown",
   "metadata": {
    "application/vnd.databricks.v1+cell": {
     "cellMetadata": {},
     "inputWidgets": {},
     "nuid": "4ec562bd-2463-4296-bb52-44b3c720d600",
     "showTitle": false,
     "tableResultSettingsMap": {},
     "title": ""
    }
   },
   "source": [
    "## Conclusion\n",
    "In this demo, we explored the structure and functionality of a metastore through practical exercises, enhancing our understanding of data organization and metadata management. We learned how to navigate and inspect various components such as catalogs, schemas, tables, and user-defined functions using SQL commands like SHOW and DESCRIBE. Additionally, we delved into the roles of the system catalog and information_schema, gaining insights into their importance in metadata access and management. The demo also highlighted the significance of data lineage for robust data governance, enabling us to trace data origins and impacts effectively. Overall, this hands-on approach has equipped us with essential skills to manage and analyze metadata within a metastore efficiently."
   ]
  },
  {
   "cell_type": "markdown",
   "metadata": {
    "application/vnd.databricks.v1+cell": {
     "cellMetadata": {},
     "inputWidgets": {},
     "nuid": "0376a694-b65b-4b3f-8d01-e99a393a98dc",
     "showTitle": false,
     "tableResultSettingsMap": {},
     "title": ""
    }
   },
   "source": [
    "\n",
    "&copy; 2025 Databricks, Inc. All rights reserved. Apache, Apache Spark, Spark, the Spark Logo, Apache Iceberg, Iceberg, and the Apache Iceberg logo are trademarks of the <a href=\"https://www.apache.org/\" target=\"blank\">Apache Software Foundation</a>.<br/>\n",
    "<br/><a href=\"https://databricks.com/privacy-policy\" target=\"blank\">Privacy Policy</a> | \n",
    "<a href=\"https://databricks.com/terms-of-use\" target=\"blank\">Terms of Use</a> | \n",
    "<a href=\"https://help.databricks.com/\" target=\"blank\">Support</a>\n"
   ]
  }
 ],
 "metadata": {
  "application/vnd.databricks.v1+notebook": {
   "computePreferences": null,
   "dashboards": [],
   "environmentMetadata": null,
   "inputWidgetPreferences": null,
   "language": "sql",
   "notebookMetadata": {},
   "notebookName": "2L Solution - Navigating the Metastore",
   "widgets": {}
  },
  "language_info": {
   "name": "sql"
  }
 },
 "nbformat": 4,
 "nbformat_minor": 0
}