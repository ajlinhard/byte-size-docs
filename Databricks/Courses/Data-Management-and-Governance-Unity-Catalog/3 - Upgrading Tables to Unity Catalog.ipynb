{
 "cells": [
  {
   "cell_type": "markdown",
   "metadata": {
    "application/vnd.databricks.v1+cell": {
     "cellMetadata": {},
     "inputWidgets": {},
     "nuid": "8fa6790e-7849-4cb2-9fda-8a89090b83cd",
     "showTitle": false,
     "tableResultSettingsMap": {},
     "title": ""
    }
   },
   "source": [
    "\n",
    "<div style=\"text-align: center; line-height: 0; padding-top: 9px;\">\n",
    "  <img src=\"https://databricks.com/wp-content/uploads/2018/03/db-academy-rgb-1200px.png\" alt=\"Databricks Learning\">\n",
    "</div>\n"
   ]
  },
  {
   "cell_type": "markdown",
   "metadata": {
    "application/vnd.databricks.v1+cell": {
     "cellMetadata": {},
     "inputWidgets": {},
     "nuid": "7aab5a25-782a-45f7-b2b2-24a92e2955a4",
     "showTitle": false,
     "tableResultSettingsMap": {},
     "title": ""
    }
   },
   "source": [
    "# Upgrading Tables to Unity Catalog\n",
    "\n",
    "In this demo, you will learn essential techniques for upgrading tables to the Unity Catalog, a pivotal step in efficient data management. This demo will cover various aspects, including analyzing existing data structures, applying migration techniques, evaluating transformation options, and upgrading metadata without moving data. Both SQL commands and user interface (UI) tools will be utilized for seamless upgrades."
   ]
  },
  {
   "cell_type": "markdown",
   "metadata": {
    "application/vnd.databricks.v1+cell": {
     "cellMetadata": {},
     "inputWidgets": {},
     "nuid": "c0f15cdd-5c55-4717-9619-e2fe6c5d4a4a",
     "showTitle": false,
     "tableResultSettingsMap": {},
     "title": ""
    }
   },
   "source": [
    "### Learning Objectives\n",
    "By the end of this demo, you will be able to:\n",
    "1. Analyze the current catalog, schema, and table structures in your data environment.\n",
    "2. Execute methods to move data from Hive metastore to Unity Catalog, including cloning and Create Table As Select \\(CTAS\\).\n",
    "3. Assess and apply necessary data transformations during the migration process.\n",
    "4. Utilize methods to upgrade table metadata while keeping data in its original location.\n",
    "5. Perform table upgrades using both SQL commands and user interface tools for efficient data management."
   ]
  },
  {
   "cell_type": "markdown",
   "metadata": {
    "application/vnd.databricks.v1+cell": {
     "cellMetadata": {},
     "inputWidgets": {},
     "nuid": "1b76a01a-a5a9-4e6c-ad5e-241c31fc9d8b",
     "showTitle": false,
     "tableResultSettingsMap": {},
     "title": ""
    }
   },
   "source": [
    "## Prerequisites\n",
    "In order to follow along with this demo, you will need:\n",
    "* Account administrator capabilities\n",
    "* Cloud resources to support the metastore\n",
    "* Have metastore admin capability in order to create and manage a catalog"
   ]
  },
  {
   "cell_type": "markdown",
   "metadata": {
    "application/vnd.databricks.v1+cell": {
     "cellMetadata": {},
     "inputWidgets": {},
     "nuid": "4c5185cc-345d-4017-8b89-0eb64c861ba0",
     "showTitle": false,
     "tableResultSettingsMap": {},
     "title": ""
    }
   },
   "source": [
    "## REQUIRED - SELECT CLASSIC COMPUTE\n",
    "### ---SERVERLESS COMPUTE WILL NOT WORK WITH THE HIVE_METASTORE---\n",
    "\n",
    "Before executing cells in this notebook, please select your classic compute cluster in the lab. Be aware that **Serverless** is enabled by default.\n",
    "\n",
    "Follow these steps to select the classic compute cluster:\n",
    "\n",
    "\n",
    "1. Navigate to the top-right of this notebook and click the drop-down menu to select your cluster. By default, the notebook will use **Serverless**.\n",
    "\n",
    "2. If your cluster is available, select it and continue to the next cell. If the cluster is not shown:\n",
    "\n",
    "   - Click **More** in the drop-down.\n",
    "\n",
    "   - In the **Attach to an existing compute resource** window, use the first drop-down to select your unique cluster.\n",
    "\n",
    "**NOTE:** If your cluster has terminated, you might need to restart it in order to select it. To do this:\n",
    "\n",
    "1. Right-click on **Compute** in the left navigation pane and select *Open in new tab*.\n",
    "\n",
    "2. Find the triangle icon to the right of your compute cluster name and click it.\n",
    "\n",
    "3. Wait a few minutes for the cluster to start.\n",
    "\n",
    "4. Once the cluster is running, complete the steps above to select your cluster."
   ]
  },
  {
   "cell_type": "markdown",
   "metadata": {
    "application/vnd.databricks.v1+cell": {
     "cellMetadata": {},
     "inputWidgets": {},
     "nuid": "4426dfbc-cde5-4495-8c07-09e709990ec8",
     "showTitle": false,
     "tableResultSettingsMap": {},
     "title": ""
    }
   },
   "source": [
    "## A. Classroom Setup\n",
    "\n",
    "Run the following cell to configure your working environment for this course. It will also set your default catalog to your specific catalog and the schema to the schema name shown below using the `USE` statements.\n",
    "<br></br>\n",
    "\n",
    "\n",
    "```\n",
    "USE CATALOG <your catalog>;\n",
    "USE SCHEMA <your catalog>.<schema>;\n",
    "```\n",
    "\n",
    "**NOTE:** The `DA` object is only used in Databricks Academy courses and is not available outside of these courses. It will dynamically reference the information needed to run the course."
   ]
  },
  {
   "cell_type": "code",
   "execution_count": 0,
   "metadata": {
    "application/vnd.databricks.v1+cell": {
     "cellMetadata": {},
     "inputWidgets": {},
     "nuid": "aa015870-b1fe-4342-bafd-17467092b17f",
     "showTitle": false,
     "tableResultSettingsMap": {},
     "title": ""
    }
   },
   "outputs": [],
   "source": [
    "%run ./Includes/Classroom-Setup-3"
   ]
  },
  {
   "cell_type": "markdown",
   "metadata": {
    "application/vnd.databricks.v1+cell": {
     "cellMetadata": {},
     "inputWidgets": {},
     "nuid": "47e808f5-e1bf-43ab-8949-994a7ddbbfee",
     "showTitle": false,
     "tableResultSettingsMap": {},
     "title": ""
    }
   },
   "source": [
    "### B. Analyze the List of Available Table and Views in the Custom Schema\n",
    "1. Let us analyze the **example** schema within your catalog for the list of tables and views. This has already been set up for you using the setup script. Take note of the tables in your schema.\n"
   ]
  },
  {
   "cell_type": "code",
   "execution_count": 0,
   "metadata": {
    "application/vnd.databricks.v1+cell": {
     "cellMetadata": {},
     "inputWidgets": {},
     "nuid": "40df2251-6358-4802-8855-04b598fe6686",
     "showTitle": false,
     "tableResultSettingsMap": {},
     "title": ""
    }
   },
   "outputs": [],
   "source": [
    "SELECT current_catalog(), current_schema();"
   ]
  },
  {
   "cell_type": "code",
   "execution_count": 0,
   "metadata": {
    "application/vnd.databricks.v1+cell": {
     "cellMetadata": {},
     "inputWidgets": {},
     "nuid": "027b59c7-a5a9-429e-ac6b-28f2730ef89f",
     "showTitle": false,
     "tableResultSettingsMap": {},
     "title": ""
    }
   },
   "outputs": [],
   "source": [
    "-- Show the list of tables within the custom schema\n",
    "SHOW TABLES FROM example;"
   ]
  },
  {
   "cell_type": "markdown",
   "metadata": {
    "application/vnd.databricks.v1+cell": {
     "cellMetadata": {},
     "inputWidgets": {},
     "nuid": "1ad1057a-dbe6-46c3-a954-2bdd7f0feea4",
     "showTitle": false,
     "tableResultSettingsMap": {},
     "title": ""
    }
   },
   "source": [
    "2. Display a list of views in your **example** schema. Take note of the view(s) in your schema.\n"
   ]
  },
  {
   "cell_type": "code",
   "execution_count": 0,
   "metadata": {
    "application/vnd.databricks.v1+cell": {
     "cellMetadata": {},
     "inputWidgets": {},
     "nuid": "9f53dea4-94a0-47d7-89dc-f613cdfedc46",
     "showTitle": false,
     "tableResultSettingsMap": {},
     "title": ""
    }
   },
   "outputs": [],
   "source": [
    "-- Show the list of views within the custom schema\n",
    "SHOW VIEWS FROM example;"
   ]
  },
  {
   "cell_type": "markdown",
   "metadata": {
    "application/vnd.databricks.v1+cell": {
     "cellMetadata": {},
     "inputWidgets": {},
     "nuid": "cfc3e68c-3c63-47a7-85aa-d58093acfff7",
     "showTitle": false,
     "tableResultSettingsMap": {},
     "title": ""
    }
   },
   "source": [
    "### C. Exploring the Hive Metastore Source Table\n",
    "\n",
    "As part of the setup, we now have a table called *movies*, residing in a user-specific schema of the Hive metastore. To make things easier, the schema name in the hive_metastore stored in a variable named `user_hive_schema` that was created in the classroom setup script."
   ]
  },
  {
   "cell_type": "code",
   "execution_count": 0,
   "metadata": {
    "application/vnd.databricks.v1+cell": {
     "cellMetadata": {},
     "inputWidgets": {},
     "nuid": "c284b779-c884-4a51-9413-c1098c462fc9",
     "showTitle": false,
     "tableResultSettingsMap": {},
     "title": ""
    }
   },
   "outputs": [],
   "source": [
    "-- View the value of the user_hive_schema SQL variable\n",
    "SELECT user_hive_schema;"
   ]
  },
  {
   "cell_type": "markdown",
   "metadata": {
    "application/vnd.databricks.v1+cell": {
     "cellMetadata": {},
     "inputWidgets": {},
     "nuid": "eb77075c-e932-4d6b-a4e3-875db99567db",
     "showTitle": false,
     "tableResultSettingsMap": {},
     "title": ""
    }
   },
   "source": [
    "1. Let's preview the data stored in this table using that variable. Notice how the three-level namespaces makes referencing data objects in the Hive metastore seamless.\n",
    "\n",
    "    Here we will use the `IDENTIFIER()` clause which enables SQL injection safe parameterization of SQL statements and enables you to interprets a constant string as a:\n",
    "    - table or view name\n",
    "    - function name\n",
    "    - column name\n",
    "    - field name\n",
    "\n",
    "    View the [documentation](https://docs.databricks.com/en/sql/language-manual/sql-ref-names-identifier-clause.html#identifier-clause) for more information."
   ]
  },
  {
   "cell_type": "code",
   "execution_count": 0,
   "metadata": {
    "application/vnd.databricks.v1+cell": {
     "cellMetadata": {},
     "inputWidgets": {},
     "nuid": "3d72e0cb-be26-4506-8f51-5e13c90269b5",
     "showTitle": false,
     "tableResultSettingsMap": {},
     "title": ""
    }
   },
   "outputs": [],
   "source": [
    "--  Show the first 10 rows from the movies table residing in the user-specific schema of the Hive metastore\n",
    "\n",
    "SELECT * \n",
    "FROM IDENTIFIER('hive_metastore.' || user_hive_schema || '.movies')\n",
    "LIMIT 10"
   ]
  },
  {
   "cell_type": "markdown",
   "metadata": {
    "application/vnd.databricks.v1+cell": {
     "cellMetadata": {},
     "inputWidgets": {},
     "nuid": "3e750c47-80cb-40db-83b8-1dcb5f3a1655",
     "showTitle": false,
     "tableResultSettingsMap": {},
     "title": ""
    }
   },
   "source": [
    "## D. Overview of Upgrade Methods\n",
    "\n",
    "There are a few different ways to upgrade a table, but the method you choose will be driven primarily by how you want to treat the table data. If you wish to leave the table data in place, then the resulting upgraded table will be an external table. If you wish to move the table data into your Unity Catalog metastore, then the resulting table will be a managed table. Consult [this page](https://docs.databricks.com/en/data-governance/unity-catalog/index.html#managed-versus-external-tables-and-volumes) for tips on whether to choose a managed or external table."
   ]
  },
  {
   "cell_type": "markdown",
   "metadata": {
    "application/vnd.databricks.v1+cell": {
     "cellMetadata": {},
     "inputWidgets": {},
     "nuid": "e88a68a6-573a-40ac-a0f8-c2678ffc180d",
     "showTitle": false,
     "tableResultSettingsMap": {},
     "title": ""
    }
   },
   "source": [
    "### D1. Moving Table Data into the Unity Catalog Metastore\n",
    "\n",
    "In this approach, table data will be copied from wherever it resides into the managed data storage area for the destination schema, catalog or metastore. The result will be a managed Delta table in your Unity Catalog metastore. \n",
    "\n",
    "This approach has two main advantages:\n",
    "* Managed tables in Unity Catalog can benefit from product optimization features that may not work well (if at all) on tables that aren't managed\n",
    "* Moving the data also gives you the opportunity to restructure your tables, in case you want to make any changes\n",
    "\n",
    "The main disadvantage to this approach is, particularly for large datasets, the time and cost associated with copying the data.\n",
    "\n",
    "In this section, we cover two different options that will move table data into the Unity Catalog metastore."
   ]
  },
  {
   "cell_type": "markdown",
   "metadata": {
    "application/vnd.databricks.v1+cell": {
     "cellMetadata": {},
     "inputWidgets": {},
     "nuid": "45c7c59e-04f1-4d9f-9f0f-e65a9f12b34b",
     "showTitle": false,
     "tableResultSettingsMap": {},
     "title": ""
    }
   },
   "source": [
    "#### D1.1 Cloning a Table\n",
    "\n",
    "Cloning a table is optimal when the source table is Delta (see <a href=\"https://docs.databricks.com/delta/clone.html\" target=\"_blank\">documentation</a> for a full explanation). It's simple to use, it will copy metadata, and it gives you the option of copying data (deep clone) or optionally leaving it in place (shallow clone). Shallow clones can be useful in some use cases.\n",
    "\n",
    "1. Run the following cell to check the format of the source table. View the results. Notice the following:\n",
    "\n",
    "    - Referring to the *Provider* row, we see the source is a Delta table. \n",
    "    - Referring to the *Location* row, we see that the table is stored in DBFS."
   ]
  },
  {
   "cell_type": "code",
   "execution_count": 0,
   "metadata": {
    "application/vnd.databricks.v1+cell": {
     "cellMetadata": {},
     "inputWidgets": {},
     "nuid": "b519aa9e-ea99-4cce-909f-2a0dab0a0a37",
     "showTitle": false,
     "tableResultSettingsMap": {},
     "title": ""
    }
   },
   "outputs": [],
   "source": [
    "-- Describe the properties of the \"movies\" table in the user-specific schema of the Hive metastore using the extended option for more details.\n",
    "-- DESCRIBE EXTENDED hive_metastore.yourschema.movies\n",
    "\n",
    "DESCRIBE EXTENDED IDENTIFIER('hive_metastore.' || user_hive_schema || '.movies')"
   ]
  },
  {
   "cell_type": "markdown",
   "metadata": {
    "application/vnd.databricks.v1+cell": {
     "cellMetadata": {},
     "inputWidgets": {},
     "nuid": "11d910fb-a192-4253-baa9-6b0e78638894",
     "showTitle": false,
     "tableResultSettingsMap": {},
     "title": ""
    }
   },
   "source": [
    "2. Let's perform a deep clone operation to copy the table from the hive metastore, creating a destination table named *movies_clone* in the **example** schema with your catalog."
   ]
  },
  {
   "cell_type": "code",
   "execution_count": 0,
   "metadata": {
    "application/vnd.databricks.v1+cell": {
     "cellMetadata": {},
     "inputWidgets": {},
     "nuid": "0d6db395-4764-4702-9402-69e604e6584a",
     "showTitle": false,
     "tableResultSettingsMap": {},
     "title": ""
    }
   },
   "outputs": [],
   "source": [
    "%python\n",
    "## Deep clone the \"movies\" table from the user-specific schema of the Hive metastore to create a new table named \"movies_clone\" in the user-specific catalog of the example schema.\n",
    "\n",
    "results = spark.sql(f'''\n",
    "CREATE OR REPLACE TABLE movies_clone \n",
    "DEEP CLONE hive_metastore.{DA.user_hive_schema}.movies\n",
    "''')\n",
    "\n",
    "display(results)"
   ]
  },
  {
   "cell_type": "markdown",
   "metadata": {
    "application/vnd.databricks.v1+cell": {
     "cellMetadata": {},
     "inputWidgets": {},
     "nuid": "00804012-4696-4df7-bdf0-cdc04cc1a582",
     "showTitle": false,
     "tableResultSettingsMap": {},
     "title": ""
    }
   },
   "source": [
    "3. Let's manually view our **example** schema within our catalog.\n",
    "    - Select the catalog icon on the left. \n",
    "\n",
    "    - Expand your unique catalog name.\n",
    "\n",
    "    - Expand the **example** schema.\n",
    "\n",
    "    - Expand **Tables**.\n",
    "\n",
    "    - Notice that the **movies** table from the hive metastore has been cloned into your schema as **movies_clone**."
   ]
  },
  {
   "cell_type": "markdown",
   "metadata": {
    "application/vnd.databricks.v1+cell": {
     "cellMetadata": {},
     "inputWidgets": {},
     "nuid": "52ba0dcd-e440-48b9-946c-2a726c685a68",
     "showTitle": false,
     "tableResultSettingsMap": {},
     "title": ""
    }
   },
   "source": [
    "#### D1.2 Create Table As Select (CTAS)\n",
    "\n",
    "Using CTAS is a universally applicable technique that simply creates a new table based on the output of a **`SELECT`** statement. This will always copy the data, and no metadata will be copied.\n",
    "\n",
    "1. Let's copy the table from the hive metastore using this approach, creating a destination table named *movies_ctas* in our catalog within the **example** schema."
   ]
  },
  {
   "cell_type": "code",
   "execution_count": 0,
   "metadata": {
    "application/vnd.databricks.v1+cell": {
     "cellMetadata": {},
     "inputWidgets": {},
     "nuid": "36cfa828-1bd8-47de-88e6-063ced94f630",
     "showTitle": false,
     "tableResultSettingsMap": {},
     "title": ""
    }
   },
   "outputs": [],
   "source": [
    "-- Copy the \"movies\" table from the user-specific schema of the Hive metastore to create \"movies_ctas\" in the user-specific catalog's example schema using CTAS (Create Table As Select)\n",
    "\n",
    "CREATE OR REPLACE TABLE movies_ctas AS \n",
    "SELECT * \n",
    "FROM IDENTIFIER('hive_metastore.' || user_hive_schema || '.movies');"
   ]
  },
  {
   "cell_type": "markdown",
   "metadata": {
    "application/vnd.databricks.v1+cell": {
     "cellMetadata": {},
     "inputWidgets": {},
     "nuid": "3f323505-ab7e-429b-a172-163f8a139892",
     "showTitle": false,
     "tableResultSettingsMap": {},
     "title": ""
    }
   },
   "source": [
    "2. Run the `SHOW TABLES` statement to view tables in your **example** schema. Notice that the **movies_ctas** table was created in your catalog from the **movies** table from the hive metastore."
   ]
  },
  {
   "cell_type": "code",
   "execution_count": 0,
   "metadata": {
    "application/vnd.databricks.v1+cell": {
     "cellMetadata": {},
     "inputWidgets": {},
     "nuid": "ba75312b-ef03-458f-890e-d4509eb19f61",
     "showTitle": false,
     "tableResultSettingsMap": {},
     "title": ""
    }
   },
   "outputs": [],
   "source": [
    "SHOW TABLES IN example;"
   ]
  },
  {
   "cell_type": "markdown",
   "metadata": {
    "application/vnd.databricks.v1+cell": {
     "cellMetadata": {},
     "inputWidgets": {},
     "nuid": "9597e8fe-68a2-4098-9f1b-b7865563f6d8",
     "showTitle": false,
     "tableResultSettingsMap": {},
     "title": ""
    }
   },
   "source": [
    "#### D1.3 Applying Transformations during the Upgrade\n",
    "\n",
    "CTAS offers an option that other methods do not: the ability to transform the data while copying it.\n",
    "\n",
    "When migrating your tables to Unity Catalog, it's a great time to consider your table structures and whether they still address your organization's business requirements that may have changed over time.\n",
    "\n",
    "Cloning, and the CTAS operation we just saw, takes an exact copy of the source table. But CTAS can be easily adapted to perform any transformations during the upgrade.\n",
    "\n",
    "For example, you could modify the table when migrating it from the hive metastore to Unity Catalog."
   ]
  },
  {
   "cell_type": "code",
   "execution_count": 0,
   "metadata": {
    "application/vnd.databricks.v1+cell": {
     "cellMetadata": {},
     "inputWidgets": {},
     "nuid": "af06bb11-d629-40b9-a7ff-406b1736b809",
     "showTitle": false,
     "tableResultSettingsMap": {},
     "title": ""
    }
   },
   "outputs": [],
   "source": [
    "-- Copy the \"movies\" table from Hive metastore to create \"movies_transformed\" in the user-specific catalog using CTAS with the required transformations\n",
    "CREATE OR REPLACE TABLE movies_transformed AS \n",
    "SELECT\n",
    "  id AS Movie_ID,\n",
    "  title AS Movie_Title,\n",
    "  genres AS Genres,\n",
    "  upper(original_language) AS Original_Language,\n",
    "  vote_average AS Vote_Average\n",
    "FROM IDENTIFIER('hive_metastore.' || user_hive_schema || '.movies');"
   ]
  },
  {
   "cell_type": "code",
   "execution_count": 0,
   "metadata": {
    "application/vnd.databricks.v1+cell": {
     "cellMetadata": {},
     "inputWidgets": {},
     "nuid": "560acf86-67c6-4602-8674-0867b28a62e3",
     "showTitle": false,
     "tableResultSettingsMap": {},
     "title": ""
    }
   },
   "outputs": [],
   "source": [
    "-- Display the contents of the \"movies_transformed\" table from the user-specific catalog of the example schema\n",
    "SELECT * \n",
    "FROM movies_transformed;"
   ]
  },
  {
   "cell_type": "markdown",
   "metadata": {
    "application/vnd.databricks.v1+cell": {
     "cellMetadata": {},
     "inputWidgets": {},
     "nuid": "8e3a27d6-cb0b-4aa9-9cb5-dd8edbee0502",
     "showTitle": false,
     "tableResultSettingsMap": {},
     "title": ""
    }
   },
   "source": [
    "\n",
    "### D2 Upgrade External Tables in Hive Metastore to External Tables in Unity Catalog\n",
    "\n",
    "**NOTE: This lab environment does not have access to external tables. This is an example of what you can do in your environment.**\n",
    "\n",
    "We have seen approaches that involve moving table data from wherever it is currently to the Unity Catalog metastore. However, in upgrading external tables, some use cases may call for leaving the data in place. For example:\n",
    "* Data location is dictated by an internal or regulatory requirement of some sort\n",
    "* Cannot change the data format to Delta\n",
    "* Outside writers must be able to modify the data\n",
    "* Avoiding time and/or cost of moving large datasets\n",
    "\n",
    "Note the following constraints for this approach:\n",
    "\n",
    "* Source table must be an external table\n",
    "* There must be a storage credential referencing the storage container where the source table data resides\n",
    "\n",
    "In this section, we cover two different options that will upgrade to an external table without moving any table data."
   ]
  },
  {
   "cell_type": "markdown",
   "metadata": {
    "application/vnd.databricks.v1+cell": {
     "cellMetadata": {},
     "inputWidgets": {},
     "nuid": "43721c3d-6fa8-45ff-8f0d-12e47be37b23",
     "showTitle": false,
     "tableResultSettingsMap": {},
     "title": ""
    }
   },
   "source": [
    "#### D2.1 Using SYNC to Export Hive External Tables to Unity Catalog\n",
    "\n",
    "The **`SYNC`** SQL command allows us to upgrade **external tables** in Hive Metastore to **external tables** in Unity Catalog.\n",
    "\n",
    "For more information on the [SYNC statement](https://docs.databricks.com/en/sql/language-manual/sql-ref-syntax-aux-sync.html#sync) view the documentation.\n",
    "\n",
    "**NOTE:** This lab workspace does not enable you to create external tables."
   ]
  },
  {
   "cell_type": "markdown",
   "metadata": {
    "application/vnd.databricks.v1+cell": {
     "cellMetadata": {},
     "inputWidgets": {},
     "nuid": "416914d2-fddc-4aa7-93ff-3b7bd596860c",
     "showTitle": false,
     "tableResultSettingsMap": {},
     "title": ""
    }
   },
   "source": [
    "#### D2.2 Using Catalog Explorer to Upgrade Tables to Unity Catalog from the Hive Metastore\n",
    "\n",
    "Let's try upgrading the table using the Catalog Explorer user interface.\n",
    "\n",
    "1. Select the catalog icon on the left.\n",
    "\n",
    "1. Expand the **hive_metastore**.\n",
    "\n",
    "1. Expand your schema name in the hive metastore.\n",
    "\n",
    "1. Right click on your schema name and select **Open in Catalog Explorer**.\n",
    "\n",
    "1. Select the **movies** table \\(it can be any available table\\).\n",
    "\n",
    "1. Click **Upgrade**.\n",
    "\n",
    "1. Select your destination catalog and schema. \n",
    "\n",
    "1. For **Select catalog** select your unique catalog name.\n",
    "\n",
    "1. For **Select schema** select the **example** schema.\n",
    "\n",
    "1. For this example, let's leave owner set to the default (your username).\n",
    "\n",
    "1. Click **Next**.\n",
    "\n",
    "From here you can run the upgrade, or open a notebook containing the upgrade operations that you can run interactively. For the purpose of the exercise, you don't need to actually run the upgrade since it uses `SYNC` behind the scenes."
   ]
  },
  {
   "cell_type": "markdown",
   "metadata": {
    "application/vnd.databricks.v1+cell": {
     "cellMetadata": {},
     "inputWidgets": {},
     "nuid": "25ac4baf-9595-4f33-96f9-a13cb10da831",
     "showTitle": false,
     "tableResultSettingsMap": {},
     "title": ""
    }
   },
   "source": [
    "## CleanUp\n",
    "Lets quickly clean up the data in hive metastore by running below command."
   ]
  },
  {
   "cell_type": "code",
   "execution_count": 0,
   "metadata": {
    "application/vnd.databricks.v1+cell": {
     "cellMetadata": {},
     "inputWidgets": {},
     "nuid": "25ef0578-1682-4314-a8bd-f2954c1aa745",
     "showTitle": false,
     "tableResultSettingsMap": {},
     "title": ""
    }
   },
   "outputs": [],
   "source": [
    "%py\n",
    "DA.cleanup_hive_metastore()"
   ]
  },
  {
   "cell_type": "markdown",
   "metadata": {
    "application/vnd.databricks.v1+cell": {
     "cellMetadata": {},
     "inputWidgets": {},
     "nuid": "e0c259e5-31c6-4d0d-90a2-150d03651bac",
     "showTitle": false,
     "tableResultSettingsMap": {},
     "title": ""
    }
   },
   "source": [
    "## Conclusion\n",
    "In this demo, we explored crucial techniques for upgrading tables to the Unity Catalog, focusing on efficient data management. We learned to analyze existing data structures, apply migration techniques, evaluate transformation options, and upgrade metadata without moving data. Through SQL commands and user interface tools, we seamlessly executed upgrades, considering the treatment of table data as either external or managed within the Unity Catalog. With a thorough understanding of these methods, you are now equipped to optimize your data management processes effectively."
   ]
  },
  {
   "cell_type": "markdown",
   "metadata": {
    "application/vnd.databricks.v1+cell": {
     "cellMetadata": {},
     "inputWidgets": {},
     "nuid": "b72ba223-f944-4bc1-b379-f4359a4cf2bd",
     "showTitle": false,
     "tableResultSettingsMap": {},
     "title": ""
    }
   },
   "source": [
    "\n",
    "&copy; 2025 Databricks, Inc. All rights reserved. Apache, Apache Spark, Spark, the Spark Logo, Apache Iceberg, Iceberg, and the Apache Iceberg logo are trademarks of the <a href=\"https://www.apache.org/\" target=\"blank\">Apache Software Foundation</a>.<br/>\n",
    "<br/><a href=\"https://databricks.com/privacy-policy\" target=\"blank\">Privacy Policy</a> | \n",
    "<a href=\"https://databricks.com/terms-of-use\" target=\"blank\">Terms of Use</a> | \n",
    "<a href=\"https://help.databricks.com/\" target=\"blank\">Support</a>\n"
   ]
  }
 ],
 "metadata": {
  "application/vnd.databricks.v1+notebook": {
   "computePreferences": null,
   "dashboards": [],
   "environmentMetadata": null,
   "inputWidgetPreferences": null,
   "language": "sql",
   "notebookMetadata": {
    "pythonIndentUnit": 4
   },
   "notebookName": "3 - Upgrading Tables to Unity Catalog",
   "widgets": {}
  },
  "language_info": {
   "name": "sql"
  }
 },
 "nbformat": 4,
 "nbformat_minor": 0
}