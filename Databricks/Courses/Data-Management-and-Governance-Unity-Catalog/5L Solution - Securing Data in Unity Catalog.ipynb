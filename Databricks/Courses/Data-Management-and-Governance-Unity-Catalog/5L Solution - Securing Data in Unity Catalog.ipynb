{
 "cells": [
  {
   "cell_type": "markdown",
   "metadata": {
    "application/vnd.databricks.v1+cell": {
     "cellMetadata": {},
     "inputWidgets": {},
     "nuid": "2b464fe9-89f5-4aa2-b912-40befdd26ce5",
     "showTitle": false,
     "tableResultSettingsMap": {},
     "title": ""
    }
   },
   "source": [
    "\n",
    "<div style=\"text-align: center; line-height: 0; padding-top: 9px;\">\n",
    "  <img src=\"https://databricks.com/wp-content/uploads/2018/03/db-academy-rgb-1200px.png\" alt=\"Databricks Learning\">\n",
    "</div>\n"
   ]
  },
  {
   "cell_type": "markdown",
   "metadata": {
    "application/vnd.databricks.v1+cell": {
     "cellMetadata": {},
     "inputWidgets": {},
     "nuid": "a3a91b17-5ec5-425f-9412-52ba1ebab7b4",
     "showTitle": false,
     "tableResultSettingsMap": {},
     "title": ""
    }
   },
   "source": [
    "# Securing Data in Unity Catalog\n",
    "\n",
    "In this lab, you will create two objects secure tables:\n",
    "\n",
    "1. Row Filtering and Column Masking Tables\n",
    "\n",
    "2. Dynamic Views\n",
    "\n",
    "\n",
    "### Learning Objectives\n",
    "By the end of this demo, you will be able to:\n",
    "1. Assign access permissions to the newly created view for account users and execute queries to validate the view's functionality and data integrity.\n",
    "1. Develop a dynamic view of the cloned table, applying data redaction and access restrictions to enhance data security."
   ]
  },
  {
   "cell_type": "markdown",
   "metadata": {
    "application/vnd.databricks.v1+cell": {
     "cellMetadata": {},
     "inputWidgets": {},
     "nuid": "5baeea03-8f02-4152-8a2f-1d7ce929ed8b",
     "showTitle": false,
     "tableResultSettingsMap": {},
     "title": ""
    }
   },
   "source": [
    "## REQUIRED - SELECT SERVERLESS\n",
    "\n",
    "Before executing cells in this notebook, please select Serverless cluster in the lab. Be aware that **Serverless** is enabled by default.\n",
    "\n",
    "Follow these steps to select the Serverless cluster:\n",
    "\n",
    "- Navigate to the top-right of this notebook and click the drop-down menu to select your cluster. By default, the notebook will use **Serverless**."
   ]
  },
  {
   "cell_type": "markdown",
   "metadata": {
    "application/vnd.databricks.v1+cell": {
     "cellMetadata": {},
     "inputWidgets": {},
     "nuid": "b7230cfc-d86f-4d2e-8652-9706c51d47bf",
     "showTitle": false,
     "tableResultSettingsMap": {},
     "title": ""
    }
   },
   "source": [
    "## A. Classroom Setup\n",
    "\n",
    "Run the following cell to configure your working environment for this course. It will also set your default catalog to your specific catalog and the schema to the schema name shown below using the `USE` statements.\n",
    "<br></br>\n",
    "\n",
    "\n",
    "```\n",
    "USE CATALOG <your catalog>;\n",
    "USE SCHEMA <your catalog>.<schema>;\n",
    "```\n",
    "\n",
    "**NOTE:** The `DA` object is only used in Databricks Academy courses and is not available outside of these courses. It will dynamically reference the information needed to run the course."
   ]
  },
  {
   "cell_type": "code",
   "execution_count": 0,
   "metadata": {
    "application/vnd.databricks.v1+cell": {
     "cellMetadata": {},
     "inputWidgets": {},
     "nuid": "3af032bf-6e6e-4871-8d2c-87cd8bf202c7",
     "showTitle": false,
     "tableResultSettingsMap": {},
     "title": ""
    }
   },
   "outputs": [],
   "source": [
    "%run ./Includes/Classroom-Setup-5"
   ]
  },
  {
   "cell_type": "markdown",
   "metadata": {
    "application/vnd.databricks.v1+cell": {
     "cellMetadata": {},
     "inputWidgets": {},
     "nuid": "82fe1929-b31b-4917-bbd6-c46f96b9a747",
     "showTitle": false,
     "tableResultSettingsMap": {},
     "title": ""
    }
   },
   "source": [
    "Run the code below and confirm that your current catalog is set to your unique catalog name and that the current schema is **default**.\n"
   ]
  },
  {
   "cell_type": "code",
   "execution_count": 0,
   "metadata": {
    "application/vnd.databricks.v1+cell": {
     "cellMetadata": {},
     "inputWidgets": {},
     "nuid": "b58a010e-66d9-4e4f-a963-a9cf5aa1484a",
     "showTitle": false,
     "tableResultSettingsMap": {},
     "title": ""
    }
   },
   "outputs": [],
   "source": [
    "SELECT current_catalog(), current_schema()"
   ]
  },
  {
   "cell_type": "markdown",
   "metadata": {
    "application/vnd.databricks.v1+cell": {
     "cellMetadata": {},
     "inputWidgets": {},
     "nuid": "f27e6625-7bf1-420c-a672-f68dda5273c3",
     "showTitle": false,
     "tableResultSettingsMap": {},
     "title": ""
    }
   },
   "source": [
    "## B. Protect Columns and Rows with Column Masking and Row Filtering"
   ]
  },
  {
   "cell_type": "markdown",
   "metadata": {
    "application/vnd.databricks.v1+cell": {
     "cellMetadata": {},
     "inputWidgets": {},
     "nuid": "34181116-a6b5-4e73-b069-2600415f78bf",
     "showTitle": false,
     "tableResultSettingsMap": {},
     "title": ""
    }
   },
   "source": [
    "### REQUIRED: Create the Table Customers\n",
    "1. Run the code below to create the **customers** table in your **default** schema."
   ]
  },
  {
   "cell_type": "code",
   "execution_count": 0,
   "metadata": {
    "application/vnd.databricks.v1+cell": {
     "cellMetadata": {},
     "inputWidgets": {},
     "nuid": "13b4c407-2dba-4dda-bc5e-476a90358116",
     "showTitle": false,
     "tableResultSettingsMap": {},
     "title": ""
    }
   },
   "outputs": [],
   "source": [
    "CREATE OR REPLACE TABLE customers AS\n",
    "SELECT *\n",
    "FROM samples.tpch.customer;"
   ]
  },
  {
   "cell_type": "markdown",
   "metadata": {
    "application/vnd.databricks.v1+cell": {
     "cellMetadata": {},
     "inputWidgets": {},
     "nuid": "e4b622ae-c30c-44f7-8a9a-f71542d54fa6",
     "showTitle": false,
     "tableResultSettingsMap": {},
     "title": ""
    }
   },
   "source": [
    "2. Run a query to view *10* rows from the **customers** table in your **default** schema. Notice that the table contains information such as **c_name**, **c_phone**, and **c_mktsegment**."
   ]
  },
  {
   "cell_type": "code",
   "execution_count": 0,
   "metadata": {
    "application/vnd.databricks.v1+cell": {
     "cellMetadata": {},
     "inputWidgets": {},
     "nuid": "2aa859b8-0471-4062-a41b-df5c61f91709",
     "showTitle": false,
     "tableResultSettingsMap": {},
     "title": ""
    }
   },
   "outputs": [],
   "source": [
    "SELECT *\n",
    "FROM customers  \n",
    "LIMIT 10;"
   ]
  },
  {
   "cell_type": "markdown",
   "metadata": {
    "application/vnd.databricks.v1+cell": {
     "cellMetadata": {},
     "inputWidgets": {},
     "nuid": "882188eb-68ad-4d0b-8c4e-305696e550cd",
     "showTitle": false,
     "tableResultSettingsMap": {},
     "title": ""
    }
   },
   "source": [
    "### B1. Create a Function to Perform Column Masking\n",
    "View the [Filter sensitive table data using row filters and column masks](https://docs.databricks.com/en/tables/row-and-column-filters.html) documentation for additional help.\n",
    "1. Create a function named **phone_mask** that redacts the **c_phone** column in the **customers** table if the user is not a member of the ('admin') group using the `is_account_group_member` function. The **phone_mask** function should return the string *REDACTED PHONE NUMBER* if the user is not a member."
   ]
  },
  {
   "cell_type": "code",
   "execution_count": 0,
   "metadata": {
    "application/vnd.databricks.v1+cell": {
     "cellMetadata": {},
     "inputWidgets": {},
     "nuid": "6fdfc45a-8151-446e-a0bf-e89edd48cdb8",
     "showTitle": false,
     "tableResultSettingsMap": {},
     "title": ""
    }
   },
   "outputs": [],
   "source": [
    "CREATE OR REPLACE FUNCTION phone_mask(c_phone STRING)\n",
    "  RETURN CASE WHEN is_account_group_member('metastore_admins') \n",
    "    THEN c_phone \n",
    "    ELSE 'REDACTED PHONE NUMBER' \n",
    "  END;"
   ]
  },
  {
   "cell_type": "markdown",
   "metadata": {
    "application/vnd.databricks.v1+cell": {
     "cellMetadata": {},
     "inputWidgets": {},
     "nuid": "6f5d0a66-a501-4689-aa01-5df19e382777",
     "showTitle": false,
     "tableResultSettingsMap": {},
     "title": ""
    }
   },
   "source": [
    "2. Apply the column masking function **phone_mask** to the **customers** table using the `ALTER TABLE` statement."
   ]
  },
  {
   "cell_type": "code",
   "execution_count": 0,
   "metadata": {
    "application/vnd.databricks.v1+cell": {
     "cellMetadata": {},
     "inputWidgets": {},
     "nuid": "99660a8f-f01c-452c-b54f-0e53a9220b3e",
     "showTitle": false,
     "tableResultSettingsMap": {},
     "title": ""
    }
   },
   "outputs": [],
   "source": [
    "ALTER TABLE customers \n",
    "  ALTER COLUMN c_phone \n",
    "  SET MASK phone_mask;"
   ]
  },
  {
   "cell_type": "markdown",
   "metadata": {
    "application/vnd.databricks.v1+cell": {
     "cellMetadata": {},
     "inputWidgets": {},
     "nuid": "d261b1dc-b8a8-4b0d-914f-53aca27bf2be",
     "showTitle": false,
     "tableResultSettingsMap": {},
     "title": ""
    }
   },
   "source": [
    "3. Run the cell below to confirm that you have correctly masked the **c_phone** column in the **customers** table. If an error is returned make sure the function is created and applied correctly."
   ]
  },
  {
   "cell_type": "code",
   "execution_count": 0,
   "metadata": {
    "application/vnd.databricks.v1+cell": {
     "cellMetadata": {},
     "inputWidgets": {},
     "nuid": "415f0935-75b1-403c-803c-d6fa24e6f1da",
     "showTitle": false,
     "tableResultSettingsMap": {},
     "title": ""
    }
   },
   "outputs": [],
   "source": [
    "%python\n",
    "sdf = spark.sql('SELECT c_phone FROM customers GROUP BY c_phone')\n",
    "value = sdf.collect()[0][0]\n",
    "\n",
    "assert value == 'REDACTED PHONE NUMBER', 'The c_phone column should only contain the value \"REDACTED PHONE NUMBER\". Please create the correct column mask function and apply it to the customers table.'\n",
    "print('You correctly applied the column mask to the customers table.')"
   ]
  },
  {
   "cell_type": "markdown",
   "metadata": {
    "application/vnd.databricks.v1+cell": {
     "cellMetadata": {},
     "inputWidgets": {},
     "nuid": "ab9e53d7-9266-46f1-b07f-bb72b9ab8741",
     "showTitle": false,
     "tableResultSettingsMap": {},
     "title": ""
    }
   },
   "source": [
    "4. Run the query below to view the **customers** table with the column mask applied. Confirm that the **c_phone** column displays the value *REDACTED PHONE NUMBER*.\n",
    "\n"
   ]
  },
  {
   "cell_type": "code",
   "execution_count": 0,
   "metadata": {
    "application/vnd.databricks.v1+cell": {
     "cellMetadata": {},
     "inputWidgets": {},
     "nuid": "1d72288b-fedd-4ca4-a751-013631f35cb9",
     "showTitle": false,
     "tableResultSettingsMap": {},
     "title": ""
    }
   },
   "outputs": [],
   "source": [
    "SELECT *\n",
    "FROM customers\n",
    "LIMIT 10;"
   ]
  },
  {
   "cell_type": "markdown",
   "metadata": {
    "application/vnd.databricks.v1+cell": {
     "cellMetadata": {},
     "inputWidgets": {},
     "nuid": "244beb28-668e-4497-8867-9cbf323bd54f",
     "showTitle": false,
     "tableResultSettingsMap": {},
     "title": ""
    }
   },
   "source": [
    "### B2. Create a Function to Perform Row Filtering\n",
    "View the [Filter sensitive table data using row filters and column masks](https://docs.databricks.com/en/tables/row-and-column-filters.html) documentation for additional help.\n",
    "\n",
    "1. Run the cell below to count the total number of rows in the **customers** table. Confirm that the table contains 750,000 rows of data.\n"
   ]
  },
  {
   "cell_type": "code",
   "execution_count": 0,
   "metadata": {
    "application/vnd.databricks.v1+cell": {
     "cellMetadata": {},
     "inputWidgets": {},
     "nuid": "2d718486-0aee-49b3-870f-efd6d6de2218",
     "showTitle": false,
     "tableResultSettingsMap": {},
     "title": ""
    }
   },
   "outputs": [],
   "source": [
    "SELECT count(*) AS TotalRows\n",
    "FROM customers;"
   ]
  },
  {
   "cell_type": "markdown",
   "metadata": {
    "application/vnd.databricks.v1+cell": {
     "cellMetadata": {},
     "inputWidgets": {},
     "nuid": "9199cd12-a15f-4794-a446-c99fd0e89180",
     "showTitle": false,
     "tableResultSettingsMap": {},
     "title": ""
    }
   },
   "source": [
    "2. Create a function named **nation_filter** that filters on **c_nationkey** in the **customers** table if the user is not a member of the ('admin') group using the `is_account_group_member` function. The function should only return rows where **c_nationkey** equals *21*.\n",
    "\n",
    "    View the [if function](https://docs.databricks.com/en/sql/language-manual/functions/if.html) documentation for additional help."
   ]
  },
  {
   "cell_type": "code",
   "execution_count": 0,
   "metadata": {
    "application/vnd.databricks.v1+cell": {
     "cellMetadata": {},
     "inputWidgets": {},
     "nuid": "e0cdffd0-3da7-4fb8-a421-6d0b9174719c",
     "showTitle": false,
     "tableResultSettingsMap": {},
     "title": ""
    }
   },
   "outputs": [],
   "source": [
    "CREATE OR REPLACE FUNCTION nation_filter(c_nationkey INT)\n",
    "  RETURN IF(is_account_group_member('admin'), true, c_nationkey = 21);"
   ]
  },
  {
   "cell_type": "markdown",
   "metadata": {
    "application/vnd.databricks.v1+cell": {
     "cellMetadata": {},
     "inputWidgets": {},
     "nuid": "775d20a8-36d0-44dc-8adc-f69f00abc8b4",
     "showTitle": false,
     "tableResultSettingsMap": {},
     "title": ""
    }
   },
   "source": [
    "3. Apply the function row filtering function `nation_filter` to the **customers** table using the `ALTER TABLE` statement."
   ]
  },
  {
   "cell_type": "code",
   "execution_count": 0,
   "metadata": {
    "application/vnd.databricks.v1+cell": {
     "cellMetadata": {},
     "inputWidgets": {},
     "nuid": "4337e17c-c476-4c0f-a4b5-eac6a785f10a",
     "showTitle": false,
     "tableResultSettingsMap": {},
     "title": ""
    }
   },
   "outputs": [],
   "source": [
    "ALTER TABLE customers \n",
    "SET ROW FILTER nation_filter ON (c_nationkey);"
   ]
  },
  {
   "cell_type": "markdown",
   "metadata": {
    "application/vnd.databricks.v1+cell": {
     "cellMetadata": {},
     "inputWidgets": {},
     "nuid": "f59f5730-d6ee-4ec6-8892-ab3ff2a7e83f",
     "showTitle": false,
     "tableResultSettingsMap": {},
     "title": ""
    }
   },
   "source": [
    "4. Run the cell below to confirm that you added row filtering to the **customers** table column **c_nationkey** correctly.\n"
   ]
  },
  {
   "cell_type": "code",
   "execution_count": 0,
   "metadata": {
    "application/vnd.databricks.v1+cell": {
     "cellMetadata": {},
     "inputWidgets": {},
     "nuid": "4bdf51c9-cfab-4962-9421-fe1459cc7b9f",
     "showTitle": false,
     "tableResultSettingsMap": {},
     "title": ""
    }
   },
   "outputs": [],
   "source": [
    "%python\n",
    "sdf = spark.sql('SELECT c_nationkey FROM customers GROUP BY c_nationkey')\n",
    "value = sdf.collect()[0][0]\n",
    "\n",
    "assert value == 21, 'The c_nationkey column should only contain the value 21. Please create the correct row filter function and apply it to the customers table.'\n",
    "print('You correctly applied the row filter.')"
   ]
  },
  {
   "cell_type": "markdown",
   "metadata": {
    "application/vnd.databricks.v1+cell": {
     "cellMetadata": {},
     "inputWidgets": {},
     "nuid": "1fae40b1-7e56-4079-af33-30f5d5814795",
     "showTitle": false,
     "tableResultSettingsMap": {},
     "title": ""
    }
   },
   "source": [
    "5. Run the query below to count the number of rows in the **customers** table for you since you've filtered out rows for users not admins. Confirm you can only view *29,859* rows (*where c_nationkey = 21*)."
   ]
  },
  {
   "cell_type": "code",
   "execution_count": 0,
   "metadata": {
    "application/vnd.databricks.v1+cell": {
     "cellMetadata": {},
     "inputWidgets": {},
     "nuid": "2792d2f3-5eca-4f30-95b6-47439eec8004",
     "showTitle": false,
     "tableResultSettingsMap": {},
     "title": ""
    }
   },
   "outputs": [],
   "source": [
    "SELECT count(*) AS TotalRows\n",
    "FROM customers;"
   ]
  },
  {
   "cell_type": "markdown",
   "metadata": {
    "application/vnd.databricks.v1+cell": {
     "cellMetadata": {},
     "inputWidgets": {},
     "nuid": "1c83d74d-317a-4b29-9aa6-369c56def050",
     "showTitle": false,
     "tableResultSettingsMap": {},
     "title": ""
    }
   },
   "source": [
    "6. Run the query below to view the **customers** table. \n",
    "\n",
    "    Confirm the final table:\n",
    "    - redactes the **c_phone** column and\n",
    "    - filters rows based on the **c_nationkey** column for users who are not *admins*."
   ]
  },
  {
   "cell_type": "code",
   "execution_count": 0,
   "metadata": {
    "application/vnd.databricks.v1+cell": {
     "cellMetadata": {},
     "inputWidgets": {},
     "nuid": "60180475-5a4d-40c1-81fd-f324fd3823ad",
     "showTitle": false,
     "tableResultSettingsMap": {},
     "title": ""
    }
   },
   "outputs": [],
   "source": [
    "SELECT *\n",
    "FROM customers;"
   ]
  },
  {
   "cell_type": "markdown",
   "metadata": {
    "application/vnd.databricks.v1+cell": {
     "cellMetadata": {},
     "inputWidgets": {},
     "nuid": "9203f4af-25f9-4cc2-9b92-41e781d25b32",
     "showTitle": false,
     "tableResultSettingsMap": {},
     "title": ""
    }
   },
   "source": [
    "## C. Protecting Columns and Rows with Dynamic Views\n"
   ]
  },
  {
   "cell_type": "markdown",
   "metadata": {
    "application/vnd.databricks.v1+cell": {
     "cellMetadata": {},
     "inputWidgets": {},
     "nuid": "31aee789-4779-49f3-850a-f50305ef729a",
     "showTitle": false,
     "tableResultSettingsMap": {},
     "title": ""
    }
   },
   "source": [
    "### REQUIRED: Create the Table Customers_new\n",
    "1. Run the code below to create the **customers_new** table in your **default** schema."
   ]
  },
  {
   "cell_type": "code",
   "execution_count": 0,
   "metadata": {
    "application/vnd.databricks.v1+cell": {
     "cellMetadata": {},
     "inputWidgets": {},
     "nuid": "b26fafcc-7641-4881-9ccb-9bbb9e8645b7",
     "showTitle": false,
     "tableResultSettingsMap": {},
     "title": ""
    }
   },
   "outputs": [],
   "source": [
    "CREATE OR REPLACE TABLE customers_new AS\n",
    "SELECT *\n",
    "FROM samples.tpch.customer;"
   ]
  },
  {
   "cell_type": "markdown",
   "metadata": {
    "application/vnd.databricks.v1+cell": {
     "cellMetadata": {},
     "inputWidgets": {},
     "nuid": "57c2c84b-b4a1-4229-b3f2-f6fa2f14e58d",
     "showTitle": false,
     "tableResultSettingsMap": {},
     "title": ""
    }
   },
   "source": [
    "2. Run a query to view *10* rows from the **customers_new** table in your **default** schema. Notice that the table contains information such as **c_name**, **c_phone**, and **c_mktsegment**."
   ]
  },
  {
   "cell_type": "code",
   "execution_count": 0,
   "metadata": {
    "application/vnd.databricks.v1+cell": {
     "cellMetadata": {},
     "inputWidgets": {},
     "nuid": "bc43f8c1-9b25-405d-a2f6-1801e2fee6a7",
     "showTitle": false,
     "tableResultSettingsMap": {},
     "title": ""
    }
   },
   "outputs": [],
   "source": [
    "SELECT *\n",
    "FROM customers_new\n",
    "LIMIT 10;"
   ]
  },
  {
   "cell_type": "markdown",
   "metadata": {
    "application/vnd.databricks.v1+cell": {
     "cellMetadata": {},
     "inputWidgets": {},
     "nuid": "71591418-5b09-4070-a9eb-b112cf670ce8",
     "showTitle": false,
     "tableResultSettingsMap": {},
     "title": ""
    }
   },
   "source": [
    "### C1. Create the Dynamic View\n",
    "Let's create a view named **vw_customers** that presents a processed view of the **customers_new** table data with the following transformations:\n",
    "- Selects all columns from the **customers_new** table.\n",
    "\n",
    "- Redact all values in the **c_phone** column to *REDACTED PHONE NUMBER* unless you are in the `is_account_group_member('admins')`\n",
    "    - HINT: Use a `CASE WHEN` statement in the `SELECT` clause.\n",
    "\n",
    "- Restrict the rows where **c_nationkey** is equal to *21* unless you are in the `is_account_group_member('admins')`.\n",
    "    - HINT: Use a `CASE WHEN` statement in the `WHERE` clause."
   ]
  },
  {
   "cell_type": "code",
   "execution_count": 0,
   "metadata": {
    "application/vnd.databricks.v1+cell": {
     "cellMetadata": {},
     "inputWidgets": {},
     "nuid": "1e6f0444-5cda-443c-9e3d-9a270964dbcd",
     "showTitle": false,
     "tableResultSettingsMap": {},
     "title": ""
    }
   },
   "outputs": [],
   "source": [
    "-- Create a movies_gold view by redacting the \"votes\" column and restricting the movies with a rating below 6.0\n",
    "\n",
    "CREATE OR REPLACE VIEW vw_customers AS\n",
    "SELECT \n",
    "  c_custkey, \n",
    "  c_name, \n",
    "  c_address, \n",
    "  c_nationkey,\n",
    "  CASE \n",
    "    WHEN is_account_group_member('admins') THEN c_phone\n",
    "    ELSE 'REDACTED PHONE NUMBER'\n",
    "  END as c_phone,\n",
    "  c_acctbal, \n",
    "  c_mktsegment, \n",
    "  c_comment\n",
    "FROM customers_new\n",
    "WHERE\n",
    "  CASE WHEN\n",
    "    is_account_group_member('admins') THEN TRUE\n",
    "    ELSE c_nationkey = 21\n",
    "  END;"
   ]
  },
  {
   "cell_type": "markdown",
   "metadata": {
    "application/vnd.databricks.v1+cell": {
     "cellMetadata": {},
     "inputWidgets": {},
     "nuid": "109f3f2e-38d0-426e-be61-0d934ee39679",
     "showTitle": false,
     "tableResultSettingsMap": {},
     "title": ""
    }
   },
   "source": [
    "3. Run the cell below to confirm that you have correctly masked the **c_phone** column in the **vw_customers** view. If an error is returned make sure the function is created and applied correctly."
   ]
  },
  {
   "cell_type": "code",
   "execution_count": 0,
   "metadata": {
    "application/vnd.databricks.v1+cell": {
     "cellMetadata": {},
     "inputWidgets": {},
     "nuid": "b94ca59a-5e55-4513-b25a-b74513f258bb",
     "showTitle": false,
     "tableResultSettingsMap": {},
     "title": ""
    }
   },
   "outputs": [],
   "source": [
    "%python\n",
    "sdf = spark.sql('SELECT c_phone FROM vw_customers GROUP BY c_phone')\n",
    "value = sdf.collect()[0][0]\n",
    "\n",
    "assert value == 'REDACTED PHONE NUMBER', 'The c_phone column should only contain the value \"REDACTED PHONE NUMBER\". Please use the following expression in the SELECT clause: CASE WHEN is_account_group_member(\"admins\") THEN c_phone ELSE \"REDACTED PHONE NUMBER\" END as c_phone.'\n",
    "print('You correctly applied the column mask to the vw_customers view.')"
   ]
  },
  {
   "cell_type": "markdown",
   "metadata": {
    "application/vnd.databricks.v1+cell": {
     "cellMetadata": {},
     "inputWidgets": {},
     "nuid": "84c683b4-5097-4cef-9e92-60ad31617835",
     "showTitle": false,
     "tableResultSettingsMap": {},
     "title": ""
    }
   },
   "source": [
    "4. Run the cell below to confirm that you added row filtering to the **customers** table column **c_nationkey** correctly."
   ]
  },
  {
   "cell_type": "code",
   "execution_count": 0,
   "metadata": {
    "application/vnd.databricks.v1+cell": {
     "cellMetadata": {},
     "inputWidgets": {},
     "nuid": "41768afa-2143-4c81-a223-25f778d4afe8",
     "showTitle": false,
     "tableResultSettingsMap": {},
     "title": ""
    }
   },
   "outputs": [],
   "source": [
    "%python\n",
    "sdf = spark.sql('SELECT c_nationkey FROM vw_customers GROUP BY c_nationkey')\n",
    "value = sdf.collect()[0][0]\n",
    "\n",
    "assert value == 21, 'The c_nationkey column should only contain the value 21. Please create the correct row filter in the view using the following expression in the WHERE clause: CASE WHEN is_account_group_member(\"admins\") THEN TRUE ELSE c_nationkey = 21 END.'\n",
    "print('You correctly applied the row filter to the view.')"
   ]
  },
  {
   "cell_type": "markdown",
   "metadata": {
    "application/vnd.databricks.v1+cell": {
     "cellMetadata": {},
     "inputWidgets": {},
     "nuid": "c789330e-2eb5-4578-8328-34ae81c4b893",
     "showTitle": false,
     "tableResultSettingsMap": {},
     "title": ""
    }
   },
   "source": [
    "5. Display the data in the **vw_customers** view. Confirm the **c_phone** column is redacted."
   ]
  },
  {
   "cell_type": "code",
   "execution_count": 0,
   "metadata": {
    "application/vnd.databricks.v1+cell": {
     "cellMetadata": {},
     "inputWidgets": {},
     "nuid": "7094e2c3-b4f5-4c87-b020-6b3a40de39b9",
     "showTitle": false,
     "tableResultSettingsMap": {},
     "title": ""
    }
   },
   "outputs": [],
   "source": [
    "SELECT * \n",
    "FROM vw_customers;"
   ]
  },
  {
   "cell_type": "markdown",
   "metadata": {
    "application/vnd.databricks.v1+cell": {
     "cellMetadata": {},
     "inputWidgets": {},
     "nuid": "5ffc55bc-f0fa-4944-95a4-bd2b0666f7a5",
     "showTitle": false,
     "tableResultSettingsMap": {},
     "title": ""
    }
   },
   "source": [
    "6. Count the number of rows in the **vw_customers** view. Confirm the view contains *29,859* rows."
   ]
  },
  {
   "cell_type": "code",
   "execution_count": 0,
   "metadata": {
    "application/vnd.databricks.v1+cell": {
     "cellMetadata": {},
     "inputWidgets": {},
     "nuid": "c4c03975-6ad9-45cd-9aeb-6777e148a8b2",
     "showTitle": false,
     "tableResultSettingsMap": {},
     "title": ""
    }
   },
   "outputs": [],
   "source": [
    "SELECT count(*)\n",
    "FROM vw_customers;"
   ]
  },
  {
   "cell_type": "markdown",
   "metadata": {
    "application/vnd.databricks.v1+cell": {
     "cellMetadata": {},
     "inputWidgets": {},
     "nuid": "9dc45ecf-1bf4-4ab4-85eb-a2c4a49d081b",
     "showTitle": false,
     "tableResultSettingsMap": {},
     "title": ""
    }
   },
   "source": [
    "### C2. Issue Grant Access to View\n",
    "1. Let us issue a grant for \"account users\" to view the **vw_customers** view.\n",
    "\n",
    "**NOTE:** You will also need to provide users access to the catalog and schema. In this shared training environment, you are unable to grant access to your catalog to other users.\n"
   ]
  },
  {
   "cell_type": "code",
   "execution_count": 0,
   "metadata": {
    "application/vnd.databricks.v1+cell": {
     "cellMetadata": {},
     "inputWidgets": {},
     "nuid": "0254bff9-732d-4b8e-9cab-514c9a761a9c",
     "showTitle": false,
     "tableResultSettingsMap": {},
     "title": ""
    }
   },
   "outputs": [],
   "source": [
    "GRANT SELECT ON VIEW vw_customers TO `account users`"
   ]
  },
  {
   "cell_type": "markdown",
   "metadata": {
    "application/vnd.databricks.v1+cell": {
     "cellMetadata": {},
     "inputWidgets": {},
     "nuid": "d03bd981-db81-4af7-8511-848dfd563415",
     "showTitle": false,
     "tableResultSettingsMap": {},
     "title": ""
    }
   },
   "source": [
    "2. Use the `SHOW` statement to displays all privileges (inherited, denied, and granted) that affect the **vw_customers** view. Confirm that the **Principal** column contains *account users*.\n",
    "\n",
    "    View the [SHOW GRANTS](https://docs.databricks.com/en/sql/language-manual/security-show-grant.html) documentation for help."
   ]
  },
  {
   "cell_type": "code",
   "execution_count": 0,
   "metadata": {
    "application/vnd.databricks.v1+cell": {
     "cellMetadata": {},
     "inputWidgets": {},
     "nuid": "1ef72c85-da47-4537-a4ad-506c4bc70df2",
     "showTitle": false,
     "tableResultSettingsMap": {},
     "title": ""
    }
   },
   "outputs": [],
   "source": [
    "SHOW GRANTS ON vw_customers"
   ]
  },
  {
   "cell_type": "markdown",
   "metadata": {
    "application/vnd.databricks.v1+cell": {
     "cellMetadata": {},
     "inputWidgets": {},
     "nuid": "4f462b7d-111a-4b23-a5ce-0e2c7459f9e4",
     "showTitle": false,
     "tableResultSettingsMap": {},
     "title": ""
    }
   },
   "source": [
    "\n",
    "&copy; 2025 Databricks, Inc. All rights reserved. Apache, Apache Spark, Spark, the Spark Logo, Apache Iceberg, Iceberg, and the Apache Iceberg logo are trademarks of the <a href=\"https://www.apache.org/\" target=\"blank\">Apache Software Foundation</a>.<br/>\n",
    "<br/><a href=\"https://databricks.com/privacy-policy\" target=\"blank\">Privacy Policy</a> | \n",
    "<a href=\"https://databricks.com/terms-of-use\" target=\"blank\">Terms of Use</a> | \n",
    "<a href=\"https://help.databricks.com/\" target=\"blank\">Support</a>\n"
   ]
  }
 ],
 "metadata": {
  "application/vnd.databricks.v1+notebook": {
   "computePreferences": null,
   "dashboards": [],
   "environmentMetadata": null,
   "inputWidgetPreferences": null,
   "language": "sql",
   "notebookMetadata": {
    "pythonIndentUnit": 4
   },
   "notebookName": "5L Solution - Securing Data in Unity Catalog",
   "widgets": {}
  },
  "language_info": {
   "name": "sql"
  }
 },
 "nbformat": 4,
 "nbformat_minor": 0
}