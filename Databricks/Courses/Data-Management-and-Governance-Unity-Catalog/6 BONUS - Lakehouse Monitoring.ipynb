{
 "cells": [
  {
   "cell_type": "markdown",
   "metadata": {
    "application/vnd.databricks.v1+cell": {
     "cellMetadata": {},
     "inputWidgets": {},
     "nuid": "3b9c1c9c-58ef-4327-ad6b-fd6ce80225e7",
     "showTitle": false,
     "tableResultSettingsMap": {},
     "title": ""
    }
   },
   "source": [
    "\n",
    "<div style=\"text-align: center; line-height: 0; padding-top: 9px;\">\n",
    "  <img src=\"https://databricks.com/wp-content/uploads/2018/03/db-academy-rgb-1200px.png\" alt=\"Databricks Learning\">\n",
    "</div>\n"
   ]
  },
  {
   "cell_type": "markdown",
   "metadata": {
    "application/vnd.databricks.v1+cell": {
     "cellMetadata": {},
     "inputWidgets": {},
     "nuid": "b10b58d0-7218-4b81-97f9-5b0c217e7bd5",
     "showTitle": false,
     "tableResultSettingsMap": {},
     "title": ""
    }
   },
   "source": [
    "# Lakehouse Monitoring\n",
    "\n",
    "Databricks Lakehouse Monitoring lets you monitor statistical properties and quality of the data in a particular table or all tables in your account. To monitor a table in Databricks, you create a monitor attached to the table."
   ]
  },
  {
   "cell_type": "markdown",
   "metadata": {
    "application/vnd.databricks.v1+cell": {
     "cellMetadata": {},
     "inputWidgets": {},
     "nuid": "9f6277e9-9fc4-4fa5-ba64-a6254d87ec74",
     "showTitle": false,
     "tableResultSettingsMap": {},
     "title": ""
    }
   },
   "source": [
    "### Learning Objectives\n",
    "By the end of this demo, you will be able to:\n",
    "1. Learn use Lakehouse Monitoring on a table."
   ]
  },
  {
   "cell_type": "markdown",
   "metadata": {
    "application/vnd.databricks.v1+cell": {
     "cellMetadata": {},
     "inputWidgets": {},
     "nuid": "fb2c80b0-ec4f-442c-a1df-9c3085c598f8",
     "showTitle": false,
     "tableResultSettingsMap": {},
     "title": ""
    }
   },
   "source": [
    "## REQUIRED - SELECT CLASSIC COMPUTE\n",
    "\n",
    "Before executing cells in this notebook, please select your classic compute cluster in the lab. Be aware that **Serverless** is enabled by default.\n",
    "\n",
    "Follow these steps to select the classic compute cluster:\n",
    "\n",
    "\n",
    "1. Navigate to the top-right of this notebook and click the drop-down menu to select your cluster. By default, the notebook will use **Serverless**.\n",
    "\n",
    "2. If your cluster is available, select it and continue to the next cell. If the cluster is not shown:\n",
    "\n",
    "   - Click **More** in the drop-down.\n",
    "\n",
    "   - In the **Attach to an existing compute resource** window, use the first drop-down to select your unique cluster.\n",
    "\n",
    "**NOTE:** If your cluster has terminated, you might need to restart it in order to select it. To do this:\n",
    "\n",
    "1. Right-click on **Compute** in the left navigation pane and select *Open in new tab*.\n",
    "\n",
    "2. Find the triangle icon to the right of your compute cluster name and click it.\n",
    "\n",
    "3. Wait a few minutes for the cluster to start.\n",
    "\n",
    "4. Once the cluster is running, complete the steps above to select your cluster."
   ]
  },
  {
   "cell_type": "markdown",
   "metadata": {
    "application/vnd.databricks.v1+cell": {
     "cellMetadata": {},
     "inputWidgets": {},
     "nuid": "eea69b9f-5af5-433e-9fef-89d4adff8689",
     "showTitle": false,
     "tableResultSettingsMap": {},
     "title": ""
    }
   },
   "source": [
    "## A. Classroom Setup\n",
    "\n",
    "Run the following cell to configure your working environment for this course. It will also set your default catalog to **dbacademy** and the schema to your specific schema name shown below using the `USE` statements.\n",
    "<br></br>\n",
    "\n",
    "\n",
    "```\n",
    "USE CATALOG <your catalog>;\n",
    "USE SCHEMA <your catalog>.<schema>;\n",
    "```\n",
    "\n",
    "**NOTE:** The `DA` object is only used in Databricks Academy courses and is not available outside of these courses. It will dynamically reference the information needed to run the course."
   ]
  },
  {
   "cell_type": "code",
   "execution_count": 0,
   "metadata": {
    "application/vnd.databricks.v1+cell": {
     "cellMetadata": {},
     "inputWidgets": {},
     "nuid": "96e2e597-e288-417a-9229-ae3f94d46762",
     "showTitle": false,
     "tableResultSettingsMap": {},
     "title": ""
    }
   },
   "outputs": [],
   "source": [
    "%run ./Includes/Classroom-Setup-6"
   ]
  },
  {
   "cell_type": "markdown",
   "metadata": {
    "application/vnd.databricks.v1+cell": {
     "cellMetadata": {},
     "inputWidgets": {},
     "nuid": "1fade4e7-9470-46f9-8195-b2c568478e82",
     "showTitle": false,
     "tableResultSettingsMap": {},
     "title": ""
    }
   },
   "source": [
    "## B. Databricks Lakehouse Monitoring \n",
    "### NOTES (PLEASE READ)\n",
    "**This demonstration takes about 25 minutes to complete by an instructor. Complete this bonus demonstration in one of the following methods:**\n",
    "1. (Complete as live demo in an instructor lead class - 25 minutes) Start the demo and take a 10 minute break while the monitor is being created. When you update the monitor it will take another 5-7 minutes to update.\n",
    "\n",
    "1.  (Show basics, then use screenshots as walkthrough - 10 minutes) Simply create the monitor and use the screenshots below to show what the monitor looks like. User's can perform this demonstration after class.\n",
    "\n",
    "1.  (Do it yourself student lab assignment  - 30 minutes) User complete as homework/lab assignment depending on time."
   ]
  },
  {
   "cell_type": "markdown",
   "metadata": {
    "application/vnd.databricks.v1+cell": {
     "cellMetadata": {},
     "inputWidgets": {},
     "nuid": "b9e632dc-64d8-4220-869d-a39bdd44eab9",
     "showTitle": false,
     "tableResultSettingsMap": {},
     "title": ""
    }
   },
   "source": [
    "### B1. Create a Monitor\n",
    "We can create a monitor using the Catalog Explorer or the API. Let's use the Catalog Explorer to create a monitor attached to our **`silver`** table under user's catalog.\n",
    "\n",
    "1. If you aren't already on the **Quality** tab, click it. \n",
    "\n",
    "1. To create a new monitor, click **Get Started**. \n",
    "\n",
    "1. Drop down the **Profile type** and select **Snapshot**. \n",
    "\n",
    "1. Drop down **Advanced options**, and select **Refresh manually** radio button.\n",
    "\n",
    "1. Click **Create**.\n",
    "\n",
    "**NOTE:** Creating a monitor can take up to 10 minutes. Wait until the monitor is fully created before running the next cell.\n",
    "\n",
    "1. To view the progress of the refresh:\n",
    "      - Refresh your browser\n",
    "      - Select **View refresh history**.\n",
    "\n",
    "\n",
    "<!--  -->\n",
    "\n",
    "   ![Class_6_image-1.png](./Includes/images/Class_6_image-1.png)\n",
    "\n",
    "\n",
    "<!-- ![Image Title](../Includes/images/Class_6_image-1.png) -->"
   ]
  },
  {
   "cell_type": "markdown",
   "metadata": {
    "application/vnd.databricks.v1+cell": {
     "cellMetadata": {},
     "inputWidgets": {},
     "nuid": "aed28eda-45e3-4e5a-85a1-d2478ec9946f",
     "showTitle": false,
     "tableResultSettingsMap": {},
     "title": ""
    }
   },
   "source": [
    "### B2. Looking at the Monitor's Dashboard\n",
    "\n",
    "1. Once the initial update is complete, click **View dashboard** on the monitor page to open the monitor's example dashboard. Leave the **Quality** page open.\n",
    "\n",
    "1. Since we have been using sample data, we need to change the dropdowns for **Start Time** and **End Time** to fit the dates in the data. \n",
    "\n",
    "1. Drop down **Start Time** by clicking on the number 12 (not the calendar icon) in the dropdown field. \n",
    "\n",
    "1. Click the double, left-pointing arrow until you reach \"2019.\" \n",
    "\n",
    "1. Select the first day of any month in 2019 and Click **Ok**.\n",
    "\n",
    "1. Click the calendar icon in the **End Time** field, and select **Now**.\n",
    "\n",
    "1. In the top right corner you will need to select a SQL warehouse. Select the drop down and select **shared_warehouse**.\n",
    "  \n",
    "1. The dashboard runs a refresh. When the refresh completes, explore some of the visualizations in the dashboard.\n",
    "\n",
    "<!--  -->\n",
    "![Class_6_image-2.png](./Includes/images/Class_6_image-2.png)\n",
    "\n",
    "<!-- ![Image Title](../images/Class_6_image-2.png) -->"
   ]
  },
  {
   "cell_type": "markdown",
   "metadata": {
    "application/vnd.databricks.v1+cell": {
     "cellMetadata": {},
     "inputWidgets": {},
     "nuid": "7f7bd7b2-5dc8-45be-9a02-dac85b5ca9b3",
     "showTitle": false,
     "tableResultSettingsMap": {},
     "title": ""
    }
   },
   "source": [
    "### B3. Add More Data (30 more rows)\n",
    "1. Run the following two cells to add more data to the **silver** table."
   ]
  },
  {
   "cell_type": "code",
   "execution_count": 0,
   "metadata": {
    "application/vnd.databricks.v1+cell": {
     "cellMetadata": {},
     "inputWidgets": {},
     "nuid": "dff3fdb8-f40b-4010-942f-fd0f0ea3d626",
     "showTitle": false,
     "tableResultSettingsMap": {},
     "title": ""
    }
   },
   "outputs": [],
   "source": [
    "INSERT INTO silver VALUES\n",
    "  (23,'40580129','Nicholas Spears','2024-02-01T00:01:58.000+0000',54.0122153343),\n",
    "  (17,'52804177','Lynn Russell','2024-02-01T00:02:55.000+0000',92.5136468131),\n",
    "  (37,'65300842','Samuel Hughes','2024-02-01T00:08:58.000+0000',52.1354807863),\n",
    "  (23,'40580129','Nicholas Spears','2024-02-01T00:16:51.000+0000',54.6477014191),\n",
    "  (17,'52804177','Lynn Russell','2024-02-01T00:18:08.000+0000',95.033344842),\n",
    "  (37,'65300842','Samuel Hughes','2024-02-01T00:23:58.000+0000',57.3391541312),\n",
    "  (23,'40580129','Nicholas Spears','2024-02-01T00:31:58.000+0000',56.6165053697),\n",
    "  (17,'52804177','Lynn Russell','2024-02-01T00:32:56.000+0000',94.8134313932),\n",
    "  (37,'65300842','Samuel Hughes','2024-02-01T00:38:54.000+0000',56.2469995332),\n",
    "  (23,'40580129','Nicholas Spears','2024-02-01T00:46:57.000+0000',54.8372685558),\n",
    "  (23,'40580129',NULL,'2024-02-01T00:01:58.000+0000',54.0122153343),\n",
    "  (17,'52804177',NULL,'2024-02-01T00:02:55.000+0000',92.5136468131),\n",
    "  (37,'65300842',NULL,'2024-02-01T00:08:58.000+0000',1000052.1354807863),\n",
    "  (23,'40580129',NULL,'2024-02-01T00:16:51.000+0000',54.6477014191),\n",
    "  (17,'52804177','Lynn Russell','2024-02-01T00:18:08.000+0000',0),\n",
    "  (37,'65300842','Samuel Hughes','2024-02-01T00:23:58.000+0000',0),\n",
    "  (23,'40580129','Nicholas Spears','2024-02-01T00:31:58.000+0000',0),\n",
    "  (17,'52804177','Lynn Russell','2024-02-01T00:32:56.000+0000',0),\n",
    "  (37,'65300842','Samuel Hughes','2024-02-01T00:38:54.000+0000',0),\n",
    "  (23,'40580129','Nicholas Spears','2024-02-01T00:46:57.000+0000',0),\n",
    "  (23,'40580129',NULL,'2024-02-01T00:01:58.000+0000',54.0122153343),\n",
    "  (17,'52804177',NULL,'2024-02-01T00:02:55.000+0000',92.5136468131),\n",
    "  (37,'65300842',NULL,'2024-02-01T00:08:58.000+0000',1000052.1354807863),\n",
    "  (23,'40580129',NULL,'2024-02-01T00:16:51.000+0000',54.6477014191),\n",
    "  (17,'52804177','Lynn Russell','2024-02-01T00:18:08.000+0000',0),\n",
    "  (37,'65300842','Samuel Hughes','2024-02-01T00:23:58.000+0000',0),\n",
    "  (23,'40580129','Nicholas Spears','2024-02-01T00:31:58.000+0000',0),\n",
    "  (17,'52804177','Lynn Russell','2024-02-01T00:32:56.000+0000',0),\n",
    "  (37,'65300842','Samuel Hughes','2024-02-01T00:38:54.000+0000',0),\n",
    "  (23,'40580129','Nicholas Spears','2024-02-01T00:46:57.000+0000',0);"
   ]
  },
  {
   "cell_type": "markdown",
   "metadata": {
    "application/vnd.databricks.v1+cell": {
     "cellMetadata": {},
     "inputWidgets": {},
     "nuid": "dc6a5be6-23d7-4044-afd4-0b0db90fd21e",
     "showTitle": false,
     "tableResultSettingsMap": {},
     "title": ""
    }
   },
   "source": [
    "### B4. Refresh the Monitor After Inserting New Data\n",
    "1. Navigate back to the monitor tab and select **Refresh metrics** (this one should not take as long as the first one). \n",
    "\n",
    "1. Click on **View refresh history**. Notice that the monitor is refreshing (about 5 minutes).\n",
    "\n",
    "1. When the refresh is complete, navigate back to the dashboard.\n",
    "\n",
    "1. In the refreshed dashboard, notice additional information with the new data is shown.\n",
    "\n",
    "\n",
    "<!--  -->\n",
    "![Class_6_image-3.png](./Includes/images/Class_6_image-3.png)\n",
    "<!-- ![Image Title](../images/Class_6_image-3.png) -->"
   ]
  },
  {
   "cell_type": "markdown",
   "metadata": {
    "application/vnd.databricks.v1+cell": {
     "cellMetadata": {},
     "inputWidgets": {},
     "nuid": "80fc9aa3-a9df-44d0-9143-d8ddbce02f70",
     "showTitle": false,
     "tableResultSettingsMap": {},
     "title": ""
    }
   },
   "source": [
    "\n",
    "&copy; 2025 Databricks, Inc. All rights reserved. Apache, Apache Spark, Spark, the Spark Logo, Apache Iceberg, Iceberg, and the Apache Iceberg logo are trademarks of the <a href=\"https://www.apache.org/\" target=\"blank\">Apache Software Foundation</a>.<br/>\n",
    "<br/><a href=\"https://databricks.com/privacy-policy\" target=\"blank\">Privacy Policy</a> | \n",
    "<a href=\"https://databricks.com/terms-of-use\" target=\"blank\">Terms of Use</a> | \n",
    "<a href=\"https://help.databricks.com/\" target=\"blank\">Support</a>\n"
   ]
  }
 ],
 "metadata": {
  "application/vnd.databricks.v1+notebook": {
   "computePreferences": null,
   "dashboards": [],
   "environmentMetadata": null,
   "inputWidgetPreferences": null,
   "language": "sql",
   "notebookMetadata": {
    "pythonIndentUnit": 4
   },
   "notebookName": "6 BONUS - Lakehouse Monitoring",
   "widgets": {}
  },
  "language_info": {
   "name": "sql"
  }
 },
 "nbformat": 4,
 "nbformat_minor": 0
}